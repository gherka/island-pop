{
 "cells": [
  {
   "cell_type": "code",
   "execution_count": 1,
   "metadata": {},
   "outputs": [],
   "source": [
    "import pandas as pd\n",
    "import numpy as np"
   ]
  },
  {
   "cell_type": "code",
   "execution_count": 2,
   "metadata": {},
   "outputs": [
    {
     "data": {
      "application/javascript": [
       "IPython.notebook.set_autosave_interval(0)"
      ]
     },
     "metadata": {},
     "output_type": "display_data"
    },
    {
     "name": "stdout",
     "output_type": "stream",
     "text": [
      "Autosave disabled\n"
     ]
    }
   ],
   "source": [
    "%autosave 0"
   ]
  },
  {
   "cell_type": "markdown",
   "metadata": {},
   "source": [
    "<center>\n",
    "**Read in the files and format to match the requirements of the projection-generating script**\n",
    "<br></br>\n",
    "<br></br>\n",
    "</center>\n",
    "Some notes on the source files:\n",
    "- The file with mortality projections comes from the NRS in the .xml format. Convert it to Excel first.\n",
    "- The Uist population file needs to be re-shaped first from wide to long format so that it has just three columns: Age, Gender and count of population."
   ]
  },
  {
   "cell_type": "code",
   "execution_count": 3,
   "metadata": {},
   "outputs": [],
   "source": [
    "df_uist = pd.read_excel('Data/2016_Uist_data.xlsx')\n",
    "df_mort = pd.read_excel('Data/sc_ppz_opendata2016.xlsx', sheet_name='Mortality_assumptions')\n",
    "#rename the gender values to be descriptive\n",
    "df_mort['Sex'] = df_mort['Sex'].map({1:'Male', 2:'Female'})"
   ]
  },
  {
   "cell_type": "code",
   "execution_count": 4,
   "metadata": {},
   "outputs": [],
   "source": [
    "#set indexes on gender+age for quicker lookups as indexes are hash tables\n",
    "df_mort.set_index(df_mort['Sex'] + df_mort['Age'].astype('str').str.strip(), inplace=True)\n",
    "#drop sex and age columns\n",
    "df_mort.drop(columns=['Sex', 'Age'], inplace=True)"
   ]
  },
  {
   "cell_type": "code",
   "execution_count": 5,
   "metadata": {},
   "outputs": [],
   "source": [
    "#recode the year columns, assuming the originals are of the format '2016-2017'\n",
    "orig_cols = df_mort.columns.values\n",
    "new_cols = [int(x[0:4]) for x in orig_cols]\n",
    "mapper = dict(zip(orig_cols, new_cols))\n",
    "df_mort.rename(mapper=mapper, axis=1, inplace=True)"
   ]
  },
  {
   "cell_type": "code",
   "execution_count": 6,
   "metadata": {},
   "outputs": [],
   "source": [
    "#round the mortality rates to whole numbers for simplicity\n",
    "df_mort = df_mort.round()"
   ]
  },
  {
   "cell_type": "code",
   "execution_count": 7,
   "metadata": {},
   "outputs": [],
   "source": [
    "#do the same for Uist dataset so that they are aligned\n",
    "df_uist['index_col'] = df_uist['Gender'] + df_uist['Age'].astype('str').str.strip()\n",
    "df_uist.set_index('index_col', drop=False, inplace=True)"
   ]
  },
  {
   "cell_type": "markdown",
   "metadata": {},
   "source": [
    "<center>\n",
    "**Projection code**\n",
    "</center>"
   ]
  },
  {
   "cell_type": "code",
   "execution_count": 8,
   "metadata": {},
   "outputs": [],
   "source": [
    "def population_projection(df_pop, df_mort, years, reps, old_age_mortality, **kwargs):\n",
    "    \"\"\"\n",
    "    Using the information on population structure in baseline year\n",
    "    project the growth or decline of that structure forward given \n",
    "    number of years and old age (90+) mortality.\n",
    "    \n",
    "    The function takes an optional parameter:\n",
    "    - 'starting_year' which can be used if the data structure file \n",
    "    is updated before the mortality projection is re-based. \n",
    "    The default value is 2016.\n",
    "    \"\"\"\n",
    "    \n",
    "    #check if any optional parameters had been passed\n",
    "    starting_year = 2016\n",
    "    if 'starting_year' in kwargs:\n",
    "        starting_year = kwargs[\"starting_year\"]\n",
    "    #store the old age mortality (supplied as value between 0 and 1)\n",
    "    old_age = 100000 * old_age_mortality\n",
    "    \n",
    "    def _survival_vector(row):\n",
    "        \"\"\"\n",
    "        Helper function to probabilistically determine\n",
    "        how many of the starter population survive given\n",
    "        that year's survival rates\n",
    "        \"\"\"\n",
    "        dice = np.random.randint(0, 100000, int(row['Pop_Count']))\n",
    "        \n",
    "        if (row['index_col'] == 'Female90+') | (row['index_col'] == 'Male90+'):\n",
    "            mort = old_age\n",
    "        else:\n",
    "            mort = df_mort.loc[row['index_col'],j]\n",
    "            \n",
    "        success = list(dice > mort)\n",
    "        return success.count(True)\n",
    "    \n",
    "    sim = [] #used for generating lines in the visualisation\n",
    "    x = [] #years\n",
    "    y = [] #total sum of projected population\n",
    "    \n",
    "    for i in range(reps):\n",
    "        #split the original DF into male and female for shifts to work correctly\n",
    "        df_male = df_pop[df_pop['Gender'] == 'Male'].copy()\n",
    "        df_female = df_pop[df_pop['Gender'] == 'Female'].copy()\n",
    "        \n",
    "        #add the starting points at the beginning of each rep\n",
    "        x.append(starting_year)\n",
    "        y.append(df_pop['Pop_Count'].sum()) \n",
    "        sim.append(i)\n",
    "    \n",
    "        for j in range(starting_year, starting_year + years + 1):\n",
    "            \n",
    "            #special case for the first year excludes step 2.\n",
    "            if j == starting_year:\n",
    "                survived_male = df_male.copy().apply(_survival_vector, axis=1)\n",
    "                survived_female = df_female.copy().apply(_survival_vector, axis=1)\n",
    "                male_90 = survived_male.loc['Male90+']\n",
    "                female_90 = survived_female.loc['Female90+']\n",
    "                survived_male_new = survived_male.shift(1).fillna(0)\n",
    "                survived_female_new = survived_female.shift(1).fillna(0)\n",
    "                df_male.loc[:,'Pop_Count'] = survived_male_new.copy()\n",
    "                df_female.loc[:,'Pop_Count'] = survived_female_new.copy()\n",
    "                df_male.loc['Male90+', 'Pop_Count'] += male_90\n",
    "                df_female.loc['Female90+', 'Pop_Count'] += female_90\n",
    "                \n",
    "            else:\n",
    "                \n",
    "#                 UNCOMMENT SECTION(S) BELOW TO SHOW DEBUGGING PRINTS\n",
    "#                 -------------------------------------------------\n",
    "#                 print('>Number of males at the start of {}'.format(j))\n",
    "#                 print('Males aged 0: {}\\nMales aged 1: {}\\nMales aged 2: {}'.\n",
    "#                       format(df_male.loc['Male0','Pop_Count'],\n",
    "#                              df_male.loc['Male1','Pop_Count'],\n",
    "#                              df_male.loc['Male2','Pop_Count']))\n",
    "#                 print('Males aged 88: {}\\nMales aged 89: {}\\nMales aged 90+: {}'.\n",
    "#                       format(df_male.loc['Male88','Pop_Count'],\n",
    "#                              df_male.loc['Male89','Pop_Count'],\n",
    "#                              df_male.loc['Male90+','Pop_Count']))\n",
    "                \n",
    "                #At the end of each new year every person in the population either dies or not (1)\n",
    "                #If they survive, they are summed for the projected population for that year (2)\n",
    "                #The 90+ survivors have to be \"stored\" so that they can be added to 89 survivors;\n",
    "                #otherwise they will dropped off when the survivor vector shifts by 1 (3)\n",
    "                #Next, the survivors are \"aged\" by 1 to be the base for next year(4)\n",
    "\n",
    "                #1)\n",
    "                survived_male = df_male.copy().apply(_survival_vector, axis=1)\n",
    "                survived_female = df_female.copy().apply(_survival_vector, axis=1)\n",
    "\n",
    "                #2)\n",
    "                x.append(j)\n",
    "                y.append(survived_male.copy().sum() + survived_female.copy().sum())\n",
    "                sim.append(i)\n",
    "\n",
    "                #3)\n",
    "                male_90 = survived_male.loc['Male90+']\n",
    "                female_90 = survived_female.loc['Female90+']\n",
    "\n",
    "                #4)\n",
    "                survived_male_new = survived_male.shift(1).fillna(0)\n",
    "                survived_female_new = survived_female.shift(1).fillna(0)\n",
    "                df_male.loc[:,'Pop_Count'] = survived_male_new.copy()\n",
    "                df_female.loc[:,'Pop_Count'] = survived_female_new.copy()\n",
    "                df_male.loc['Male90+', 'Pop_Count'] += male_90\n",
    "                df_female.loc['Female90+', 'Pop_Count'] += female_90\n",
    "            \n",
    "#                 UNCOMMENT SECTION(S) BELOW TO SHOW DEBUGGING PRINTS\n",
    "#                 -------------------------------------------------\n",
    "#                 print('>Survived males to age into 90++ by end of {}: {}'.format(j, male_90))\n",
    "#                 print('>Number of surviving males at the end of {}'.format(j))\n",
    "#                 print('Males aged 0: {}\\nMales aged 1: {}\\nMales aged 2: {}'.\n",
    "#                       format(survived_male.loc['Male0'],\n",
    "#                              survived_male.loc['Male1'],\n",
    "#                              survived_male.loc['Male2']))\n",
    "#                 print('Males aged 88: {}\\nMales aged 89: {}\\nMales aged 90+: {}'.\n",
    "#                       format(survived_male.loc['Male88'],\n",
    "#                              survived_male.loc['Male89'],\n",
    "#                              survived_male.loc['Male90+']))\n",
    "\n",
    "    d3_df = pd.DataFrame(data={'Year':x, 'Pop_Count':y, 'SIM':sim})\n",
    "    return d3_df"
   ]
  },
  {
   "cell_type": "markdown",
   "metadata": {},
   "source": [
    "<center>Population Pyramid Code</center>"
   ]
  },
  {
   "cell_type": "code",
   "execution_count": 9,
   "metadata": {},
   "outputs": [],
   "source": [
    "def population_pyramid(df_pop, df_mort, years, reps, old_age_mortality, **kwargs):\n",
    "    \"\"\"\n",
    "    Using the information on population structure in baseline year\n",
    "    project the growth or decline of that structure forward given \n",
    "    number of years and old age (90+) mortality.\n",
    "    \n",
    "    The function takes an optional parameter:\n",
    "    - 'starting_year' which can be used if the data structure file \n",
    "    is updated before the mortality projection is re-based. \n",
    "    The default value is 2016.\n",
    "    \"\"\"\n",
    "    \n",
    "    #check if any optional parameters had been passed\n",
    "    starting_year = 2016\n",
    "    if 'starting_year' in kwargs:\n",
    "        starting_year = kwargs[\"starting_year\"]\n",
    "    #store the old age mortality (supplied as value between 0 and 1)\n",
    "    old_age = 100000 * old_age_mortality\n",
    "    \n",
    "    def _survival_vector(row):\n",
    "        \"\"\"\n",
    "        Helper function to probabilistically determine\n",
    "        how many of the starter population survive given\n",
    "        that year's survival rates\n",
    "        \"\"\"\n",
    "        dice = np.random.randint(0, 100000, int(row['Pop_Count']))\n",
    "        if (row['index_col'] == 'Female90+') | (row['index_col'] == 'Male90+'):\n",
    "            mort = old_age\n",
    "        else:\n",
    "            mort = df_mort.loc[row['index_col'],j]\n",
    "            \n",
    "        success = list(dice > mort)\n",
    "        return success.count(True)\n",
    "    \n",
    "    sim = [] #number of times to repeat the projection\n",
    "    x = [] #years\n",
    "    y = [] #projected population at a given year\n",
    "    age = []\n",
    "    gender = []\n",
    "    \n",
    "    for i in range(reps):\n",
    "        #split the original DF into male and female for shifts to work correctly\n",
    "        df_male = df_pop[df_pop['Gender'] == 'Male'].copy()\n",
    "        df_female = df_pop[df_pop['Gender'] == 'Female'].copy()\n",
    "        \n",
    "        #add the starting points at the beginning of each rep.\n",
    "        #There are a total of 91 rows for ages 0-90+\n",
    "        x += [starting_year] * 2 * 91\n",
    "        y += df_pop['Pop_Count'].tolist()\n",
    "        age += df_pop['Age'].tolist() * (years + 1)\n",
    "        gender += df_pop['Gender'].tolist() * (years + 1)\n",
    "        sim += [i] * (years+1) * 2 * 91\n",
    "    \n",
    "        for j in range(starting_year, starting_year + years + 1):\n",
    "\n",
    "            if j == starting_year:\n",
    "                survived_male = df_male.copy().apply(_survival_vector, axis=1)\n",
    "                survived_female = df_female.copy().apply(_survival_vector, axis=1)\n",
    "                male_90 = survived_male.loc['Male90+']\n",
    "                female_90 = survived_female.loc['Female90+']\n",
    "                survived_male_new = survived_male.shift(1).fillna(0)\n",
    "                survived_female_new = survived_female.shift(1).fillna(0)\n",
    "                df_male.loc[:,'Pop_Count'] = survived_male_new.copy()\n",
    "                df_female.loc[:,'Pop_Count'] = survived_female_new.copy()\n",
    "                df_male.loc['Male90+', 'Pop_Count'] += male_90\n",
    "                df_female.loc['Female90+', 'Pop_Count'] += female_90\n",
    "                \n",
    "            else:\n",
    "                \n",
    "                survived_male = df_male.copy().apply(_survival_vector, axis=1)\n",
    "                survived_female = df_female.copy().apply(_survival_vector, axis=1)\n",
    "                \n",
    "                x += [j] * 2 * 91\n",
    "                y = y + survived_female.copy().tolist() + survived_male.copy().tolist()\n",
    "\n",
    "                male_90 = survived_male.loc['Male90+']\n",
    "                female_90 = survived_female.loc['Female90+']\n",
    "\n",
    "                survived_male_new = survived_male.shift(1).fillna(0)\n",
    "                survived_female_new = survived_female.shift(1).fillna(0)\n",
    "                df_male.loc[:,'Pop_Count'] = survived_male_new.copy()\n",
    "                df_female.loc[:,'Pop_Count'] = survived_female_new.copy()\n",
    "                df_male.loc['Male90+', 'Pop_Count'] += male_90\n",
    "                df_female.loc['Female90+', 'Pop_Count'] += female_90\n",
    "            \n",
    "    pyramid_df = pd.DataFrame(data={'Year':x, 'Age': age, 'Gender': gender,\n",
    "                                    'Pop_Count':y, 'SIM':sim})\n",
    "    \n",
    "    #add reference population for comparison\n",
    "    pyramid_df = pyramid_df.merge(df_pop, how='left', on=['Age', 'Gender'],\n",
    "                                  suffixes=['_Projection', '_Reference'])\n",
    "        \n",
    "    return pyramid_df"
   ]
  },
  {
   "cell_type": "markdown",
   "metadata": {},
   "source": [
    "<center>Run the population pyramid projection and save to .csv</center>"
   ]
  },
  {
   "cell_type": "code",
   "execution_count": 10,
   "metadata": {},
   "outputs": [],
   "source": [
    "data = population_pyramid(df_uist, df_mort, 20, 1, 0.4)\n",
    "data.to_csv('data/pop_pyramid.csv', index=False)"
   ]
  },
  {
   "cell_type": "markdown",
   "metadata": {},
   "source": [
    "<center>Run the projection function to create low, medium and high variants</center>"
   ]
  },
  {
   "cell_type": "code",
   "execution_count": 10,
   "metadata": {},
   "outputs": [],
   "source": [
    "low = population_projection(df_uist, df_mort, 30, 100, 0.2)\n",
    "medium = population_projection(df_uist, df_mort, 30, 100, 0.35)\n",
    "high = population_projection(df_uist, df_mort, 30, 100, 0.5)"
   ]
  },
  {
   "cell_type": "code",
   "execution_count": 11,
   "metadata": {},
   "outputs": [],
   "source": [
    "#add identifiers to the projections and concatenate\n",
    "low['variant'] = 'Low'\n",
    "medium['variant'] = 'Medium'\n",
    "high['variant'] = 'High'"
   ]
  },
  {
   "cell_type": "code",
   "execution_count": 12,
   "metadata": {},
   "outputs": [],
   "source": [
    "df_final = pd.concat([low, medium, high], ignore_index=True)"
   ]
  },
  {
   "cell_type": "code",
   "execution_count": 13,
   "metadata": {},
   "outputs": [],
   "source": [
    "df_final.to_csv('data/pop_projection.csv', index=False)"
   ]
  }
 ],
 "metadata": {
  "kernelspec": {
   "display_name": "Python 3",
   "language": "python",
   "name": "python3"
  },
  "language_info": {
   "codemirror_mode": {
    "name": "ipython",
    "version": 3
   },
   "file_extension": ".py",
   "mimetype": "text/x-python",
   "name": "python",
   "nbconvert_exporter": "python",
   "pygments_lexer": "ipython3",
   "version": "3.6.4"
  }
 },
 "nbformat": 4,
 "nbformat_minor": 2
}
