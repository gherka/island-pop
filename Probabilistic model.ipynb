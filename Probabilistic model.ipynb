{
 "cells": [
  {
   "cell_type": "code",
   "execution_count": 1,
   "metadata": {},
   "outputs": [],
   "source": [
    "import pandas as pd\n",
    "import numpy as np"
   ]
  },
  {
   "cell_type": "code",
   "execution_count": 2,
   "metadata": {},
   "outputs": [
    {
     "data": {
      "application/javascript": [
       "IPython.notebook.set_autosave_interval(0)"
      ]
     },
     "metadata": {},
     "output_type": "display_data"
    },
    {
     "name": "stdout",
     "output_type": "stream",
     "text": [
      "Autosave disabled\n"
     ]
    }
   ],
   "source": [
    "%autosave 0"
   ]
  },
  {
   "cell_type": "code",
   "execution_count": 10,
   "metadata": {},
   "outputs": [],
   "source": [
    "df = pd.read_excel('Data/2016_Uist_data.xlsx')"
   ]
  },
  {
   "cell_type": "code",
   "execution_count": 12,
   "metadata": {},
   "outputs": [],
   "source": [
    "def population_projection(dataframe, years, reps, old_age_mortality):\n",
    "    \"\"\"\n",
    "    Using the information on population structure in baseline year\n",
    "    project the growth or decline of that structure forward given \n",
    "    number of years.\n",
    "    \"\"\"    \n",
    "    df = dataframe.copy()\n",
    "    df.iloc[90,4] = 100000 * old_age_mortality\n",
    "    df.iloc[181,4] = 100000 * old_age_mortality\n",
    "    \n",
    "    def _survival_vector(row):\n",
    "        \"\"\"\n",
    "        Helper function to probabilistically determine\n",
    "        how many of the starter population survive given\n",
    "        survival rates\n",
    "        \"\"\"\n",
    "        dice = np.random.randint(0, 100000, int(row['Pop_Count']))\n",
    "        success = list(dice > row['Mortality_per_100000'])\n",
    "        return success.count(True)\n",
    "\n",
    "    d = {} #dictionary for Bokeh multiline\n",
    "    test_dict = {} #dictionary for DFs for model testing\n",
    "    \n",
    "    for i in range(reps):\n",
    "        #reset x, y and df every rep\n",
    "        x = [0] #years\n",
    "        y = [4679] #total sum of projected population\n",
    "        df_male = df[df['Gender'] == 'Male'].reset_index(drop=True)\n",
    "        df_female = df[df['Gender'] == 'Female'].reset_index(drop=True)\n",
    "        \n",
    "        ppyr_df = pd.DataFrame(columns=['Age', 'Year', 'Gender', 'Pop_Count'])\n",
    "    \n",
    "        for j in range(1, years + 1):\n",
    "            \n",
    "            male_90 = 0\n",
    "            female_90 = 0\n",
    "            \n",
    "            survived_vector_male = df_male.copy().apply(_survival_vector, axis=1)\n",
    "            survived_vector_female = df_female.copy().apply(_survival_vector, axis=1)\n",
    "            male_90 = survived_vector_male[90]\n",
    "            female_90 = survived_vector_female[90]\n",
    "            \n",
    "            #append the year's population totals to the multiline lists\n",
    "            x.append(j)\n",
    "            y.append(survived_vector_male.copy().sum()+survived_vector_female.copy().sum())\n",
    "            \n",
    "            #overwrite the population counts & add the survivors to the 90+ group\n",
    "            df_male.loc[:,'Pop_Count'] = survived_vector_male.shift(1).fillna(0)\n",
    "            df_female.loc[:,'Pop_Count'] = survived_vector_female.shift(1).fillna(0)\n",
    "            df_male.loc[90, 'Pop_Count'] += male_90\n",
    "            df_female.loc[90, 'Pop_Count'] += female_90\n",
    "            \n",
    "            #create a population pyramid df for the first rep\n",
    "            if i == 0:\n",
    "            \n",
    "                ppyr_df = ppyr_df.append(df_male.copy()[['Age','Gender','Pop_Count']],\n",
    "                                         ignore_index=True)\n",
    "                ppyr_df = ppyr_df.append(df_female.copy()[['Age','Gender','Pop_Count']],\n",
    "                                         ignore_index=True)\n",
    "                ppyr_df.fillna(j, inplace=True) #since we don't append year, each iteration will create\n",
    "                                                #generate the exact number of NaNs that we want.\n",
    "            \n",
    "            \n",
    "            #test_dict[j] = df_male.copy()\n",
    "            \n",
    "        d[i] = {'x':x, 'y':y}\n",
    "        \n",
    "    return (d, ppyr_df)"
   ]
  },
  {
   "cell_type": "code",
   "execution_count": 21,
   "metadata": {},
   "outputs": [],
   "source": [
    "data, pop_df = population_projection(df, 15, 50, 0.15)"
   ]
  },
  {
   "cell_type": "code",
   "execution_count": 6,
   "metadata": {},
   "outputs": [],
   "source": [
    "pop_df.to_csv('pop.csv')"
   ]
  },
  {
   "cell_type": "code",
   "execution_count": null,
   "metadata": {},
   "outputs": [],
   "source": [
    "#output the full dataframe for each year;\n",
    "\n",
    "writer = pd.ExcelWriter('test_ages.xlsx', engine='xlsxwriter')\n",
    "\n",
    "for year, df in df_dict.items():\n",
    "    df.to_excel(writer, sheet_name = \"Year{}\".format(year))\n",
    "writer.save()"
   ]
  },
  {
   "cell_type": "markdown",
   "metadata": {},
   "source": [
    "<center>\n",
    "Plot the projections using Bokeh\n",
    "<br>\n",
    "replace with animated D3 in the final version</center>"
   ]
  },
  {
   "cell_type": "code",
   "execution_count": 7,
   "metadata": {},
   "outputs": [],
   "source": [
    "from bokeh.plotting import figure, output_notebook, output_file, show\n",
    "from bokeh.models import ColumnDataSource\n",
    "from bokeh.models import Title\n",
    "from bokeh.plotting import  curdoc\n",
    "from bokeh.io import reset_output"
   ]
  },
  {
   "cell_type": "code",
   "execution_count": 22,
   "metadata": {},
   "outputs": [],
   "source": [
    "data_df = pd.DataFrame.from_dict(data, orient='index')"
   ]
  },
  {
   "cell_type": "code",
   "execution_count": null,
   "metadata": {},
   "outputs": [],
   "source": [
    "#output reset; uncomment and run\n",
    "#reset_output()\n",
    "#curdoc().clear()"
   ]
  },
  {
   "cell_type": "code",
   "execution_count": 23,
   "metadata": {},
   "outputs": [
    {
     "name": "stderr",
     "output_type": "stream",
     "text": [
      "C:\\Users\\germap01\\AppData\\Local\\Continuum\\anaconda3\\lib\\site-packages\\bokeh\\core\\json_encoder.py:80: FutureWarning: Conversion of the second argument of issubdtype from `float` to `np.floating` is deprecated. In future, it will be treated as `np.float64 == np.dtype(float).type`.\n",
      "  elif np.issubdtype(type(obj), np.float):\n"
     ]
    }
   ],
   "source": [
    "p = figure(plot_width=800, plot_height=400, y_range=(0,4700))\n",
    "source = ColumnDataSource(data_df)\n",
    "\n",
    "p.grid.visible=False\n",
    "p.add_layout(Title(text=\"50 simulations using low (0.15) old age mortality\",\n",
    "                   text_font_style=\"italic\", align='center'), 'above')\n",
    "p.add_layout(Title(text=\"Probabilistic population projection\",\n",
    "                   align='center', text_font_size=\"16pt\"), 'above')\n",
    "\n",
    "\n",
    "years = list(range(0,26))\n",
    "year_aliases = ['{}'.format(x) for x in range(2016,2032)]\n",
    "p.xaxis.ticker = years\n",
    "p.xaxis.major_label_overrides = dict(zip(years, year_aliases))\n",
    "\n",
    "p.multi_line('x', 'y', line_color='black', line_alpha=1, line_width=0.05, source=source)\n",
    "output_file(\"projection-low.html\", title='Uist population projection')\n",
    "show(p)"
   ]
  }
 ],
 "metadata": {
  "kernelspec": {
   "display_name": "Python 3",
   "language": "python",
   "name": "python3"
  },
  "language_info": {
   "codemirror_mode": {
    "name": "ipython",
    "version": 3
   },
   "file_extension": ".py",
   "mimetype": "text/x-python",
   "name": "python",
   "nbconvert_exporter": "python",
   "pygments_lexer": "ipython3",
   "version": "3.6.4"
  }
 },
 "nbformat": 4,
 "nbformat_minor": 2
}
