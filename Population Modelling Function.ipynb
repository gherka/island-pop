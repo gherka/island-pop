{
 "cells": [
  {
   "cell_type": "code",
   "execution_count": null,
   "metadata": {},
   "outputs": [],
   "source": [
    "import numpy as num\n",
    "import numpy.matlib as M\n",
    "from numpy.matlib import zeros,ones\n",
    "import pandas as pd"
   ]
  },
  {
   "cell_type": "code",
   "execution_count": null,
   "metadata": {},
   "outputs": [],
   "source": [
    "def leslie_matrix(ages, proj_years, pop_vector, f_vector, s_vector):\n",
    "    \"\"\"\n",
    "    Basic Leslie Matrix projection of population where the\n",
    "    fertility and survival rates are held constant.\n",
    "    \"\"\"\n",
    "    \n",
    "    #test that the dimensions are correct for the number of ages provided:\n",
    "    if (len(pop_vector) != ages) or (len(f_vector) != ages) or (len(s_vector) != ages-1):\n",
    "        raise ValueError(\n",
    "            \"The number of elements in one of the vectors doesn't match the number of ages\"\n",
    "        )\n",
    "    \n",
    "    #initialize with a square matrix of zeroes \n",
    "    init_matrix = zeros((ages,ages)) \n",
    "    \n",
    "    #update the matrix with fertility rates (assuming constant for simplicity)\n",
    "    init_matrix[0] = f_vector\n",
    "    \n",
    "    #update the matrix with survival rates (assuming constant for simplicity)\n",
    "    for i in range(1,ages):\n",
    "        init_matrix[i,i-1] = s_vector[i-1] \n",
    "\n",
    "    #create a handle-turning function to update the population matrix\n",
    "    def pop_update(years):\n",
    "        \n",
    "        final_matrix = zeros((ages,years))\n",
    "        cols = [\"Year {}\".format(i) for i in range(years)]\n",
    "        temp_pop_vector = pop_vector\n",
    "        \n",
    "        #run the loop for every projected year\n",
    "        for i in range(years):\n",
    "            final_matrix[:,i] = num.mat(temp_pop_vector).T\n",
    "            next_pop_vector = num.mat(init_matrix) * num.mat(temp_pop_vector).T\n",
    "            temp_pop_vector = num.array(next_pop_vector.T)\n",
    "        \n",
    "        #population vector by ages at the end of the projection loop\n",
    "        #final_pop_vector = temp_pop_vector\n",
    "        #the sum of population at the end of the projection\n",
    "        #t = (num.mat(final_pop_vector) * ones(ages).T)[0,0]\n",
    "        \n",
    "        return pd.DataFrame(final_matrix, columns=cols)\n",
    "    \n",
    "    d = pop_update(proj_years)\n",
    "    \n",
    "    return d"
   ]
  },
  {
   "cell_type": "code",
   "execution_count": null,
   "metadata": {},
   "outputs": [],
   "source": [
    "'''\n",
    "age structure:\n",
    "0 - newborns,\n",
    "1 - teenagers under 15,\n",
    "2 - fertile women 15-45,\n",
    "3 - men 15-45,\n",
    "4 - all 45+  \n",
    "5 - all 75+\n",
    "'''\n",
    "population = [5, 5, 15, 15, 25, 35]\n",
    "fertility = [0, 0, 2, 0, 0, 0]\n",
    "survival = [1,1,1,1,0] #everybody survives to 75\n",
    "\n",
    "leslie_matrix(6, 5, population, fertility, survival)"
   ]
  }
 ],
 "metadata": {
  "kernelspec": {
   "display_name": "Python 3",
   "language": "python",
   "name": "python3"
  },
  "language_info": {
   "codemirror_mode": {
    "name": "ipython",
    "version": 3
   },
   "file_extension": ".py",
   "mimetype": "text/x-python",
   "name": "python",
   "nbconvert_exporter": "python",
   "pygments_lexer": "ipython3",
   "version": "3.6.4"
  }
 },
 "nbformat": 4,
 "nbformat_minor": 2
}
