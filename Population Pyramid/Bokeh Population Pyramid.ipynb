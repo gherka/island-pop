{
 "cells": [
  {
   "cell_type": "code",
   "execution_count": 1,
   "metadata": {},
   "outputs": [],
   "source": [
    "import bokeh\n",
    "from bokeh.plotting import figure, show, output_notebook\n",
    "from bokeh.layouts import gridplot, row, column\n",
    "from bokeh.models import FuncTickFormatter\n",
    "import pandas as pd"
   ]
  },
  {
   "cell_type": "code",
   "execution_count": 2,
   "metadata": {},
   "outputs": [
    {
     "data": {
      "text/html": [
       "\n",
       "    <div class=\"bk-root\">\n",
       "        <a href=\"https://bokeh.pydata.org\" target=\"_blank\" class=\"bk-logo bk-logo-small bk-logo-notebook\"></a>\n",
       "        <span id=\"91da8ce2-6978-4c23-ad0c-b0b69d9fcd9b\">Loading BokehJS ...</span>\n",
       "    </div>"
      ]
     },
     "metadata": {},
     "output_type": "display_data"
    },
    {
     "data": {
      "application/javascript": [
       "\n",
       "(function(root) {\n",
       "  function now() {\n",
       "    return new Date();\n",
       "  }\n",
       "\n",
       "  var force = true;\n",
       "\n",
       "  if (typeof (root._bokeh_onload_callbacks) === \"undefined\" || force === true) {\n",
       "    root._bokeh_onload_callbacks = [];\n",
       "    root._bokeh_is_loading = undefined;\n",
       "  }\n",
       "\n",
       "  var JS_MIME_TYPE = 'application/javascript';\n",
       "  var HTML_MIME_TYPE = 'text/html';\n",
       "  var EXEC_MIME_TYPE = 'application/vnd.bokehjs_exec.v0+json';\n",
       "  var CLASS_NAME = 'output_bokeh rendered_html';\n",
       "\n",
       "  /**\n",
       "   * Render data to the DOM node\n",
       "   */\n",
       "  function render(props, node) {\n",
       "    var script = document.createElement(\"script\");\n",
       "    node.appendChild(script);\n",
       "  }\n",
       "\n",
       "  /**\n",
       "   * Handle when an output is cleared or removed\n",
       "   */\n",
       "  function handleClearOutput(event, handle) {\n",
       "    var cell = handle.cell;\n",
       "\n",
       "    var id = cell.output_area._bokeh_element_id;\n",
       "    var server_id = cell.output_area._bokeh_server_id;\n",
       "    // Clean up Bokeh references\n",
       "    if (id !== undefined) {\n",
       "      Bokeh.index[id].model.document.clear();\n",
       "      delete Bokeh.index[id];\n",
       "    }\n",
       "\n",
       "    if (server_id !== undefined) {\n",
       "      // Clean up Bokeh references\n",
       "      var cmd = \"from bokeh.io.state import curstate; print(curstate().uuid_to_server['\" + server_id + \"'].get_sessions()[0].document.roots[0]._id)\";\n",
       "      cell.notebook.kernel.execute(cmd, {\n",
       "        iopub: {\n",
       "          output: function(msg) {\n",
       "            var element_id = msg.content.text.trim();\n",
       "            Bokeh.index[element_id].model.document.clear();\n",
       "            delete Bokeh.index[element_id];\n",
       "          }\n",
       "        }\n",
       "      });\n",
       "      // Destroy server and session\n",
       "      var cmd = \"import bokeh.io.notebook as ion; ion.destroy_server('\" + server_id + \"')\";\n",
       "      cell.notebook.kernel.execute(cmd);\n",
       "    }\n",
       "  }\n",
       "\n",
       "  /**\n",
       "   * Handle when a new output is added\n",
       "   */\n",
       "  function handleAddOutput(event, handle) {\n",
       "    var output_area = handle.output_area;\n",
       "    var output = handle.output;\n",
       "\n",
       "    // limit handleAddOutput to display_data with EXEC_MIME_TYPE content only\n",
       "    if ((output.output_type != \"display_data\") || (!output.data.hasOwnProperty(EXEC_MIME_TYPE))) {\n",
       "      return\n",
       "    }\n",
       "\n",
       "    var toinsert = output_area.element.find(\".\" + CLASS_NAME.split(' ')[0]);\n",
       "\n",
       "    if (output.metadata[EXEC_MIME_TYPE][\"id\"] !== undefined) {\n",
       "      toinsert[0].firstChild.textContent = output.data[JS_MIME_TYPE];\n",
       "      // store reference to embed id on output_area\n",
       "      output_area._bokeh_element_id = output.metadata[EXEC_MIME_TYPE][\"id\"];\n",
       "    }\n",
       "    if (output.metadata[EXEC_MIME_TYPE][\"server_id\"] !== undefined) {\n",
       "      var bk_div = document.createElement(\"div\");\n",
       "      bk_div.innerHTML = output.data[HTML_MIME_TYPE];\n",
       "      var script_attrs = bk_div.children[0].attributes;\n",
       "      for (var i = 0; i < script_attrs.length; i++) {\n",
       "        toinsert[0].firstChild.setAttribute(script_attrs[i].name, script_attrs[i].value);\n",
       "      }\n",
       "      // store reference to server id on output_area\n",
       "      output_area._bokeh_server_id = output.metadata[EXEC_MIME_TYPE][\"server_id\"];\n",
       "    }\n",
       "  }\n",
       "\n",
       "  function register_renderer(events, OutputArea) {\n",
       "\n",
       "    function append_mime(data, metadata, element) {\n",
       "      // create a DOM node to render to\n",
       "      var toinsert = this.create_output_subarea(\n",
       "        metadata,\n",
       "        CLASS_NAME,\n",
       "        EXEC_MIME_TYPE\n",
       "      );\n",
       "      this.keyboard_manager.register_events(toinsert);\n",
       "      // Render to node\n",
       "      var props = {data: data, metadata: metadata[EXEC_MIME_TYPE]};\n",
       "      render(props, toinsert[0]);\n",
       "      element.append(toinsert);\n",
       "      return toinsert\n",
       "    }\n",
       "\n",
       "    /* Handle when an output is cleared or removed */\n",
       "    events.on('clear_output.CodeCell', handleClearOutput);\n",
       "    events.on('delete.Cell', handleClearOutput);\n",
       "\n",
       "    /* Handle when a new output is added */\n",
       "    events.on('output_added.OutputArea', handleAddOutput);\n",
       "\n",
       "    /**\n",
       "     * Register the mime type and append_mime function with output_area\n",
       "     */\n",
       "    OutputArea.prototype.register_mime_type(EXEC_MIME_TYPE, append_mime, {\n",
       "      /* Is output safe? */\n",
       "      safe: true,\n",
       "      /* Index of renderer in `output_area.display_order` */\n",
       "      index: 0\n",
       "    });\n",
       "  }\n",
       "\n",
       "  // register the mime type if in Jupyter Notebook environment and previously unregistered\n",
       "  if (root.Jupyter !== undefined) {\n",
       "    var events = require('base/js/events');\n",
       "    var OutputArea = require('notebook/js/outputarea').OutputArea;\n",
       "\n",
       "    if (OutputArea.prototype.mime_types().indexOf(EXEC_MIME_TYPE) == -1) {\n",
       "      register_renderer(events, OutputArea);\n",
       "    }\n",
       "  }\n",
       "\n",
       "  \n",
       "  if (typeof (root._bokeh_timeout) === \"undefined\" || force === true) {\n",
       "    root._bokeh_timeout = Date.now() + 5000;\n",
       "    root._bokeh_failed_load = false;\n",
       "  }\n",
       "\n",
       "  var NB_LOAD_WARNING = {'data': {'text/html':\n",
       "     \"<div style='background-color: #fdd'>\\n\"+\n",
       "     \"<p>\\n\"+\n",
       "     \"BokehJS does not appear to have successfully loaded. If loading BokehJS from CDN, this \\n\"+\n",
       "     \"may be due to a slow or bad network connection. Possible fixes:\\n\"+\n",
       "     \"</p>\\n\"+\n",
       "     \"<ul>\\n\"+\n",
       "     \"<li>re-rerun `output_notebook()` to attempt to load from CDN again, or</li>\\n\"+\n",
       "     \"<li>use INLINE resources instead, as so:</li>\\n\"+\n",
       "     \"</ul>\\n\"+\n",
       "     \"<code>\\n\"+\n",
       "     \"from bokeh.resources import INLINE\\n\"+\n",
       "     \"output_notebook(resources=INLINE)\\n\"+\n",
       "     \"</code>\\n\"+\n",
       "     \"</div>\"}};\n",
       "\n",
       "  function display_loaded() {\n",
       "    var el = document.getElementById(\"91da8ce2-6978-4c23-ad0c-b0b69d9fcd9b\");\n",
       "    if (el != null) {\n",
       "      el.textContent = \"BokehJS is loading...\";\n",
       "    }\n",
       "    if (root.Bokeh !== undefined) {\n",
       "      if (el != null) {\n",
       "        el.textContent = \"BokehJS \" + root.Bokeh.version + \" successfully loaded.\";\n",
       "      }\n",
       "    } else if (Date.now() < root._bokeh_timeout) {\n",
       "      setTimeout(display_loaded, 100)\n",
       "    }\n",
       "  }\n",
       "\n",
       "\n",
       "  function run_callbacks() {\n",
       "    try {\n",
       "      root._bokeh_onload_callbacks.forEach(function(callback) { callback() });\n",
       "    }\n",
       "    finally {\n",
       "      delete root._bokeh_onload_callbacks\n",
       "    }\n",
       "    console.info(\"Bokeh: all callbacks have finished\");\n",
       "  }\n",
       "\n",
       "  function load_libs(js_urls, callback) {\n",
       "    root._bokeh_onload_callbacks.push(callback);\n",
       "    if (root._bokeh_is_loading > 0) {\n",
       "      console.log(\"Bokeh: BokehJS is being loaded, scheduling callback at\", now());\n",
       "      return null;\n",
       "    }\n",
       "    if (js_urls == null || js_urls.length === 0) {\n",
       "      run_callbacks();\n",
       "      return null;\n",
       "    }\n",
       "    console.log(\"Bokeh: BokehJS not loaded, scheduling load and callback at\", now());\n",
       "    root._bokeh_is_loading = js_urls.length;\n",
       "    for (var i = 0; i < js_urls.length; i++) {\n",
       "      var url = js_urls[i];\n",
       "      var s = document.createElement('script');\n",
       "      s.src = url;\n",
       "      s.async = false;\n",
       "      s.onreadystatechange = s.onload = function() {\n",
       "        root._bokeh_is_loading--;\n",
       "        if (root._bokeh_is_loading === 0) {\n",
       "          console.log(\"Bokeh: all BokehJS libraries loaded\");\n",
       "          run_callbacks()\n",
       "        }\n",
       "      };\n",
       "      s.onerror = function() {\n",
       "        console.warn(\"failed to load library \" + url);\n",
       "      };\n",
       "      console.log(\"Bokeh: injecting script tag for BokehJS library: \", url);\n",
       "      document.getElementsByTagName(\"head\")[0].appendChild(s);\n",
       "    }\n",
       "  };var element = document.getElementById(\"91da8ce2-6978-4c23-ad0c-b0b69d9fcd9b\");\n",
       "  if (element == null) {\n",
       "    console.log(\"Bokeh: ERROR: autoload.js configured with elementid '91da8ce2-6978-4c23-ad0c-b0b69d9fcd9b' but no matching script tag was found. \")\n",
       "    return false;\n",
       "  }\n",
       "\n",
       "  var js_urls = [\"https://cdn.pydata.org/bokeh/release/bokeh-0.12.13.min.js\", \"https://cdn.pydata.org/bokeh/release/bokeh-widgets-0.12.13.min.js\", \"https://cdn.pydata.org/bokeh/release/bokeh-tables-0.12.13.min.js\", \"https://cdn.pydata.org/bokeh/release/bokeh-gl-0.12.13.min.js\"];\n",
       "\n",
       "  var inline_js = [\n",
       "    function(Bokeh) {\n",
       "      Bokeh.set_log_level(\"info\");\n",
       "    },\n",
       "    \n",
       "    function(Bokeh) {\n",
       "      \n",
       "    },\n",
       "    function(Bokeh) {\n",
       "      console.log(\"Bokeh: injecting CSS: https://cdn.pydata.org/bokeh/release/bokeh-0.12.13.min.css\");\n",
       "      Bokeh.embed.inject_css(\"https://cdn.pydata.org/bokeh/release/bokeh-0.12.13.min.css\");\n",
       "      console.log(\"Bokeh: injecting CSS: https://cdn.pydata.org/bokeh/release/bokeh-widgets-0.12.13.min.css\");\n",
       "      Bokeh.embed.inject_css(\"https://cdn.pydata.org/bokeh/release/bokeh-widgets-0.12.13.min.css\");\n",
       "      console.log(\"Bokeh: injecting CSS: https://cdn.pydata.org/bokeh/release/bokeh-tables-0.12.13.min.css\");\n",
       "      Bokeh.embed.inject_css(\"https://cdn.pydata.org/bokeh/release/bokeh-tables-0.12.13.min.css\");\n",
       "    }\n",
       "  ];\n",
       "\n",
       "  function run_inline_js() {\n",
       "    \n",
       "    if ((root.Bokeh !== undefined) || (force === true)) {\n",
       "      for (var i = 0; i < inline_js.length; i++) {\n",
       "        inline_js[i].call(root, root.Bokeh);\n",
       "      }if (force === true) {\n",
       "        display_loaded();\n",
       "      }} else if (Date.now() < root._bokeh_timeout) {\n",
       "      setTimeout(run_inline_js, 100);\n",
       "    } else if (!root._bokeh_failed_load) {\n",
       "      console.log(\"Bokeh: BokehJS failed to load within specified timeout.\");\n",
       "      root._bokeh_failed_load = true;\n",
       "    } else if (force !== true) {\n",
       "      var cell = $(document.getElementById(\"91da8ce2-6978-4c23-ad0c-b0b69d9fcd9b\")).parents('.cell').data().cell;\n",
       "      cell.output_area.append_execute_result(NB_LOAD_WARNING)\n",
       "    }\n",
       "\n",
       "  }\n",
       "\n",
       "  if (root._bokeh_is_loading === 0) {\n",
       "    console.log(\"Bokeh: BokehJS loaded, going straight to plotting\");\n",
       "    run_inline_js();\n",
       "  } else {\n",
       "    load_libs(js_urls, function() {\n",
       "      console.log(\"Bokeh: BokehJS plotting callback run at\", now());\n",
       "      run_inline_js();\n",
       "    });\n",
       "  }\n",
       "}(window));"
      ],
      "application/vnd.bokehjs_load.v0+json": "\n(function(root) {\n  function now() {\n    return new Date();\n  }\n\n  var force = true;\n\n  if (typeof (root._bokeh_onload_callbacks) === \"undefined\" || force === true) {\n    root._bokeh_onload_callbacks = [];\n    root._bokeh_is_loading = undefined;\n  }\n\n  \n\n  \n  if (typeof (root._bokeh_timeout) === \"undefined\" || force === true) {\n    root._bokeh_timeout = Date.now() + 5000;\n    root._bokeh_failed_load = false;\n  }\n\n  var NB_LOAD_WARNING = {'data': {'text/html':\n     \"<div style='background-color: #fdd'>\\n\"+\n     \"<p>\\n\"+\n     \"BokehJS does not appear to have successfully loaded. If loading BokehJS from CDN, this \\n\"+\n     \"may be due to a slow or bad network connection. Possible fixes:\\n\"+\n     \"</p>\\n\"+\n     \"<ul>\\n\"+\n     \"<li>re-rerun `output_notebook()` to attempt to load from CDN again, or</li>\\n\"+\n     \"<li>use INLINE resources instead, as so:</li>\\n\"+\n     \"</ul>\\n\"+\n     \"<code>\\n\"+\n     \"from bokeh.resources import INLINE\\n\"+\n     \"output_notebook(resources=INLINE)\\n\"+\n     \"</code>\\n\"+\n     \"</div>\"}};\n\n  function display_loaded() {\n    var el = document.getElementById(\"91da8ce2-6978-4c23-ad0c-b0b69d9fcd9b\");\n    if (el != null) {\n      el.textContent = \"BokehJS is loading...\";\n    }\n    if (root.Bokeh !== undefined) {\n      if (el != null) {\n        el.textContent = \"BokehJS \" + root.Bokeh.version + \" successfully loaded.\";\n      }\n    } else if (Date.now() < root._bokeh_timeout) {\n      setTimeout(display_loaded, 100)\n    }\n  }\n\n\n  function run_callbacks() {\n    try {\n      root._bokeh_onload_callbacks.forEach(function(callback) { callback() });\n    }\n    finally {\n      delete root._bokeh_onload_callbacks\n    }\n    console.info(\"Bokeh: all callbacks have finished\");\n  }\n\n  function load_libs(js_urls, callback) {\n    root._bokeh_onload_callbacks.push(callback);\n    if (root._bokeh_is_loading > 0) {\n      console.log(\"Bokeh: BokehJS is being loaded, scheduling callback at\", now());\n      return null;\n    }\n    if (js_urls == null || js_urls.length === 0) {\n      run_callbacks();\n      return null;\n    }\n    console.log(\"Bokeh: BokehJS not loaded, scheduling load and callback at\", now());\n    root._bokeh_is_loading = js_urls.length;\n    for (var i = 0; i < js_urls.length; i++) {\n      var url = js_urls[i];\n      var s = document.createElement('script');\n      s.src = url;\n      s.async = false;\n      s.onreadystatechange = s.onload = function() {\n        root._bokeh_is_loading--;\n        if (root._bokeh_is_loading === 0) {\n          console.log(\"Bokeh: all BokehJS libraries loaded\");\n          run_callbacks()\n        }\n      };\n      s.onerror = function() {\n        console.warn(\"failed to load library \" + url);\n      };\n      console.log(\"Bokeh: injecting script tag for BokehJS library: \", url);\n      document.getElementsByTagName(\"head\")[0].appendChild(s);\n    }\n  };var element = document.getElementById(\"91da8ce2-6978-4c23-ad0c-b0b69d9fcd9b\");\n  if (element == null) {\n    console.log(\"Bokeh: ERROR: autoload.js configured with elementid '91da8ce2-6978-4c23-ad0c-b0b69d9fcd9b' but no matching script tag was found. \")\n    return false;\n  }\n\n  var js_urls = [\"https://cdn.pydata.org/bokeh/release/bokeh-0.12.13.min.js\", \"https://cdn.pydata.org/bokeh/release/bokeh-widgets-0.12.13.min.js\", \"https://cdn.pydata.org/bokeh/release/bokeh-tables-0.12.13.min.js\", \"https://cdn.pydata.org/bokeh/release/bokeh-gl-0.12.13.min.js\"];\n\n  var inline_js = [\n    function(Bokeh) {\n      Bokeh.set_log_level(\"info\");\n    },\n    \n    function(Bokeh) {\n      \n    },\n    function(Bokeh) {\n      console.log(\"Bokeh: injecting CSS: https://cdn.pydata.org/bokeh/release/bokeh-0.12.13.min.css\");\n      Bokeh.embed.inject_css(\"https://cdn.pydata.org/bokeh/release/bokeh-0.12.13.min.css\");\n      console.log(\"Bokeh: injecting CSS: https://cdn.pydata.org/bokeh/release/bokeh-widgets-0.12.13.min.css\");\n      Bokeh.embed.inject_css(\"https://cdn.pydata.org/bokeh/release/bokeh-widgets-0.12.13.min.css\");\n      console.log(\"Bokeh: injecting CSS: https://cdn.pydata.org/bokeh/release/bokeh-tables-0.12.13.min.css\");\n      Bokeh.embed.inject_css(\"https://cdn.pydata.org/bokeh/release/bokeh-tables-0.12.13.min.css\");\n    }\n  ];\n\n  function run_inline_js() {\n    \n    if ((root.Bokeh !== undefined) || (force === true)) {\n      for (var i = 0; i < inline_js.length; i++) {\n        inline_js[i].call(root, root.Bokeh);\n      }if (force === true) {\n        display_loaded();\n      }} else if (Date.now() < root._bokeh_timeout) {\n      setTimeout(run_inline_js, 100);\n    } else if (!root._bokeh_failed_load) {\n      console.log(\"Bokeh: BokehJS failed to load within specified timeout.\");\n      root._bokeh_failed_load = true;\n    } else if (force !== true) {\n      var cell = $(document.getElementById(\"91da8ce2-6978-4c23-ad0c-b0b69d9fcd9b\")).parents('.cell').data().cell;\n      cell.output_area.append_execute_result(NB_LOAD_WARNING)\n    }\n\n  }\n\n  if (root._bokeh_is_loading === 0) {\n    console.log(\"Bokeh: BokehJS loaded, going straight to plotting\");\n    run_inline_js();\n  } else {\n    load_libs(js_urls, function() {\n      console.log(\"Bokeh: BokehJS plotting callback run at\", now());\n      run_inline_js();\n    });\n  }\n}(window));"
     },
     "metadata": {},
     "output_type": "display_data"
    }
   ],
   "source": [
    "output_notebook()"
   ]
  },
  {
   "cell_type": "markdown",
   "metadata": {},
   "source": [
    "#### Main Population Pyramid function"
   ]
  },
  {
   "cell_type": "code",
   "execution_count": 3,
   "metadata": {},
   "outputs": [],
   "source": [
    "def pop_pyramid(dataframe, facet_col, facet_value, **kwargs):\n",
    "    \"\"\"\n",
    "    Create a population pyramid plot for each facet value\n",
    "    assuming the columns in the dataframe are called Age_Bands, Gender\n",
    "    and Population.\n",
    "    \n",
    "    Returns a Bokeh plot object.\n",
    "    \"\"\"\n",
    "    options = {\n",
    "            'export': False,\n",
    "            'title' : True,\n",
    "            'xaxis' : False,\n",
    "            'x_lim' : None,\n",
    "            'stroke': True}\n",
    "    \n",
    "    options.update(kwargs)\n",
    "    \n",
    "    df = dataframe[dataframe[facet_col]==facet_value].copy()\n",
    "    \n",
    "    #Convert Age Bands to category type\n",
    "    #and sort to make sure 0-4 is followed by 5-9 and not 10-14.\n",
    "    \n",
    "    df.loc[:,'Age_Bands'] = df['Age_Bands'].astype('category')\n",
    "    df['Age_Bands'].cat.reorder_categories(\n",
    "                                sorted(df['Age_Bands'].unique(), key=lambda x:int(x[:2])),\n",
    "                                inplace=True, ordered=True)\n",
    "    df.sort_values('Age_Bands', inplace=True) \n",
    "    \n",
    "    #offset of 0.015 works well for % of total; for absolute use df['Population'].max() * 0.1\n",
    "    offset = df['Population'].max() * 0.1\n",
    "    #x_lim of 0.1 works well for % of total; for absolute use df['Population'].max() * 1.2\n",
    "    #if you need a consistent x limit, pass it into the function\n",
    "        \n",
    "    if options['x_lim'] == None:\n",
    "        x_lim = df['Population'].max() * 1.2\n",
    "    else:\n",
    "        x_lim = options['x_lim']\n",
    "    \n",
    "    y_lim = len(df['Age_Bands'].unique())\n",
    "    y_text = df.Age_Bands.unique()\n",
    "\n",
    "    total = df['Population'].sum()\n",
    "    total_male = df[df['Gender'] == 'Male']['Population'].sum()\n",
    "    total_female = df[df['Gender'] == 'Female']['Population'].sum()\n",
    "\n",
    "    #switch between % of total and raw values: (-x/total) or just -x\n",
    "    x_male = ([-x - offset for x in df[df['Gender'] == 'Male']\n",
    "               .Population\n",
    "               .values])\n",
    "    x_female = ([x + offset for x in df[df['Gender'] == 'Female']\n",
    "                 .Population\n",
    "                 .values])\n",
    "    \n",
    "    #y_range for plots (not figure) starts with 1 not 0 to \"lift up\" the plot a little bit\n",
    "    p = figure(plot_width=600, plot_height=400, x_range=(-x_lim, x_lim), y_range=(0, y_lim+1))\n",
    "    \n",
    "    stroke = 'solid'\n",
    "    stroke_color = 'black'\n",
    "    stroke_width = 0.5\n",
    "    \n",
    "    if not options['stroke']:\n",
    "        stroke = None\n",
    "        stroke_color = None\n",
    "        stroke_width = None\n",
    "\n",
    "    male_bar = p.hbar(y=range(1,y_lim+1), height=0.5, right=x_male, color=\"#bebada\",\n",
    "                left=-offset, line_dash=stroke, line_color=stroke_color, line_width=stroke_width)\n",
    "    female_bar = p.hbar(y=range(1,y_lim+1), height=0.5, right=x_female, color=\"#8dd3c7\",\n",
    "                left=offset, line_dash=stroke, line_color=stroke_color, line_width=stroke_width)\n",
    "    text = p.text(x=[0]*y_lim, y=range(1,y_lim+1), text=y_text,\n",
    "                text_align='center', y_offset=8, text_font_size=\"11px\")\n",
    "\n",
    "    #Set default formatting options\n",
    "    p.grid.visible = False\n",
    "    p.yaxis.visible = False\n",
    "    p.outline_line_color = 'darkgrey'\n",
    "    p.toolbar.logo = None\n",
    "    p.toolbar_location = None\n",
    "    p.xaxis[0].formatter = FuncTickFormatter(code=\"\"\"\n",
    "    return Math.abs(tick)\"\"\")\n",
    "    \n",
    "    if not options['xaxis']:\n",
    "        p.xaxis.visible = False        \n",
    "    \n",
    "    #Set title options\n",
    "    if options['title']:\n",
    "        p.title.text = str(facet_value)\n",
    "        p.title.align = 'center'\n",
    "        \n",
    "    #Control exporting behaviour\n",
    "    if options['export']:\n",
    "        bokeh.io.export_png(p, filename='pp_{}.png'.format(facet_value))\n",
    "\n",
    "    return p"
   ]
  },
  {
   "cell_type": "markdown",
   "metadata": {},
   "source": [
    "#### Create a plot for each of the 32 council areas"
   ]
  },
  {
   "cell_type": "code",
   "execution_count": null,
   "metadata": {},
   "outputs": [],
   "source": [
    "#Data Frame with all 32 council areas\n",
    "df = pd.read_csv('data/pyramid_data.csv')\n",
    "\n",
    "data = (df.groupby(['Age_Bands', 'Area', 'Gender'])['Population']\n",
    "        .sum()\n",
    "        .reset_index(name='Population'))"
   ]
  },
  {
   "cell_type": "code",
   "execution_count": null,
   "metadata": {
    "scrolled": false
   },
   "outputs": [],
   "source": [
    "#test for a single area\n",
    "show(pop_pyramid(data, 'Area', 'Uist', xaxis=True, export=True, x_lim=260, title=False))"
   ]
  },
  {
   "cell_type": "code",
   "execution_count": null,
   "metadata": {},
   "outputs": [],
   "source": [
    "#iterate over areas to produce a plot for each and then layout them in a grid\n",
    "plots = []\n",
    "for ca in data['Area'].unique():\n",
    "    plots.append(pop_pyramid(data,'Area',ca))\n",
    "\n",
    "plot_grid = gridplot(plots, ncols=5)\n",
    "#bokeh.io.export_png(plot_grid, filename='images/all_ca_no_name.png')"
   ]
  },
  {
   "cell_type": "markdown",
   "metadata": {},
   "source": [
    "#### Create a pyramid plot for 2001, 2009 and 2016 population of Uist"
   ]
  },
  {
   "cell_type": "code",
   "execution_count": null,
   "metadata": {},
   "outputs": [],
   "source": [
    "df = pd.read_csv('data/2001-9_pop_pyramid.csv')"
   ]
  },
  {
   "cell_type": "code",
   "execution_count": null,
   "metadata": {},
   "outputs": [],
   "source": [
    "show(pop_pyramid(data, 'Area', 'Uist', title=False,\n",
    "                 xaxis=True, x_lim=260, export=True, stroke=False))"
   ]
  },
  {
   "cell_type": "code",
   "execution_count": null,
   "metadata": {
    "scrolled": false
   },
   "outputs": [],
   "source": [
    "show(pop_pyramid(df, 'Year', 2009, title=True, xaxis=True, x_lim=260, export=True))"
   ]
  },
  {
   "cell_type": "markdown",
   "metadata": {},
   "source": [
    "#### Create pop_pyramids of Scotland in 2001-2009-2016"
   ]
  },
  {
   "cell_type": "code",
   "execution_count": 4,
   "metadata": {},
   "outputs": [],
   "source": [
    "scot = pd.read_csv('data/scot_2001-9-16_clean.csv')"
   ]
  },
  {
   "cell_type": "code",
   "execution_count": 12,
   "metadata": {},
   "outputs": [
    {
     "name": "stderr",
     "output_type": "stream",
     "text": [
      "C:\\Users\\germap01\\AppData\\Local\\Continuum\\anaconda3\\lib\\site-packages\\selenium\\webdriver\\phantomjs\\webdriver.py:49: UserWarning: Selenium support for PhantomJS has been deprecated, please use headless versions of Chrome or Firefox instead\n",
      "  warnings.warn('Selenium support for PhantomJS has been deprecated, please use headless '\n"
     ]
    },
    {
     "data": {
      "text/html": [
       "\n",
       "<div class=\"bk-root\">\n",
       "    <div class=\"bk-plotdiv\" id=\"43568836-22cc-4091-9906-c9ecc0cffca3\"></div>\n",
       "</div>"
      ]
     },
     "metadata": {},
     "output_type": "display_data"
    },
    {
     "data": {
      "application/javascript": [
       "(function(root) {\n",
       "  function embed_document(root) {\n",
       "    \n",
       "  var docs_json = {\"0f2bea9d-040a-4d6e-99af-092e59b2ddee\":{\"roots\":{\"references\":[{\"attributes\":{\"align\":\"center\",\"plot\":null,\"text\":\"2016\"},\"id\":\"67aa9ab2-11d7-4c08-b0f5-c20be2f78319\",\"type\":\"Title\"},{\"attributes\":{\"text_align\":\"center\",\"text_color\":{\"value\":\"black\"},\"text_font_size\":{\"value\":\"11px\"},\"x\":{\"field\":\"x\"},\"y\":{\"field\":\"y\"},\"y_offset\":{\"value\":8}},\"id\":\"642396ae-c6a3-4cbd-bd85-f25b38407a82\",\"type\":\"Text\"},{\"attributes\":{\"source\":{\"id\":\"c57288e8-318a-437e-8ab9-fe2ffc5c056b\",\"type\":\"ColumnDataSource\"}},\"id\":\"0ec09387-8354-407c-8933-d39678d43c32\",\"type\":\"CDSView\"},{\"attributes\":{\"data_source\":{\"id\":\"c57288e8-318a-437e-8ab9-fe2ffc5c056b\",\"type\":\"ColumnDataSource\"},\"glyph\":{\"id\":\"642396ae-c6a3-4cbd-bd85-f25b38407a82\",\"type\":\"Text\"},\"hover_glyph\":null,\"muted_glyph\":null,\"nonselection_glyph\":{\"id\":\"e87b791c-4a79-4a6f-bbd7-f78e39870a46\",\"type\":\"Text\"},\"selection_glyph\":null,\"view\":{\"id\":\"0ec09387-8354-407c-8933-d39678d43c32\",\"type\":\"CDSView\"}},\"id\":\"c85f3199-bedd-4f77-be29-49934786832b\",\"type\":\"GlyphRenderer\"},{\"attributes\":{\"below\":[{\"id\":\"dec95f54-6696-4302-b98f-057a48c1695c\",\"type\":\"LinearAxis\"}],\"left\":[{\"id\":\"57947b25-8d17-41ea-9e27-f2735d856452\",\"type\":\"LinearAxis\"}],\"outline_line_color\":{\"value\":\"darkgrey\"},\"plot_height\":400,\"renderers\":[{\"id\":\"dec95f54-6696-4302-b98f-057a48c1695c\",\"type\":\"LinearAxis\"},{\"id\":\"d1400d04-75da-40e1-900c-dea8cc58e96d\",\"type\":\"Grid\"},{\"id\":\"57947b25-8d17-41ea-9e27-f2735d856452\",\"type\":\"LinearAxis\"},{\"id\":\"fcdbf1ad-a071-4ba7-a8e3-a8282c6c6404\",\"type\":\"Grid\"},{\"id\":\"4d2f86b7-ce57-4b5b-b122-f3507beee5b3\",\"type\":\"BoxAnnotation\"},{\"id\":\"6979f81f-bef1-402c-a74e-7776c5ec2e27\",\"type\":\"GlyphRenderer\"},{\"id\":\"a2c98681-c427-4a27-9fd9-26254c282c52\",\"type\":\"GlyphRenderer\"},{\"id\":\"c85f3199-bedd-4f77-be29-49934786832b\",\"type\":\"GlyphRenderer\"}],\"title\":{\"id\":\"67aa9ab2-11d7-4c08-b0f5-c20be2f78319\",\"type\":\"Title\"},\"toolbar\":{\"id\":\"ad7905c5-d90e-4026-9d9f-387be43180a5\",\"type\":\"Toolbar\"},\"toolbar_location\":null,\"x_range\":{\"id\":\"8812d46b-1667-434a-8cf2-14331e6de1ac\",\"type\":\"Range1d\"},\"x_scale\":{\"id\":\"36ff726b-2108-4b08-a178-c0750b8b912f\",\"type\":\"LinearScale\"},\"y_range\":{\"id\":\"2727f61d-1870-48d3-8d38-11ba405e7830\",\"type\":\"Range1d\"},\"y_scale\":{\"id\":\"47c82f5b-a8a0-482c-974f-82a7b7892bb3\",\"type\":\"LinearScale\"}},\"id\":\"c94ce645-9d82-47c3-ac4c-bdd6a085f0b4\",\"subtype\":\"Figure\",\"type\":\"Plot\"},{\"attributes\":{\"callback\":null,\"column_names\":[\"x\",\"y\",\"text\"],\"data\":{\"text\":[\"0 - 4\",\"5 - 9\",\"10 - 14\",\"15 - 19\",\"20 - 24\",\"25 - 29\",\"30 - 34\",\"35 - 39\",\"40 - 44\",\"45 - 49\",\"50 - 54\",\"55 - 59\",\"60 - 64\",\"65 - 69\",\"70 - 74\",\"75 - 79\",\"80 - 84\",\"85 - 89\",\"90+\"],\"x\":[0,0,0,0,0,0,0,0,0,0,0,0,0,0,0,0,0,0,0],\"y\":[1,2,3,4,5,6,7,8,9,10,11,12,13,14,15,16,17,18,19]}},\"id\":\"c57288e8-318a-437e-8ab9-fe2ffc5c056b\",\"type\":\"ColumnDataSource\"},{\"attributes\":{\"active_drag\":\"auto\",\"active_inspect\":\"auto\",\"active_scroll\":\"auto\",\"active_tap\":\"auto\",\"logo\":null,\"tools\":[{\"id\":\"2b7db524-0ef8-4447-80e9-7afbcd45a780\",\"type\":\"PanTool\"},{\"id\":\"542a2026-f2c1-46ba-bf13-14210a251d20\",\"type\":\"WheelZoomTool\"},{\"id\":\"01756ba2-5fab-4a0c-82cb-610cbf557762\",\"type\":\"BoxZoomTool\"},{\"id\":\"fffcacfe-901a-4694-ad46-2ae06590cec5\",\"type\":\"SaveTool\"},{\"id\":\"2ef0c52a-4482-4d86-ac60-da5cc2452645\",\"type\":\"ResetTool\"},{\"id\":\"3de753b1-7d1a-4ea0-b788-00f77d4511dc\",\"type\":\"HelpTool\"}]},\"id\":\"ad7905c5-d90e-4026-9d9f-387be43180a5\",\"type\":\"Toolbar\"},{\"attributes\":{\"text_align\":\"center\",\"text_alpha\":{\"value\":0.1},\"text_color\":{\"value\":\"black\"},\"text_font_size\":{\"value\":\"11px\"},\"x\":{\"field\":\"x\"},\"y\":{\"field\":\"y\"},\"y_offset\":{\"value\":8}},\"id\":\"e87b791c-4a79-4a6f-bbd7-f78e39870a46\",\"type\":\"Text\"},{\"attributes\":{\"fill_color\":{\"value\":\"#bebada\"},\"height\":{\"value\":0.5},\"left\":{\"value\":-20926.2},\"line_width\":{\"value\":0.5},\"right\":{\"field\":\"right\"},\"y\":{\"field\":\"y\"}},\"id\":\"ed915252-6890-4ad3-b97a-37a90535b0f8\",\"type\":\"HBar\"},{\"attributes\":{\"source\":{\"id\":\"ef39f0af-0805-476e-92a3-c4e3fec5922e\",\"type\":\"ColumnDataSource\"}},\"id\":\"f5344744-3483-4dbb-aeea-ac5b08c4b862\",\"type\":\"CDSView\"},{\"attributes\":{\"fill_alpha\":{\"value\":0.1},\"fill_color\":{\"value\":\"#1f77b4\"},\"height\":{\"value\":0.5},\"left\":{\"value\":20926.2},\"line_alpha\":{\"value\":0.1},\"line_color\":{\"value\":\"#1f77b4\"},\"line_width\":{\"value\":0.5},\"right\":{\"field\":\"right\"},\"y\":{\"field\":\"y\"}},\"id\":\"52f7bc6a-25cd-4c2d-8fbb-73afeb164d7c\",\"type\":\"HBar\"},{\"attributes\":{},\"id\":\"47c82f5b-a8a0-482c-974f-82a7b7892bb3\",\"type\":\"LinearScale\"},{\"attributes\":{},\"id\":\"616d0f9a-90a8-4f88-8434-6737e7f9c4f5\",\"type\":\"BasicTicker\"},{\"attributes\":{\"formatter\":{\"id\":\"274d2cb0-ca30-42c1-95a5-02698fd7324b\",\"type\":\"FuncTickFormatter\"},\"plot\":{\"id\":\"c94ce645-9d82-47c3-ac4c-bdd6a085f0b4\",\"subtype\":\"Figure\",\"type\":\"Plot\"},\"ticker\":{\"id\":\"616d0f9a-90a8-4f88-8434-6737e7f9c4f5\",\"type\":\"BasicTicker\"}},\"id\":\"dec95f54-6696-4302-b98f-057a48c1695c\",\"type\":\"LinearAxis\"},{\"attributes\":{\"plot\":{\"id\":\"c94ce645-9d82-47c3-ac4c-bdd6a085f0b4\",\"subtype\":\"Figure\",\"type\":\"Plot\"},\"ticker\":{\"id\":\"616d0f9a-90a8-4f88-8434-6737e7f9c4f5\",\"type\":\"BasicTicker\"},\"visible\":false},\"id\":\"d1400d04-75da-40e1-900c-dea8cc58e96d\",\"type\":\"Grid\"},{\"attributes\":{},\"id\":\"f2da8752-c90f-463d-9797-2ad35a2f1727\",\"type\":\"BasicTicker\"},{\"attributes\":{},\"id\":\"36ff726b-2108-4b08-a178-c0750b8b912f\",\"type\":\"LinearScale\"},{\"attributes\":{\"callback\":null,\"end\":20},\"id\":\"2727f61d-1870-48d3-8d38-11ba405e7830\",\"type\":\"Range1d\"},{\"attributes\":{\"dimension\":1,\"plot\":{\"id\":\"c94ce645-9d82-47c3-ac4c-bdd6a085f0b4\",\"subtype\":\"Figure\",\"type\":\"Plot\"},\"ticker\":{\"id\":\"f2da8752-c90f-463d-9797-2ad35a2f1727\",\"type\":\"BasicTicker\"},\"visible\":false},\"id\":\"fcdbf1ad-a071-4ba7-a8e3-a8282c6c6404\",\"type\":\"Grid\"},{\"attributes\":{\"formatter\":{\"id\":\"8e12540c-7fac-4bf0-a425-e9bdb740cbc9\",\"type\":\"BasicTickFormatter\"},\"plot\":{\"id\":\"c94ce645-9d82-47c3-ac4c-bdd6a085f0b4\",\"subtype\":\"Figure\",\"type\":\"Plot\"},\"ticker\":{\"id\":\"f2da8752-c90f-463d-9797-2ad35a2f1727\",\"type\":\"BasicTicker\"},\"visible\":false},\"id\":\"57947b25-8d17-41ea-9e27-f2735d856452\",\"type\":\"LinearAxis\"},{\"attributes\":{\"fill_alpha\":{\"value\":0.1},\"fill_color\":{\"value\":\"#1f77b4\"},\"height\":{\"value\":0.5},\"left\":{\"value\":-20926.2},\"line_alpha\":{\"value\":0.1},\"line_color\":{\"value\":\"#1f77b4\"},\"line_width\":{\"value\":0.5},\"right\":{\"field\":\"right\"},\"y\":{\"field\":\"y\"}},\"id\":\"ba3bf0b3-ceb8-4dd2-b247-00af9977ef43\",\"type\":\"HBar\"},{\"attributes\":{\"source\":{\"id\":\"06861dd2-536c-47f6-b754-9d2f1888e1ab\",\"type\":\"ColumnDataSource\"}},\"id\":\"018a8285-dbd1-419e-9021-ca6ebbf97af5\",\"type\":\"CDSView\"},{\"attributes\":{},\"id\":\"3de753b1-7d1a-4ea0-b788-00f77d4511dc\",\"type\":\"HelpTool\"},{\"attributes\":{},\"id\":\"2ef0c52a-4482-4d86-ac60-da5cc2452645\",\"type\":\"ResetTool\"},{\"attributes\":{},\"id\":\"2b7db524-0ef8-4447-80e9-7afbcd45a780\",\"type\":\"PanTool\"},{\"attributes\":{},\"id\":\"fffcacfe-901a-4694-ad46-2ae06590cec5\",\"type\":\"SaveTool\"},{\"attributes\":{\"bottom_units\":\"screen\",\"fill_alpha\":{\"value\":0.5},\"fill_color\":{\"value\":\"lightgrey\"},\"left_units\":\"screen\",\"level\":\"overlay\",\"line_alpha\":{\"value\":1.0},\"line_color\":{\"value\":\"black\"},\"line_dash\":[4,4],\"line_width\":{\"value\":2},\"plot\":null,\"render_mode\":\"css\",\"right_units\":\"screen\",\"top_units\":\"screen\"},\"id\":\"4d2f86b7-ce57-4b5b-b122-f3507beee5b3\",\"type\":\"BoxAnnotation\"},{\"attributes\":{\"data_source\":{\"id\":\"06861dd2-536c-47f6-b754-9d2f1888e1ab\",\"type\":\"ColumnDataSource\"},\"glyph\":{\"id\":\"ed915252-6890-4ad3-b97a-37a90535b0f8\",\"type\":\"HBar\"},\"hover_glyph\":null,\"muted_glyph\":null,\"nonselection_glyph\":{\"id\":\"ba3bf0b3-ceb8-4dd2-b247-00af9977ef43\",\"type\":\"HBar\"},\"selection_glyph\":null,\"view\":{\"id\":\"018a8285-dbd1-419e-9021-ca6ebbf97af5\",\"type\":\"CDSView\"}},\"id\":\"6979f81f-bef1-402c-a74e-7776c5ec2e27\",\"type\":\"GlyphRenderer\"},{\"attributes\":{\"data_source\":{\"id\":\"ef39f0af-0805-476e-92a3-c4e3fec5922e\",\"type\":\"ColumnDataSource\"},\"glyph\":{\"id\":\"7ceba66b-034e-4007-88cf-f26611a8323b\",\"type\":\"HBar\"},\"hover_glyph\":null,\"muted_glyph\":null,\"nonselection_glyph\":{\"id\":\"52f7bc6a-25cd-4c2d-8fbb-73afeb164d7c\",\"type\":\"HBar\"},\"selection_glyph\":null,\"view\":{\"id\":\"f5344744-3483-4dbb-aeea-ac5b08c4b862\",\"type\":\"CDSView\"}},\"id\":\"a2c98681-c427-4a27-9fd9-26254c282c52\",\"type\":\"GlyphRenderer\"},{\"attributes\":{\"overlay\":{\"id\":\"4d2f86b7-ce57-4b5b-b122-f3507beee5b3\",\"type\":\"BoxAnnotation\"}},\"id\":\"01756ba2-5fab-4a0c-82cb-610cbf557762\",\"type\":\"BoxZoomTool\"},{\"attributes\":{\"callback\":null,\"column_names\":[\"y\",\"right\"],\"data\":{\"right\":[160637.2,167496.2,154923.2,166972.2,203205.2,208901.2,200534.2,187411.2,193635.2,223755.2,230188.2,211010.2,186072.2,184983.2,148076.2,125257.2,101143.2,70617.2,49976.2],\"y\":[1,2,3,4,5,6,7,8,9,10,11,12,13,14,15,16,17,18,19]}},\"id\":\"ef39f0af-0805-476e-92a3-c4e3fec5922e\",\"type\":\"ColumnDataSource\"},{\"attributes\":{\"callback\":null,\"end\":250000,\"start\":-250000},\"id\":\"8812d46b-1667-434a-8cf2-14331e6de1ac\",\"type\":\"Range1d\"},{\"attributes\":{},\"id\":\"542a2026-f2c1-46ba-bf13-14210a251d20\",\"type\":\"WheelZoomTool\"},{\"attributes\":{\"fill_color\":{\"value\":\"#8dd3c7\"},\"height\":{\"value\":0.5},\"left\":{\"value\":20926.2},\"line_width\":{\"value\":0.5},\"right\":{\"field\":\"right\"},\"y\":{\"field\":\"y\"}},\"id\":\"7ceba66b-034e-4007-88cf-f26611a8323b\",\"type\":\"HBar\"},{\"attributes\":{\"callback\":null,\"column_names\":[\"y\",\"right\"],\"data\":{\"right\":[-168453.2,-173218.2,-161307.2,-173540.2,-202614.2,-207075.2,-193231.2,-182194.2,-185855.2,-210348.2,-218355.2,-201663.2,-177332.2,-174393.2,-132795.2,-103441.2,-77127.2,-49213.2,-32943.2],\"y\":[1,2,3,4,5,6,7,8,9,10,11,12,13,14,15,16,17,18,19]}},\"id\":\"06861dd2-536c-47f6-b754-9d2f1888e1ab\",\"type\":\"ColumnDataSource\"},{\"attributes\":{\"code\":\"\\n    return Math.abs(tick)\"},\"id\":\"274d2cb0-ca30-42c1-95a5-02698fd7324b\",\"type\":\"FuncTickFormatter\"},{\"attributes\":{},\"id\":\"8e12540c-7fac-4bf0-a425-e9bdb740cbc9\",\"type\":\"BasicTickFormatter\"}],\"root_ids\":[\"c94ce645-9d82-47c3-ac4c-bdd6a085f0b4\"]},\"title\":\"Bokeh Application\",\"version\":\"0.12.13\"}};\n",
       "  var render_items = [{\"docid\":\"0f2bea9d-040a-4d6e-99af-092e59b2ddee\",\"elementid\":\"43568836-22cc-4091-9906-c9ecc0cffca3\",\"modelid\":\"c94ce645-9d82-47c3-ac4c-bdd6a085f0b4\"}];\n",
       "  root.Bokeh.embed.embed_items_notebook(docs_json, render_items);\n",
       "\n",
       "  }\n",
       "  if (root.Bokeh !== undefined) {\n",
       "    embed_document(root);\n",
       "  } else {\n",
       "    var attempts = 0;\n",
       "    var timer = setInterval(function(root) {\n",
       "      if (root.Bokeh !== undefined) {\n",
       "        embed_document(root);\n",
       "        clearInterval(timer);\n",
       "      }\n",
       "      attempts++;\n",
       "      if (attempts > 100) {\n",
       "        console.log(\"Bokeh: ERROR: Unable to run BokehJS code because BokehJS library is missing\")\n",
       "        clearInterval(timer);\n",
       "      }\n",
       "    }, 10, root)\n",
       "  }\n",
       "})(window);"
      ],
      "application/vnd.bokehjs_exec.v0+json": ""
     },
     "metadata": {
      "application/vnd.bokehjs_exec.v0+json": {
       "id": "c94ce645-9d82-47c3-ac4c-bdd6a085f0b4"
      }
     },
     "output_type": "display_data"
    }
   ],
   "source": [
    "show(pop_pyramid(scot, 'Year', 2016, title=True,\n",
    "                 xaxis=True, export=True, x_lim=250000, stroke=True))"
   ]
  },
  {
   "cell_type": "code",
   "execution_count": null,
   "metadata": {},
   "outputs": [],
   "source": [
    "show(pop_pyramid(scot, 'Year', 2009, title=True, xaxis=True, export=False, x_lim=250000))"
   ]
  },
  {
   "cell_type": "code",
   "execution_count": null,
   "metadata": {},
   "outputs": [],
   "source": []
  },
  {
   "cell_type": "code",
   "execution_count": null,
   "metadata": {},
   "outputs": [],
   "source": []
  },
  {
   "cell_type": "markdown",
   "metadata": {},
   "source": [
    "#### Compare images of population pyramids to find similar shapes"
   ]
  },
  {
   "cell_type": "code",
   "execution_count": null,
   "metadata": {},
   "outputs": [],
   "source": [
    "%matplotlib inline"
   ]
  },
  {
   "cell_type": "code",
   "execution_count": null,
   "metadata": {},
   "outputs": [],
   "source": [
    "from imageio import imread\n",
    "from scipy.linalg import norm\n",
    "from scipy import sum, average\n",
    "from pathlib import Path\n",
    "import os"
   ]
  },
  {
   "cell_type": "code",
   "execution_count": null,
   "metadata": {},
   "outputs": [],
   "source": [
    "#code adapted from:\n",
    "#https://stackoverflow.com/questions/189943/\n",
    "#how-can-i-quantify-difference-between-two-images#3935002\n",
    "def to_grayscale(arr):\n",
    "    \"If arr is a color image (3D array), convert it to grayscale (2D array).\"\n",
    "    if len(arr.shape) == 3:\n",
    "        return average(arr, -1)\n",
    "    else:\n",
    "        return arr\n",
    "\n",
    "def compare_images(img1, img2):\n",
    "    # calculate the difference and its norms\n",
    "    diff = img1 - img2\n",
    "    m_norm = sum(abs(diff)) # Manhattan norm\n",
    "    z_norm = norm(diff.ravel(), 0) # Zero norm\n",
    "    return (m_norm, z_norm)\n",
    "\n",
    "def main(file1, file2):\n",
    "    # read images as 2D arrays (convert to grayscale for simplicity)\n",
    "    img1 = to_grayscale(imread(file1).astype(float))\n",
    "    img2 = to_grayscale(imread(file2).astype(float))\n",
    "    # compare\n",
    "    n_m, n_0 = compare_images(img1, img2)\n",
    "    return n_m    \n",
    "    #print (\"Manhattan norm:\", n_m, \"/ per pixel:\", n_m/img1.size)\n",
    "    #print (\"Zero norm:\", n_0, \"/ per pixel:\", n_0*1.0/img1.size)"
   ]
  },
  {
   "cell_type": "code",
   "execution_count": null,
   "metadata": {},
   "outputs": [],
   "source": [
    "ref_image = 'images/pp_Uist.png'\n",
    "comp_images = ['images/compare/' + x for x in os.listdir('images/compare')]"
   ]
  },
  {
   "cell_type": "code",
   "execution_count": null,
   "metadata": {},
   "outputs": [],
   "source": [
    "image_dict = {}\n",
    "#extract area name from filename and pair it with the output of the compare function\n",
    "for image in comp_images:\n",
    "    image_dict[image[18:-4]] = main(ref_image, image)\n",
    "\n",
    "sorted_dict = sorted(image_dict, key=lambda x : image_dict[x])"
   ]
  },
  {
   "cell_type": "code",
   "execution_count": null,
   "metadata": {},
   "outputs": [],
   "source": [
    "#visualise the differences from Uist for each council area\n",
    "like_df = (pd.DataFrame.from_dict(image_dict, orient='index', columns=['Value'])\n",
    "            .reset_index()\n",
    "            .sort_values('Value', ascending=False))\n",
    "\n",
    "like_df.plot(x='index', y='Value', kind='barh', legend=False, figsize=(14,10), colormap='tab20c')"
   ]
  },
  {
   "cell_type": "markdown",
   "metadata": {},
   "source": [
    "#### Get the image resulting from the difference of two images"
   ]
  },
  {
   "cell_type": "code",
   "execution_count": 13,
   "metadata": {},
   "outputs": [],
   "source": [
    "from PIL import ImageChops, Image"
   ]
  },
  {
   "cell_type": "code",
   "execution_count": 14,
   "metadata": {},
   "outputs": [],
   "source": [
    "img_1 = Image.open('images/Scotland_2001.png').convert('RGB')\n",
    "img_2 = Image.open('images/Scotland_2016.png').convert('RGB')"
   ]
  },
  {
   "cell_type": "code",
   "execution_count": 15,
   "metadata": {},
   "outputs": [],
   "source": [
    "diff = ImageChops.difference(img_1, img_2)"
   ]
  },
  {
   "cell_type": "code",
   "execution_count": 16,
   "metadata": {},
   "outputs": [],
   "source": [
    "diff.save('image_diff.png')"
   ]
  }
 ],
 "metadata": {
  "kernelspec": {
   "display_name": "Python 3",
   "language": "python",
   "name": "python3"
  },
  "language_info": {
   "codemirror_mode": {
    "name": "ipython",
    "version": 3
   },
   "file_extension": ".py",
   "mimetype": "text/x-python",
   "name": "python",
   "nbconvert_exporter": "python",
   "pygments_lexer": "ipython3",
   "version": "3.6.4"
  }
 },
 "nbformat": 4,
 "nbformat_minor": 2
}
