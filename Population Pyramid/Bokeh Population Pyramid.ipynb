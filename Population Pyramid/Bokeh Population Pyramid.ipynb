{
 "cells": [
  {
   "cell_type": "code",
   "execution_count": 1,
   "metadata": {},
   "outputs": [],
   "source": [
    "import bokeh\n",
    "from bokeh.plotting import figure, show, output_notebook\n",
    "from bokeh.layouts import gridplot, row, column\n",
    "from bokeh.models import FuncTickFormatter\n",
    "import pandas as pd"
   ]
  },
  {
   "cell_type": "code",
   "execution_count": 2,
   "metadata": {},
   "outputs": [
    {
     "data": {
      "text/html": [
       "\n",
       "    <div class=\"bk-root\">\n",
       "        <a href=\"https://bokeh.pydata.org\" target=\"_blank\" class=\"bk-logo bk-logo-small bk-logo-notebook\"></a>\n",
       "        <span id=\"438edda9-9c85-4acd-8318-c8c6b94f838a\">Loading BokehJS ...</span>\n",
       "    </div>"
      ]
     },
     "metadata": {},
     "output_type": "display_data"
    },
    {
     "data": {
      "application/javascript": [
       "\n",
       "(function(root) {\n",
       "  function now() {\n",
       "    return new Date();\n",
       "  }\n",
       "\n",
       "  var force = true;\n",
       "\n",
       "  if (typeof (root._bokeh_onload_callbacks) === \"undefined\" || force === true) {\n",
       "    root._bokeh_onload_callbacks = [];\n",
       "    root._bokeh_is_loading = undefined;\n",
       "  }\n",
       "\n",
       "  var JS_MIME_TYPE = 'application/javascript';\n",
       "  var HTML_MIME_TYPE = 'text/html';\n",
       "  var EXEC_MIME_TYPE = 'application/vnd.bokehjs_exec.v0+json';\n",
       "  var CLASS_NAME = 'output_bokeh rendered_html';\n",
       "\n",
       "  /**\n",
       "   * Render data to the DOM node\n",
       "   */\n",
       "  function render(props, node) {\n",
       "    var script = document.createElement(\"script\");\n",
       "    node.appendChild(script);\n",
       "  }\n",
       "\n",
       "  /**\n",
       "   * Handle when an output is cleared or removed\n",
       "   */\n",
       "  function handleClearOutput(event, handle) {\n",
       "    var cell = handle.cell;\n",
       "\n",
       "    var id = cell.output_area._bokeh_element_id;\n",
       "    var server_id = cell.output_area._bokeh_server_id;\n",
       "    // Clean up Bokeh references\n",
       "    if (id !== undefined) {\n",
       "      Bokeh.index[id].model.document.clear();\n",
       "      delete Bokeh.index[id];\n",
       "    }\n",
       "\n",
       "    if (server_id !== undefined) {\n",
       "      // Clean up Bokeh references\n",
       "      var cmd = \"from bokeh.io.state import curstate; print(curstate().uuid_to_server['\" + server_id + \"'].get_sessions()[0].document.roots[0]._id)\";\n",
       "      cell.notebook.kernel.execute(cmd, {\n",
       "        iopub: {\n",
       "          output: function(msg) {\n",
       "            var element_id = msg.content.text.trim();\n",
       "            Bokeh.index[element_id].model.document.clear();\n",
       "            delete Bokeh.index[element_id];\n",
       "          }\n",
       "        }\n",
       "      });\n",
       "      // Destroy server and session\n",
       "      var cmd = \"import bokeh.io.notebook as ion; ion.destroy_server('\" + server_id + \"')\";\n",
       "      cell.notebook.kernel.execute(cmd);\n",
       "    }\n",
       "  }\n",
       "\n",
       "  /**\n",
       "   * Handle when a new output is added\n",
       "   */\n",
       "  function handleAddOutput(event, handle) {\n",
       "    var output_area = handle.output_area;\n",
       "    var output = handle.output;\n",
       "\n",
       "    // limit handleAddOutput to display_data with EXEC_MIME_TYPE content only\n",
       "    if ((output.output_type != \"display_data\") || (!output.data.hasOwnProperty(EXEC_MIME_TYPE))) {\n",
       "      return\n",
       "    }\n",
       "\n",
       "    var toinsert = output_area.element.find(\".\" + CLASS_NAME.split(' ')[0]);\n",
       "\n",
       "    if (output.metadata[EXEC_MIME_TYPE][\"id\"] !== undefined) {\n",
       "      toinsert[0].firstChild.textContent = output.data[JS_MIME_TYPE];\n",
       "      // store reference to embed id on output_area\n",
       "      output_area._bokeh_element_id = output.metadata[EXEC_MIME_TYPE][\"id\"];\n",
       "    }\n",
       "    if (output.metadata[EXEC_MIME_TYPE][\"server_id\"] !== undefined) {\n",
       "      var bk_div = document.createElement(\"div\");\n",
       "      bk_div.innerHTML = output.data[HTML_MIME_TYPE];\n",
       "      var script_attrs = bk_div.children[0].attributes;\n",
       "      for (var i = 0; i < script_attrs.length; i++) {\n",
       "        toinsert[0].firstChild.setAttribute(script_attrs[i].name, script_attrs[i].value);\n",
       "      }\n",
       "      // store reference to server id on output_area\n",
       "      output_area._bokeh_server_id = output.metadata[EXEC_MIME_TYPE][\"server_id\"];\n",
       "    }\n",
       "  }\n",
       "\n",
       "  function register_renderer(events, OutputArea) {\n",
       "\n",
       "    function append_mime(data, metadata, element) {\n",
       "      // create a DOM node to render to\n",
       "      var toinsert = this.create_output_subarea(\n",
       "        metadata,\n",
       "        CLASS_NAME,\n",
       "        EXEC_MIME_TYPE\n",
       "      );\n",
       "      this.keyboard_manager.register_events(toinsert);\n",
       "      // Render to node\n",
       "      var props = {data: data, metadata: metadata[EXEC_MIME_TYPE]};\n",
       "      render(props, toinsert[0]);\n",
       "      element.append(toinsert);\n",
       "      return toinsert\n",
       "    }\n",
       "\n",
       "    /* Handle when an output is cleared or removed */\n",
       "    events.on('clear_output.CodeCell', handleClearOutput);\n",
       "    events.on('delete.Cell', handleClearOutput);\n",
       "\n",
       "    /* Handle when a new output is added */\n",
       "    events.on('output_added.OutputArea', handleAddOutput);\n",
       "\n",
       "    /**\n",
       "     * Register the mime type and append_mime function with output_area\n",
       "     */\n",
       "    OutputArea.prototype.register_mime_type(EXEC_MIME_TYPE, append_mime, {\n",
       "      /* Is output safe? */\n",
       "      safe: true,\n",
       "      /* Index of renderer in `output_area.display_order` */\n",
       "      index: 0\n",
       "    });\n",
       "  }\n",
       "\n",
       "  // register the mime type if in Jupyter Notebook environment and previously unregistered\n",
       "  if (root.Jupyter !== undefined) {\n",
       "    var events = require('base/js/events');\n",
       "    var OutputArea = require('notebook/js/outputarea').OutputArea;\n",
       "\n",
       "    if (OutputArea.prototype.mime_types().indexOf(EXEC_MIME_TYPE) == -1) {\n",
       "      register_renderer(events, OutputArea);\n",
       "    }\n",
       "  }\n",
       "\n",
       "  \n",
       "  if (typeof (root._bokeh_timeout) === \"undefined\" || force === true) {\n",
       "    root._bokeh_timeout = Date.now() + 5000;\n",
       "    root._bokeh_failed_load = false;\n",
       "  }\n",
       "\n",
       "  var NB_LOAD_WARNING = {'data': {'text/html':\n",
       "     \"<div style='background-color: #fdd'>\\n\"+\n",
       "     \"<p>\\n\"+\n",
       "     \"BokehJS does not appear to have successfully loaded. If loading BokehJS from CDN, this \\n\"+\n",
       "     \"may be due to a slow or bad network connection. Possible fixes:\\n\"+\n",
       "     \"</p>\\n\"+\n",
       "     \"<ul>\\n\"+\n",
       "     \"<li>re-rerun `output_notebook()` to attempt to load from CDN again, or</li>\\n\"+\n",
       "     \"<li>use INLINE resources instead, as so:</li>\\n\"+\n",
       "     \"</ul>\\n\"+\n",
       "     \"<code>\\n\"+\n",
       "     \"from bokeh.resources import INLINE\\n\"+\n",
       "     \"output_notebook(resources=INLINE)\\n\"+\n",
       "     \"</code>\\n\"+\n",
       "     \"</div>\"}};\n",
       "\n",
       "  function display_loaded() {\n",
       "    var el = document.getElementById(\"438edda9-9c85-4acd-8318-c8c6b94f838a\");\n",
       "    if (el != null) {\n",
       "      el.textContent = \"BokehJS is loading...\";\n",
       "    }\n",
       "    if (root.Bokeh !== undefined) {\n",
       "      if (el != null) {\n",
       "        el.textContent = \"BokehJS \" + root.Bokeh.version + \" successfully loaded.\";\n",
       "      }\n",
       "    } else if (Date.now() < root._bokeh_timeout) {\n",
       "      setTimeout(display_loaded, 100)\n",
       "    }\n",
       "  }\n",
       "\n",
       "\n",
       "  function run_callbacks() {\n",
       "    try {\n",
       "      root._bokeh_onload_callbacks.forEach(function(callback) { callback() });\n",
       "    }\n",
       "    finally {\n",
       "      delete root._bokeh_onload_callbacks\n",
       "    }\n",
       "    console.info(\"Bokeh: all callbacks have finished\");\n",
       "  }\n",
       "\n",
       "  function load_libs(js_urls, callback) {\n",
       "    root._bokeh_onload_callbacks.push(callback);\n",
       "    if (root._bokeh_is_loading > 0) {\n",
       "      console.log(\"Bokeh: BokehJS is being loaded, scheduling callback at\", now());\n",
       "      return null;\n",
       "    }\n",
       "    if (js_urls == null || js_urls.length === 0) {\n",
       "      run_callbacks();\n",
       "      return null;\n",
       "    }\n",
       "    console.log(\"Bokeh: BokehJS not loaded, scheduling load and callback at\", now());\n",
       "    root._bokeh_is_loading = js_urls.length;\n",
       "    for (var i = 0; i < js_urls.length; i++) {\n",
       "      var url = js_urls[i];\n",
       "      var s = document.createElement('script');\n",
       "      s.src = url;\n",
       "      s.async = false;\n",
       "      s.onreadystatechange = s.onload = function() {\n",
       "        root._bokeh_is_loading--;\n",
       "        if (root._bokeh_is_loading === 0) {\n",
       "          console.log(\"Bokeh: all BokehJS libraries loaded\");\n",
       "          run_callbacks()\n",
       "        }\n",
       "      };\n",
       "      s.onerror = function() {\n",
       "        console.warn(\"failed to load library \" + url);\n",
       "      };\n",
       "      console.log(\"Bokeh: injecting script tag for BokehJS library: \", url);\n",
       "      document.getElementsByTagName(\"head\")[0].appendChild(s);\n",
       "    }\n",
       "  };var element = document.getElementById(\"438edda9-9c85-4acd-8318-c8c6b94f838a\");\n",
       "  if (element == null) {\n",
       "    console.log(\"Bokeh: ERROR: autoload.js configured with elementid '438edda9-9c85-4acd-8318-c8c6b94f838a' but no matching script tag was found. \")\n",
       "    return false;\n",
       "  }\n",
       "\n",
       "  var js_urls = [\"https://cdn.pydata.org/bokeh/release/bokeh-0.12.13.min.js\", \"https://cdn.pydata.org/bokeh/release/bokeh-widgets-0.12.13.min.js\", \"https://cdn.pydata.org/bokeh/release/bokeh-tables-0.12.13.min.js\", \"https://cdn.pydata.org/bokeh/release/bokeh-gl-0.12.13.min.js\"];\n",
       "\n",
       "  var inline_js = [\n",
       "    function(Bokeh) {\n",
       "      Bokeh.set_log_level(\"info\");\n",
       "    },\n",
       "    \n",
       "    function(Bokeh) {\n",
       "      \n",
       "    },\n",
       "    function(Bokeh) {\n",
       "      console.log(\"Bokeh: injecting CSS: https://cdn.pydata.org/bokeh/release/bokeh-0.12.13.min.css\");\n",
       "      Bokeh.embed.inject_css(\"https://cdn.pydata.org/bokeh/release/bokeh-0.12.13.min.css\");\n",
       "      console.log(\"Bokeh: injecting CSS: https://cdn.pydata.org/bokeh/release/bokeh-widgets-0.12.13.min.css\");\n",
       "      Bokeh.embed.inject_css(\"https://cdn.pydata.org/bokeh/release/bokeh-widgets-0.12.13.min.css\");\n",
       "      console.log(\"Bokeh: injecting CSS: https://cdn.pydata.org/bokeh/release/bokeh-tables-0.12.13.min.css\");\n",
       "      Bokeh.embed.inject_css(\"https://cdn.pydata.org/bokeh/release/bokeh-tables-0.12.13.min.css\");\n",
       "    }\n",
       "  ];\n",
       "\n",
       "  function run_inline_js() {\n",
       "    \n",
       "    if ((root.Bokeh !== undefined) || (force === true)) {\n",
       "      for (var i = 0; i < inline_js.length; i++) {\n",
       "        inline_js[i].call(root, root.Bokeh);\n",
       "      }if (force === true) {\n",
       "        display_loaded();\n",
       "      }} else if (Date.now() < root._bokeh_timeout) {\n",
       "      setTimeout(run_inline_js, 100);\n",
       "    } else if (!root._bokeh_failed_load) {\n",
       "      console.log(\"Bokeh: BokehJS failed to load within specified timeout.\");\n",
       "      root._bokeh_failed_load = true;\n",
       "    } else if (force !== true) {\n",
       "      var cell = $(document.getElementById(\"438edda9-9c85-4acd-8318-c8c6b94f838a\")).parents('.cell').data().cell;\n",
       "      cell.output_area.append_execute_result(NB_LOAD_WARNING)\n",
       "    }\n",
       "\n",
       "  }\n",
       "\n",
       "  if (root._bokeh_is_loading === 0) {\n",
       "    console.log(\"Bokeh: BokehJS loaded, going straight to plotting\");\n",
       "    run_inline_js();\n",
       "  } else {\n",
       "    load_libs(js_urls, function() {\n",
       "      console.log(\"Bokeh: BokehJS plotting callback run at\", now());\n",
       "      run_inline_js();\n",
       "    });\n",
       "  }\n",
       "}(window));"
      ],
      "application/vnd.bokehjs_load.v0+json": "\n(function(root) {\n  function now() {\n    return new Date();\n  }\n\n  var force = true;\n\n  if (typeof (root._bokeh_onload_callbacks) === \"undefined\" || force === true) {\n    root._bokeh_onload_callbacks = [];\n    root._bokeh_is_loading = undefined;\n  }\n\n  \n\n  \n  if (typeof (root._bokeh_timeout) === \"undefined\" || force === true) {\n    root._bokeh_timeout = Date.now() + 5000;\n    root._bokeh_failed_load = false;\n  }\n\n  var NB_LOAD_WARNING = {'data': {'text/html':\n     \"<div style='background-color: #fdd'>\\n\"+\n     \"<p>\\n\"+\n     \"BokehJS does not appear to have successfully loaded. If loading BokehJS from CDN, this \\n\"+\n     \"may be due to a slow or bad network connection. Possible fixes:\\n\"+\n     \"</p>\\n\"+\n     \"<ul>\\n\"+\n     \"<li>re-rerun `output_notebook()` to attempt to load from CDN again, or</li>\\n\"+\n     \"<li>use INLINE resources instead, as so:</li>\\n\"+\n     \"</ul>\\n\"+\n     \"<code>\\n\"+\n     \"from bokeh.resources import INLINE\\n\"+\n     \"output_notebook(resources=INLINE)\\n\"+\n     \"</code>\\n\"+\n     \"</div>\"}};\n\n  function display_loaded() {\n    var el = document.getElementById(\"438edda9-9c85-4acd-8318-c8c6b94f838a\");\n    if (el != null) {\n      el.textContent = \"BokehJS is loading...\";\n    }\n    if (root.Bokeh !== undefined) {\n      if (el != null) {\n        el.textContent = \"BokehJS \" + root.Bokeh.version + \" successfully loaded.\";\n      }\n    } else if (Date.now() < root._bokeh_timeout) {\n      setTimeout(display_loaded, 100)\n    }\n  }\n\n\n  function run_callbacks() {\n    try {\n      root._bokeh_onload_callbacks.forEach(function(callback) { callback() });\n    }\n    finally {\n      delete root._bokeh_onload_callbacks\n    }\n    console.info(\"Bokeh: all callbacks have finished\");\n  }\n\n  function load_libs(js_urls, callback) {\n    root._bokeh_onload_callbacks.push(callback);\n    if (root._bokeh_is_loading > 0) {\n      console.log(\"Bokeh: BokehJS is being loaded, scheduling callback at\", now());\n      return null;\n    }\n    if (js_urls == null || js_urls.length === 0) {\n      run_callbacks();\n      return null;\n    }\n    console.log(\"Bokeh: BokehJS not loaded, scheduling load and callback at\", now());\n    root._bokeh_is_loading = js_urls.length;\n    for (var i = 0; i < js_urls.length; i++) {\n      var url = js_urls[i];\n      var s = document.createElement('script');\n      s.src = url;\n      s.async = false;\n      s.onreadystatechange = s.onload = function() {\n        root._bokeh_is_loading--;\n        if (root._bokeh_is_loading === 0) {\n          console.log(\"Bokeh: all BokehJS libraries loaded\");\n          run_callbacks()\n        }\n      };\n      s.onerror = function() {\n        console.warn(\"failed to load library \" + url);\n      };\n      console.log(\"Bokeh: injecting script tag for BokehJS library: \", url);\n      document.getElementsByTagName(\"head\")[0].appendChild(s);\n    }\n  };var element = document.getElementById(\"438edda9-9c85-4acd-8318-c8c6b94f838a\");\n  if (element == null) {\n    console.log(\"Bokeh: ERROR: autoload.js configured with elementid '438edda9-9c85-4acd-8318-c8c6b94f838a' but no matching script tag was found. \")\n    return false;\n  }\n\n  var js_urls = [\"https://cdn.pydata.org/bokeh/release/bokeh-0.12.13.min.js\", \"https://cdn.pydata.org/bokeh/release/bokeh-widgets-0.12.13.min.js\", \"https://cdn.pydata.org/bokeh/release/bokeh-tables-0.12.13.min.js\", \"https://cdn.pydata.org/bokeh/release/bokeh-gl-0.12.13.min.js\"];\n\n  var inline_js = [\n    function(Bokeh) {\n      Bokeh.set_log_level(\"info\");\n    },\n    \n    function(Bokeh) {\n      \n    },\n    function(Bokeh) {\n      console.log(\"Bokeh: injecting CSS: https://cdn.pydata.org/bokeh/release/bokeh-0.12.13.min.css\");\n      Bokeh.embed.inject_css(\"https://cdn.pydata.org/bokeh/release/bokeh-0.12.13.min.css\");\n      console.log(\"Bokeh: injecting CSS: https://cdn.pydata.org/bokeh/release/bokeh-widgets-0.12.13.min.css\");\n      Bokeh.embed.inject_css(\"https://cdn.pydata.org/bokeh/release/bokeh-widgets-0.12.13.min.css\");\n      console.log(\"Bokeh: injecting CSS: https://cdn.pydata.org/bokeh/release/bokeh-tables-0.12.13.min.css\");\n      Bokeh.embed.inject_css(\"https://cdn.pydata.org/bokeh/release/bokeh-tables-0.12.13.min.css\");\n    }\n  ];\n\n  function run_inline_js() {\n    \n    if ((root.Bokeh !== undefined) || (force === true)) {\n      for (var i = 0; i < inline_js.length; i++) {\n        inline_js[i].call(root, root.Bokeh);\n      }if (force === true) {\n        display_loaded();\n      }} else if (Date.now() < root._bokeh_timeout) {\n      setTimeout(run_inline_js, 100);\n    } else if (!root._bokeh_failed_load) {\n      console.log(\"Bokeh: BokehJS failed to load within specified timeout.\");\n      root._bokeh_failed_load = true;\n    } else if (force !== true) {\n      var cell = $(document.getElementById(\"438edda9-9c85-4acd-8318-c8c6b94f838a\")).parents('.cell').data().cell;\n      cell.output_area.append_execute_result(NB_LOAD_WARNING)\n    }\n\n  }\n\n  if (root._bokeh_is_loading === 0) {\n    console.log(\"Bokeh: BokehJS loaded, going straight to plotting\");\n    run_inline_js();\n  } else {\n    load_libs(js_urls, function() {\n      console.log(\"Bokeh: BokehJS plotting callback run at\", now());\n      run_inline_js();\n    });\n  }\n}(window));"
     },
     "metadata": {},
     "output_type": "display_data"
    }
   ],
   "source": [
    "output_notebook()"
   ]
  },
  {
   "cell_type": "markdown",
   "metadata": {},
   "source": [
    "#### Main Population Pyramid function"
   ]
  },
  {
   "cell_type": "code",
   "execution_count": 3,
   "metadata": {},
   "outputs": [],
   "source": [
    "def pop_pyramid(dataframe, facet_col, facet_value, **kwargs):\n",
    "    \"\"\"\n",
    "    Create a population pyramid plot for each facet value\n",
    "    assuming the columns in the dataframe are called Age_Bands, Gender\n",
    "    and Population.\n",
    "    \n",
    "    Returns a Bokeh plot object.\n",
    "    \"\"\"\n",
    "    options = {\n",
    "            'export': False,\n",
    "            'title' : True,\n",
    "            'xaxis' : False,\n",
    "            'x_lim' : None,\n",
    "            'stroke': True}\n",
    "    \n",
    "    options.update(kwargs)\n",
    "    \n",
    "    df = dataframe[dataframe[facet_col]==facet_value].copy()\n",
    "    \n",
    "    #Convert Age Bands to category type\n",
    "    #and sort to make sure 0-4 is followed by 5-9 and not 10-14.\n",
    "    \n",
    "    df.loc[:,'Age_Bands'] = df['Age_Bands'].astype('category')\n",
    "    df['Age_Bands'].cat.reorder_categories(\n",
    "                                sorted(df['Age_Bands'].unique(), key=lambda x:int(x[:2])),\n",
    "                                inplace=True, ordered=True)\n",
    "    df.sort_values('Age_Bands', inplace=True) \n",
    "    \n",
    "    #offset of 0.015 works well for % of total; for absolute use df['Population'].max() * 0.1\n",
    "    offset = df['Population'].max() * 0.1\n",
    "    #x_lim of 0.1 works well for % of total; for absolute use df['Population'].max() * 1.2\n",
    "    #if you need a consistent x limit, pass it into the function\n",
    "        \n",
    "    if options['x_lim'] == None:\n",
    "        x_lim = df['Population'].max() * 1.2\n",
    "    else:\n",
    "        x_lim = options['x_lim']\n",
    "    \n",
    "    y_lim = len(df['Age_Bands'].unique())\n",
    "    y_text = df.Age_Bands.unique()\n",
    "\n",
    "    total = df['Population'].sum()\n",
    "    total_male = df[df['Gender'] == 'Male']['Population'].sum()\n",
    "    total_female = df[df['Gender'] == 'Female']['Population'].sum()\n",
    "\n",
    "    #switch between % of total and raw values: (-x/total) or just -x\n",
    "    x_male = ([-x - offset for x in df[df['Gender'] == 'Male']\n",
    "               .Population\n",
    "               .values])\n",
    "    x_female = ([x + offset for x in df[df['Gender'] == 'Female']\n",
    "                 .Population\n",
    "                 .values])\n",
    "    \n",
    "    #y_range for plots (not figure) starts with 1 not 0 to \"lift up\" the plot a little bit\n",
    "    p = figure(plot_width=600, plot_height=400, x_range=(-x_lim, x_lim), y_range=(0, y_lim+1))\n",
    "    \n",
    "    stroke = 'solid'\n",
    "    stroke_color = 'black'\n",
    "    stroke_width = 0.5\n",
    "    \n",
    "    if not options['stroke']:\n",
    "        stroke = None\n",
    "        stroke_color = None\n",
    "        stroke_width = None\n",
    "\n",
    "    male_bar = p.hbar(y=range(1,y_lim+1), height=0.5, right=x_male, color=\"#bebada\",\n",
    "            left=-offset, line_dash=stroke, line_color=stroke_color, line_width=stroke_width)\n",
    "    female_bar = p.hbar(y=range(1,y_lim+1), height=0.5, right=x_female, color=\"#8dd3c7\",\n",
    "            left=offset, line_dash=stroke, line_color=stroke_color, line_width=stroke_width)\n",
    "    text = p.text(x=[0]*y_lim, y=range(1,y_lim+1), text=y_text,\n",
    "            text_align='center', y_offset=8, text_font_size=\"11px\")\n",
    "\n",
    "    #Set default formatting options\n",
    "    p.grid.visible = False\n",
    "    p.yaxis.visible = False\n",
    "    p.outline_line_color = 'darkgrey'\n",
    "    p.toolbar.logo = None\n",
    "    p.toolbar_location = None\n",
    "    p.xaxis[0].formatter = FuncTickFormatter(code=\"\"\"\n",
    "    return Math.abs(tick)\"\"\")\n",
    "    \n",
    "    if not options['xaxis']:\n",
    "        p.xaxis.visible = False        \n",
    "    \n",
    "    #Set title options\n",
    "    if options['title']:\n",
    "        p.title.text = str(facet_value)\n",
    "        p.title.align = 'center'\n",
    "        \n",
    "    #Control exporting behaviour\n",
    "    if options['export']:\n",
    "        bokeh.io.export_png(p, filename='pp_{}.png'.format(facet_value))\n",
    "\n",
    "    return p"
   ]
  },
  {
   "cell_type": "markdown",
   "metadata": {},
   "source": [
    "#### Create a plot for each of the 32 council areas"
   ]
  },
  {
   "cell_type": "code",
   "execution_count": 4,
   "metadata": {},
   "outputs": [],
   "source": [
    "#Data Frame with all 32 council areas\n",
    "df = pd.read_csv('data/ca_pyramid_data.csv')\n",
    "data = (df.groupby(['Age_Bands', 'Area', 'Gender'])['Population']\n",
    "        .sum()\n",
    "        .reset_index(name='Population'))"
   ]
  },
  {
   "cell_type": "code",
   "execution_count": 5,
   "metadata": {
    "scrolled": false
   },
   "outputs": [
    {
     "data": {
      "text/html": [
       "\n",
       "<div class=\"bk-root\">\n",
       "    <div class=\"bk-plotdiv\" id=\"0547da1c-93d6-498c-b0b3-a1852fdeb636\"></div>\n",
       "</div>"
      ]
     },
     "metadata": {},
     "output_type": "display_data"
    },
    {
     "data": {
      "application/javascript": [
       "(function(root) {\n",
       "  function embed_document(root) {\n",
       "    \n",
       "  var docs_json = {\"cf1ab684-3e08-483c-a758-5e16eba081d6\":{\"roots\":{\"references\":[{\"attributes\":{\"source\":{\"id\":\"7a94285e-7a69-4734-a112-3101296b851a\",\"type\":\"ColumnDataSource\"}},\"id\":\"9b625010-fd20-497d-9b1c-20deaafa7ba5\",\"type\":\"CDSView\"},{\"attributes\":{},\"id\":\"e9b6f0bd-712f-4b09-abd7-8f6a5d4d57de\",\"type\":\"LinearScale\"},{\"attributes\":{\"data_source\":{\"id\":\"a0a37f90-8300-432f-ab1d-8d5466d9f9f1\",\"type\":\"ColumnDataSource\"},\"glyph\":{\"id\":\"add769d4-2b72-4c46-8b55-9d683f1bf63f\",\"type\":\"HBar\"},\"hover_glyph\":null,\"muted_glyph\":null,\"nonselection_glyph\":{\"id\":\"3adfc915-4ae1-48f8-8dca-b88771cbf073\",\"type\":\"HBar\"},\"selection_glyph\":null,\"view\":{\"id\":\"39b35ca0-583a-414a-97a4-f32f20a37bdb\",\"type\":\"CDSView\"}},\"id\":\"04127c6a-96c5-4d77-ab65-26f43c1aa3a3\",\"type\":\"GlyphRenderer\"},{\"attributes\":{\"callback\":null,\"column_names\":[\"y\",\"right\"],\"data\":{\"right\":[15622.6,15457.6,12844.6,15234.6,27539.6,30234.6,25744.6,21147.6,18825.6,18863.6,18834.6,17623.6,15047.6,15025.6,11900.6,10615.6,9202.6,7343.6,5506.6],\"y\":[1,2,3,4,5,6,7,8,9,10,11,12,13,14,15,16,17,18,19]}},\"id\":\"a0a37f90-8300-432f-ab1d-8d5466d9f9f1\",\"type\":\"ColumnDataSource\"},{\"attributes\":{\"align\":\"center\",\"plot\":null,\"text\":\"City of Edinburgh\"},\"id\":\"a6319acf-0a66-4a81-a7d8-f3b52b36b9a4\",\"type\":\"Title\"},{\"attributes\":{\"code\":\"\\n    return Math.abs(tick)\"},\"id\":\"7030f965-6125-41cf-b7de-04b07e17ae63\",\"type\":\"FuncTickFormatter\"},{\"attributes\":{\"text_align\":\"center\",\"text_color\":{\"value\":\"black\"},\"text_font_size\":{\"value\":\"11px\"},\"x\":{\"field\":\"x\"},\"y\":{\"field\":\"y\"},\"y_offset\":{\"value\":8}},\"id\":\"cbe67ccd-0ee3-4640-ba8a-a6f4f6e0d458\",\"type\":\"Text\"},{\"attributes\":{},\"id\":\"dee551d7-cfcd-4ab3-8ddc-268ac93314b9\",\"type\":\"BasicTickFormatter\"},{\"attributes\":{\"source\":{\"id\":\"a0a37f90-8300-432f-ab1d-8d5466d9f9f1\",\"type\":\"ColumnDataSource\"}},\"id\":\"39b35ca0-583a-414a-97a4-f32f20a37bdb\",\"type\":\"CDSView\"},{\"attributes\":{\"callback\":null,\"column_names\":[\"x\",\"y\",\"text\"],\"data\":{\"text\":[\"0 - 4\",\"5 - 9\",\"10 - 14\",\"15 - 19\",\"20 - 24\",\"25 - 29\",\"30 - 34\",\"35 - 39\",\"40 - 44\",\"45 - 49\",\"50 - 54\",\"55 - 59\",\"60 - 64\",\"65 - 69\",\"70 - 74\",\"75 - 79\",\"80 - 84\",\"85 - 89\",\"90+\"],\"x\":[0,0,0,0,0,0,0,0,0,0,0,0,0,0,0,0,0,0,0],\"y\":[1,2,3,4,5,6,7,8,9,10,11,12,13,14,15,16,17,18,19]}},\"id\":\"693b7753-1aef-4a12-8b7e-7c965a2435c8\",\"type\":\"ColumnDataSource\"},{\"attributes\":{\"data_source\":{\"id\":\"693b7753-1aef-4a12-8b7e-7c965a2435c8\",\"type\":\"ColumnDataSource\"},\"glyph\":{\"id\":\"cbe67ccd-0ee3-4640-ba8a-a6f4f6e0d458\",\"type\":\"Text\"},\"hover_glyph\":null,\"muted_glyph\":null,\"nonselection_glyph\":{\"id\":\"02ae896a-2ac6-42f0-bc87-520fbcc9f29d\",\"type\":\"Text\"},\"selection_glyph\":null,\"view\":{\"id\":\"ac1540e0-4cff-4b5b-9f24-9a97bcf3f31a\",\"type\":\"CDSView\"}},\"id\":\"42b3b9f3-de74-4ee8-9985-18c1c58f5528\",\"type\":\"GlyphRenderer\"},{\"attributes\":{\"text_align\":\"center\",\"text_alpha\":{\"value\":0.1},\"text_color\":{\"value\":\"black\"},\"text_font_size\":{\"value\":\"11px\"},\"x\":{\"field\":\"x\"},\"y\":{\"field\":\"y\"},\"y_offset\":{\"value\":8}},\"id\":\"02ae896a-2ac6-42f0-bc87-520fbcc9f29d\",\"type\":\"Text\"},{\"attributes\":{\"callback\":null,\"end\":20},\"id\":\"4bbc56b8-89cc-4b83-90b4-b2879cea01df\",\"type\":\"Range1d\"},{\"attributes\":{\"fill_alpha\":{\"value\":0.1},\"fill_color\":{\"value\":\"#1f77b4\"},\"height\":{\"value\":0.5},\"left\":{\"value\":-2748.6000000000004},\"line_alpha\":{\"value\":0.1},\"line_color\":{\"value\":\"#1f77b4\"},\"line_width\":{\"value\":0.5},\"right\":{\"field\":\"right\"},\"y\":{\"field\":\"y\"}},\"id\":\"79e5aba9-1799-4728-98f6-97a9ef10cd9f\",\"type\":\"HBar\"},{\"attributes\":{\"formatter\":{\"id\":\"7030f965-6125-41cf-b7de-04b07e17ae63\",\"type\":\"FuncTickFormatter\"},\"plot\":{\"id\":\"894f396f-36bc-44d2-a781-0184ba4fb6ad\",\"subtype\":\"Figure\",\"type\":\"Plot\"},\"ticker\":{\"id\":\"1f9c0921-6299-468f-83ba-9920dfdee4ff\",\"type\":\"BasicTicker\"}},\"id\":\"6e6cd6ce-409f-4fee-b209-2439f25b36fb\",\"type\":\"LinearAxis\"},{\"attributes\":{},\"id\":\"1f9c0921-6299-468f-83ba-9920dfdee4ff\",\"type\":\"BasicTicker\"},{\"attributes\":{\"below\":[{\"id\":\"6e6cd6ce-409f-4fee-b209-2439f25b36fb\",\"type\":\"LinearAxis\"}],\"left\":[{\"id\":\"a22fb75f-112e-4aac-93a4-d36836a3e2a0\",\"type\":\"LinearAxis\"}],\"outline_line_color\":{\"value\":\"darkgrey\"},\"plot_height\":400,\"renderers\":[{\"id\":\"6e6cd6ce-409f-4fee-b209-2439f25b36fb\",\"type\":\"LinearAxis\"},{\"id\":\"a76c95fc-e6d9-4c0c-b3c8-c498ce98a195\",\"type\":\"Grid\"},{\"id\":\"a22fb75f-112e-4aac-93a4-d36836a3e2a0\",\"type\":\"LinearAxis\"},{\"id\":\"14d0d472-a86a-4141-92d2-2716419e176f\",\"type\":\"Grid\"},{\"id\":\"ae4861f3-7a2c-4d49-82f8-15729cff9ee4\",\"type\":\"BoxAnnotation\"},{\"id\":\"839023a6-3f53-4368-8bc8-70b406ca01df\",\"type\":\"GlyphRenderer\"},{\"id\":\"04127c6a-96c5-4d77-ab65-26f43c1aa3a3\",\"type\":\"GlyphRenderer\"},{\"id\":\"42b3b9f3-de74-4ee8-9985-18c1c58f5528\",\"type\":\"GlyphRenderer\"}],\"title\":{\"id\":\"a6319acf-0a66-4a81-a7d8-f3b52b36b9a4\",\"type\":\"Title\"},\"toolbar\":{\"id\":\"7d711594-c03f-4636-a05c-7a9f9da56a7f\",\"type\":\"Toolbar\"},\"toolbar_location\":null,\"x_range\":{\"id\":\"63176dc9-3d47-43a0-9423-4b0cba4b8147\",\"type\":\"Range1d\"},\"x_scale\":{\"id\":\"6eb234cc-6db4-49bf-a7c7-8b2608a418cf\",\"type\":\"LinearScale\"},\"y_range\":{\"id\":\"4bbc56b8-89cc-4b83-90b4-b2879cea01df\",\"type\":\"Range1d\"},\"y_scale\":{\"id\":\"e9b6f0bd-712f-4b09-abd7-8f6a5d4d57de\",\"type\":\"LinearScale\"}},\"id\":\"894f396f-36bc-44d2-a781-0184ba4fb6ad\",\"subtype\":\"Figure\",\"type\":\"Plot\"},{\"attributes\":{\"plot\":{\"id\":\"894f396f-36bc-44d2-a781-0184ba4fb6ad\",\"subtype\":\"Figure\",\"type\":\"Plot\"},\"ticker\":{\"id\":\"1f9c0921-6299-468f-83ba-9920dfdee4ff\",\"type\":\"BasicTicker\"},\"visible\":false},\"id\":\"a76c95fc-e6d9-4c0c-b3c8-c498ce98a195\",\"type\":\"Grid\"},{\"attributes\":{\"formatter\":{\"id\":\"dee551d7-cfcd-4ab3-8ddc-268ac93314b9\",\"type\":\"BasicTickFormatter\"},\"plot\":{\"id\":\"894f396f-36bc-44d2-a781-0184ba4fb6ad\",\"subtype\":\"Figure\",\"type\":\"Plot\"},\"ticker\":{\"id\":\"b1b5f57a-46a5-42e4-9ffc-fe36833f10d6\",\"type\":\"BasicTicker\"},\"visible\":false},\"id\":\"a22fb75f-112e-4aac-93a4-d36836a3e2a0\",\"type\":\"LinearAxis\"},{\"attributes\":{},\"id\":\"b1b5f57a-46a5-42e4-9ffc-fe36833f10d6\",\"type\":\"BasicTicker\"},{\"attributes\":{\"dimension\":1,\"plot\":{\"id\":\"894f396f-36bc-44d2-a781-0184ba4fb6ad\",\"subtype\":\"Figure\",\"type\":\"Plot\"},\"ticker\":{\"id\":\"b1b5f57a-46a5-42e4-9ffc-fe36833f10d6\",\"type\":\"BasicTicker\"},\"visible\":false},\"id\":\"14d0d472-a86a-4141-92d2-2716419e176f\",\"type\":\"Grid\"},{\"attributes\":{\"bottom_units\":\"screen\",\"fill_alpha\":{\"value\":0.5},\"fill_color\":{\"value\":\"lightgrey\"},\"left_units\":\"screen\",\"level\":\"overlay\",\"line_alpha\":{\"value\":1.0},\"line_color\":{\"value\":\"black\"},\"line_dash\":[4,4],\"line_width\":{\"value\":2},\"plot\":null,\"render_mode\":\"css\",\"right_units\":\"screen\",\"top_units\":\"screen\"},\"id\":\"ae4861f3-7a2c-4d49-82f8-15729cff9ee4\",\"type\":\"BoxAnnotation\"},{\"attributes\":{\"fill_color\":{\"value\":\"#bebada\"},\"height\":{\"value\":0.5},\"left\":{\"value\":-2748.6000000000004},\"line_width\":{\"value\":0.5},\"right\":{\"field\":\"right\"},\"y\":{\"field\":\"y\"}},\"id\":\"13c2d6ee-13a7-4a4e-9e6d-3a379a4ea4df\",\"type\":\"HBar\"},{\"attributes\":{\"fill_color\":{\"value\":\"#8dd3c7\"},\"height\":{\"value\":0.5},\"left\":{\"value\":2748.6000000000004},\"line_width\":{\"value\":0.5},\"right\":{\"field\":\"right\"},\"y\":{\"field\":\"y\"}},\"id\":\"add769d4-2b72-4c46-8b55-9d683f1bf63f\",\"type\":\"HBar\"},{\"attributes\":{},\"id\":\"46595da0-86b7-4a6b-bbf8-8d8b335c78cd\",\"type\":\"PanTool\"},{\"attributes\":{\"data_source\":{\"id\":\"7a94285e-7a69-4734-a112-3101296b851a\",\"type\":\"ColumnDataSource\"},\"glyph\":{\"id\":\"13c2d6ee-13a7-4a4e-9e6d-3a379a4ea4df\",\"type\":\"HBar\"},\"hover_glyph\":null,\"muted_glyph\":null,\"nonselection_glyph\":{\"id\":\"79e5aba9-1799-4728-98f6-97a9ef10cd9f\",\"type\":\"HBar\"},\"selection_glyph\":null,\"view\":{\"id\":\"9b625010-fd20-497d-9b1c-20deaafa7ba5\",\"type\":\"CDSView\"}},\"id\":\"839023a6-3f53-4368-8bc8-70b406ca01df\",\"type\":\"GlyphRenderer\"},{\"attributes\":{\"callback\":null,\"end\":32983.2,\"start\":-32983.2},\"id\":\"63176dc9-3d47-43a0-9423-4b0cba4b8147\",\"type\":\"Range1d\"},{\"attributes\":{},\"id\":\"3f236ee4-457a-48fc-b51e-bc891e977da5\",\"type\":\"WheelZoomTool\"},{\"attributes\":{\"active_drag\":\"auto\",\"active_inspect\":\"auto\",\"active_scroll\":\"auto\",\"active_tap\":\"auto\",\"logo\":null,\"tools\":[{\"id\":\"46595da0-86b7-4a6b-bbf8-8d8b335c78cd\",\"type\":\"PanTool\"},{\"id\":\"3f236ee4-457a-48fc-b51e-bc891e977da5\",\"type\":\"WheelZoomTool\"},{\"id\":\"009242bf-8a4c-496e-a416-d3b3b6665fbe\",\"type\":\"BoxZoomTool\"},{\"id\":\"35b59b86-a085-4c6f-b31e-e66f473caadf\",\"type\":\"SaveTool\"},{\"id\":\"57ea4a00-041b-4a14-8506-f0d60b838eb9\",\"type\":\"ResetTool\"},{\"id\":\"2682dc47-3e24-432d-b41f-b804f2b321ac\",\"type\":\"HelpTool\"}]},\"id\":\"7d711594-c03f-4636-a05c-7a9f9da56a7f\",\"type\":\"Toolbar\"},{\"attributes\":{\"overlay\":{\"id\":\"ae4861f3-7a2c-4d49-82f8-15729cff9ee4\",\"type\":\"BoxAnnotation\"}},\"id\":\"009242bf-8a4c-496e-a416-d3b3b6665fbe\",\"type\":\"BoxZoomTool\"},{\"attributes\":{\"callback\":null,\"column_names\":[\"y\",\"right\"],\"data\":{\"right\":[-16384.6,-15781.6,-13688.6,-15351.6,-23547.6,-28701.6,-25197.6,-21673.6,-19514.6,-19051.6,-18925.6,-17024.6,-14836.6,-13939.6,-10440.6,-8629.6,-7238.6,-5159.6,-3913.6000000000004],\"y\":[1,2,3,4,5,6,7,8,9,10,11,12,13,14,15,16,17,18,19]}},\"id\":\"7a94285e-7a69-4734-a112-3101296b851a\",\"type\":\"ColumnDataSource\"},{\"attributes\":{},\"id\":\"35b59b86-a085-4c6f-b31e-e66f473caadf\",\"type\":\"SaveTool\"},{\"attributes\":{},\"id\":\"57ea4a00-041b-4a14-8506-f0d60b838eb9\",\"type\":\"ResetTool\"},{\"attributes\":{},\"id\":\"2682dc47-3e24-432d-b41f-b804f2b321ac\",\"type\":\"HelpTool\"},{\"attributes\":{\"source\":{\"id\":\"693b7753-1aef-4a12-8b7e-7c965a2435c8\",\"type\":\"ColumnDataSource\"}},\"id\":\"ac1540e0-4cff-4b5b-9f24-9a97bcf3f31a\",\"type\":\"CDSView\"},{\"attributes\":{},\"id\":\"6eb234cc-6db4-49bf-a7c7-8b2608a418cf\",\"type\":\"LinearScale\"},{\"attributes\":{\"fill_alpha\":{\"value\":0.1},\"fill_color\":{\"value\":\"#1f77b4\"},\"height\":{\"value\":0.5},\"left\":{\"value\":2748.6000000000004},\"line_alpha\":{\"value\":0.1},\"line_color\":{\"value\":\"#1f77b4\"},\"line_width\":{\"value\":0.5},\"right\":{\"field\":\"right\"},\"y\":{\"field\":\"y\"}},\"id\":\"3adfc915-4ae1-48f8-8dca-b88771cbf073\",\"type\":\"HBar\"}],\"root_ids\":[\"894f396f-36bc-44d2-a781-0184ba4fb6ad\"]},\"title\":\"Bokeh Application\",\"version\":\"0.12.13\"}};\n",
       "  var render_items = [{\"docid\":\"cf1ab684-3e08-483c-a758-5e16eba081d6\",\"elementid\":\"0547da1c-93d6-498c-b0b3-a1852fdeb636\",\"modelid\":\"894f396f-36bc-44d2-a781-0184ba4fb6ad\"}];\n",
       "  root.Bokeh.embed.embed_items_notebook(docs_json, render_items);\n",
       "\n",
       "  }\n",
       "  if (root.Bokeh !== undefined) {\n",
       "    embed_document(root);\n",
       "  } else {\n",
       "    var attempts = 0;\n",
       "    var timer = setInterval(function(root) {\n",
       "      if (root.Bokeh !== undefined) {\n",
       "        embed_document(root);\n",
       "        clearInterval(timer);\n",
       "      }\n",
       "      attempts++;\n",
       "      if (attempts > 100) {\n",
       "        console.log(\"Bokeh: ERROR: Unable to run BokehJS code because BokehJS library is missing\")\n",
       "        clearInterval(timer);\n",
       "      }\n",
       "    }, 10, root)\n",
       "  }\n",
       "})(window);"
      ],
      "application/vnd.bokehjs_exec.v0+json": ""
     },
     "metadata": {
      "application/vnd.bokehjs_exec.v0+json": {
       "id": "894f396f-36bc-44d2-a781-0184ba4fb6ad"
      }
     },
     "output_type": "display_data"
    }
   ],
   "source": [
    "#test for a single area\n",
    "show(pop_pyramid(data, 'Area', 'City of Edinburgh', xaxis=True,\n",
    "                 export=False, title=True))"
   ]
  },
  {
   "cell_type": "code",
   "execution_count": null,
   "metadata": {},
   "outputs": [],
   "source": [
    "#iterate over areas to produce a plot for each and then layout them in a grid\n",
    "plots = []\n",
    "for ca in data['Area'].unique():\n",
    "    plots.append(pop_pyramid(data,'Area',ca))\n",
    "\n",
    "plot_grid = gridplot(plots, ncols=5)\n",
    "#uncomment the lines below to export or show in the notebook\n",
    "#bokeh.io.export_png(plot_grid, filename='images/all_ca_no_name.png')\n",
    "#show(plot_grid)"
   ]
  },
  {
   "cell_type": "markdown",
   "metadata": {},
   "source": [
    "#### Create a pyramid plot for 2001 and 2009 population of Uist"
   ]
  },
  {
   "cell_type": "code",
   "execution_count": 6,
   "metadata": {},
   "outputs": [],
   "source": [
    "df = pd.read_csv('data/uist_2001-9.csv')"
   ]
  },
  {
   "cell_type": "code",
   "execution_count": 7,
   "metadata": {},
   "outputs": [
    {
     "data": {
      "text/html": [
       "\n",
       "<div class=\"bk-root\">\n",
       "    <div class=\"bk-plotdiv\" id=\"9f02774b-2373-4cf2-b40a-0b1b66beda65\"></div>\n",
       "</div>"
      ]
     },
     "metadata": {},
     "output_type": "display_data"
    },
    {
     "data": {
      "application/javascript": [
       "(function(root) {\n",
       "  function embed_document(root) {\n",
       "    \n",
       "  var docs_json = {\"4c21712e-177b-4b63-bec9-3d2a1c0156c6\":{\"roots\":{\"references\":[{\"attributes\":{},\"id\":\"5e73f019-0f45-4051-a27c-a07a3b66eb5e\",\"type\":\"LinearScale\"},{\"attributes\":{},\"id\":\"b7c6d772-9648-4329-90dc-44e3adc7fc35\",\"type\":\"LinearScale\"},{\"attributes\":{\"callback\":null,\"end\":20},\"id\":\"f326fcc3-dd75-4950-ba8a-850c53110c35\",\"type\":\"Range1d\"},{\"attributes\":{\"callback\":null,\"end\":260,\"start\":-260},\"id\":\"188a6267-f917-4ae6-b470-a848fbb107bc\",\"type\":\"Range1d\"},{\"attributes\":{\"active_drag\":\"auto\",\"active_inspect\":\"auto\",\"active_scroll\":\"auto\",\"active_tap\":\"auto\",\"logo\":null,\"tools\":[{\"id\":\"9378b542-6a76-402d-9b5e-080359c82505\",\"type\":\"PanTool\"},{\"id\":\"b8403a3a-423c-4b93-89fa-f6e2c8fd63bb\",\"type\":\"WheelZoomTool\"},{\"id\":\"2b38330f-fd82-41b8-b960-8fedafd19e40\",\"type\":\"BoxZoomTool\"},{\"id\":\"4be9a3cb-d524-4998-ac91-e9650e675298\",\"type\":\"SaveTool\"},{\"id\":\"fa0bb903-a031-4c57-bf47-a92a8425c24f\",\"type\":\"ResetTool\"},{\"id\":\"2d55ed1f-f8cc-4762-afca-5329dd69646c\",\"type\":\"HelpTool\"}]},\"id\":\"f0df5571-dad1-4c05-a202-d293b4678db4\",\"type\":\"Toolbar\"},{\"attributes\":{},\"id\":\"33abb65e-77ac-4271-b213-d65211a74eca\",\"type\":\"BasicTickFormatter\"},{\"attributes\":{\"below\":[{\"id\":\"ed4bb185-d93f-4eef-b3f9-e725cb09b154\",\"type\":\"LinearAxis\"}],\"left\":[{\"id\":\"efb250e2-7aa0-4b6d-b2b9-d5e6083dcb1c\",\"type\":\"LinearAxis\"}],\"outline_line_color\":{\"value\":\"darkgrey\"},\"plot_height\":400,\"renderers\":[{\"id\":\"ed4bb185-d93f-4eef-b3f9-e725cb09b154\",\"type\":\"LinearAxis\"},{\"id\":\"84d42b92-3847-427f-be5b-36c7228902cf\",\"type\":\"Grid\"},{\"id\":\"efb250e2-7aa0-4b6d-b2b9-d5e6083dcb1c\",\"type\":\"LinearAxis\"},{\"id\":\"5444adcf-8ef5-427c-8d45-d6b7e5d838cd\",\"type\":\"Grid\"},{\"id\":\"0dd1b4c0-d918-4201-988a-e37026cb8696\",\"type\":\"BoxAnnotation\"},{\"id\":\"28054462-4862-465c-9762-d396b30babc7\",\"type\":\"GlyphRenderer\"},{\"id\":\"cb80d1fb-a53a-4adc-ac83-cce9331e2010\",\"type\":\"GlyphRenderer\"},{\"id\":\"1b6cae54-8c36-486d-a46c-232ca1dfdcea\",\"type\":\"GlyphRenderer\"}],\"title\":{\"id\":\"a6cae31c-eb14-4ae1-92e4-c171f7160aee\",\"type\":\"Title\"},\"toolbar\":{\"id\":\"f0df5571-dad1-4c05-a202-d293b4678db4\",\"type\":\"Toolbar\"},\"toolbar_location\":null,\"x_range\":{\"id\":\"188a6267-f917-4ae6-b470-a848fbb107bc\",\"type\":\"Range1d\"},\"x_scale\":{\"id\":\"b7c6d772-9648-4329-90dc-44e3adc7fc35\",\"type\":\"LinearScale\"},\"y_range\":{\"id\":\"f326fcc3-dd75-4950-ba8a-850c53110c35\",\"type\":\"Range1d\"},\"y_scale\":{\"id\":\"5e73f019-0f45-4051-a27c-a07a3b66eb5e\",\"type\":\"LinearScale\"}},\"id\":\"e17b6270-487b-480b-97fc-7ed4661a7461\",\"subtype\":\"Figure\",\"type\":\"Plot\"},{\"attributes\":{\"source\":{\"id\":\"82319eb3-f727-4af3-a62f-70ce41bf6251\",\"type\":\"ColumnDataSource\"}},\"id\":\"9cf9e61b-8eb8-4776-bc9c-f80c01279381\",\"type\":\"CDSView\"},{\"attributes\":{\"fill_color\":{\"value\":\"#8dd3c7\"},\"height\":{\"value\":0.5},\"left\":{\"value\":22.0},\"line_width\":{\"value\":0.5},\"right\":{\"field\":\"right\"},\"y\":{\"field\":\"y\"}},\"id\":\"3403b07b-a81b-4fd1-98ae-f96eb171bc90\",\"type\":\"HBar\"},{\"attributes\":{\"source\":{\"id\":\"683da4a5-bd1d-4891-8a69-2d44cb2dbea8\",\"type\":\"ColumnDataSource\"}},\"id\":\"61ef56f5-974e-4a5a-afe9-492a2916ba66\",\"type\":\"CDSView\"},{\"attributes\":{\"callback\":null,\"column_names\":[\"x\",\"y\",\"text\"],\"data\":{\"text\":[\"0 - 4\",\"5 - 9\",\"10 - 14\",\"15 - 19\",\"20 - 24\",\"25 - 29\",\"30 - 34\",\"35 - 39\",\"40 - 44\",\"45 - 49\",\"50 - 54\",\"55 - 59\",\"60 - 64\",\"65 - 69\",\"70 - 74\",\"75 - 79\",\"80 - 84\",\"85 - 89\",\"90+\"],\"x\":[0,0,0,0,0,0,0,0,0,0,0,0,0,0,0,0,0,0,0],\"y\":[1,2,3,4,5,6,7,8,9,10,11,12,13,14,15,16,17,18,19]}},\"id\":\"82319eb3-f727-4af3-a62f-70ce41bf6251\",\"type\":\"ColumnDataSource\"},{\"attributes\":{\"data_source\":{\"id\":\"683da4a5-bd1d-4891-8a69-2d44cb2dbea8\",\"type\":\"ColumnDataSource\"},\"glyph\":{\"id\":\"3403b07b-a81b-4fd1-98ae-f96eb171bc90\",\"type\":\"HBar\"},\"hover_glyph\":null,\"muted_glyph\":null,\"nonselection_glyph\":{\"id\":\"6d76c1e4-55c9-440d-85e6-7fffa3fe1143\",\"type\":\"HBar\"},\"selection_glyph\":null,\"view\":{\"id\":\"61ef56f5-974e-4a5a-afe9-492a2916ba66\",\"type\":\"CDSView\"}},\"id\":\"cb80d1fb-a53a-4adc-ac83-cce9331e2010\",\"type\":\"GlyphRenderer\"},{\"attributes\":{\"fill_alpha\":{\"value\":0.1},\"fill_color\":{\"value\":\"#1f77b4\"},\"height\":{\"value\":0.5},\"left\":{\"value\":22.0},\"line_alpha\":{\"value\":0.1},\"line_color\":{\"value\":\"#1f77b4\"},\"line_width\":{\"value\":0.5},\"right\":{\"field\":\"right\"},\"y\":{\"field\":\"y\"}},\"id\":\"6d76c1e4-55c9-440d-85e6-7fffa3fe1143\",\"type\":\"HBar\"},{\"attributes\":{\"align\":\"center\",\"plot\":null,\"text\":\"2009\"},\"id\":\"a6cae31c-eb14-4ae1-92e4-c171f7160aee\",\"type\":\"Title\"},{\"attributes\":{\"source\":{\"id\":\"2f51a3a7-de9b-45d0-84d6-d3a10d69ee84\",\"type\":\"ColumnDataSource\"}},\"id\":\"ce0393ad-8e18-4c7e-b79d-89d3ad7a8276\",\"type\":\"CDSView\"},{\"attributes\":{\"callback\":null,\"column_names\":[\"y\",\"right\"],\"data\":{\"right\":[-135.0,-148.0,-197.0,-170.0,-146.0,-116.0,-120.0,-173.0,-205.0,-229.0,-224.0,-219.0,-242.0,-164.0,-136.0,-107.0,-74.0,-42.0,-27.0],\"y\":[1,2,3,4,5,6,7,8,9,10,11,12,13,14,15,16,17,18,19]}},\"id\":\"2f51a3a7-de9b-45d0-84d6-d3a10d69ee84\",\"type\":\"ColumnDataSource\"},{\"attributes\":{\"text_align\":\"center\",\"text_alpha\":{\"value\":0.1},\"text_color\":{\"value\":\"black\"},\"text_font_size\":{\"value\":\"11px\"},\"x\":{\"field\":\"x\"},\"y\":{\"field\":\"y\"},\"y_offset\":{\"value\":8}},\"id\":\"583b2a27-7b9b-4e9b-9bd7-c0de9161f6bd\",\"type\":\"Text\"},{\"attributes\":{},\"id\":\"2d55ed1f-f8cc-4762-afca-5329dd69646c\",\"type\":\"HelpTool\"},{\"attributes\":{\"fill_color\":{\"value\":\"#bebada\"},\"height\":{\"value\":0.5},\"left\":{\"value\":-22.0},\"line_width\":{\"value\":0.5},\"right\":{\"field\":\"right\"},\"y\":{\"field\":\"y\"}},\"id\":\"9d0a1615-6df7-48d5-b3b7-7246e0604db8\",\"type\":\"HBar\"},{\"attributes\":{},\"id\":\"fa0bb903-a031-4c57-bf47-a92a8425c24f\",\"type\":\"ResetTool\"},{\"attributes\":{},\"id\":\"4be9a3cb-d524-4998-ac91-e9650e675298\",\"type\":\"SaveTool\"},{\"attributes\":{\"overlay\":{\"id\":\"0dd1b4c0-d918-4201-988a-e37026cb8696\",\"type\":\"BoxAnnotation\"}},\"id\":\"2b38330f-fd82-41b8-b960-8fedafd19e40\",\"type\":\"BoxZoomTool\"},{\"attributes\":{\"code\":\"\\n    return Math.abs(tick)\"},\"id\":\"ec7bfda5-9c53-43ec-887a-2b10b802ac43\",\"type\":\"FuncTickFormatter\"},{\"attributes\":{},\"id\":\"b8403a3a-423c-4b93-89fa-f6e2c8fd63bb\",\"type\":\"WheelZoomTool\"},{\"attributes\":{\"data_source\":{\"id\":\"82319eb3-f727-4af3-a62f-70ce41bf6251\",\"type\":\"ColumnDataSource\"},\"glyph\":{\"id\":\"e71f81e5-803f-45b4-86e7-3ea7daa55032\",\"type\":\"Text\"},\"hover_glyph\":null,\"muted_glyph\":null,\"nonselection_glyph\":{\"id\":\"583b2a27-7b9b-4e9b-9bd7-c0de9161f6bd\",\"type\":\"Text\"},\"selection_glyph\":null,\"view\":{\"id\":\"9cf9e61b-8eb8-4776-bc9c-f80c01279381\",\"type\":\"CDSView\"}},\"id\":\"1b6cae54-8c36-486d-a46c-232ca1dfdcea\",\"type\":\"GlyphRenderer\"},{\"attributes\":{},\"id\":\"9378b542-6a76-402d-9b5e-080359c82505\",\"type\":\"PanTool\"},{\"attributes\":{\"bottom_units\":\"screen\",\"fill_alpha\":{\"value\":0.5},\"fill_color\":{\"value\":\"lightgrey\"},\"left_units\":\"screen\",\"level\":\"overlay\",\"line_alpha\":{\"value\":1.0},\"line_color\":{\"value\":\"black\"},\"line_dash\":[4,4],\"line_width\":{\"value\":2},\"plot\":null,\"render_mode\":\"css\",\"right_units\":\"screen\",\"top_units\":\"screen\"},\"id\":\"0dd1b4c0-d918-4201-988a-e37026cb8696\",\"type\":\"BoxAnnotation\"},{\"attributes\":{\"callback\":null,\"column_names\":[\"y\",\"right\"],\"data\":{\"right\":[143.0,158.0,157.0,146.0,106.0,118.0,148.0,162.0,228.0,199.0,213.0,214.0,182.0,165.0,146.0,131.0,98.0,76.0,45.0],\"y\":[1,2,3,4,5,6,7,8,9,10,11,12,13,14,15,16,17,18,19]}},\"id\":\"683da4a5-bd1d-4891-8a69-2d44cb2dbea8\",\"type\":\"ColumnDataSource\"},{\"attributes\":{\"fill_alpha\":{\"value\":0.1},\"fill_color\":{\"value\":\"#1f77b4\"},\"height\":{\"value\":0.5},\"left\":{\"value\":-22.0},\"line_alpha\":{\"value\":0.1},\"line_color\":{\"value\":\"#1f77b4\"},\"line_width\":{\"value\":0.5},\"right\":{\"field\":\"right\"},\"y\":{\"field\":\"y\"}},\"id\":\"db636a61-c9da-4abb-94f5-448e312393ee\",\"type\":\"HBar\"},{\"attributes\":{\"data_source\":{\"id\":\"2f51a3a7-de9b-45d0-84d6-d3a10d69ee84\",\"type\":\"ColumnDataSource\"},\"glyph\":{\"id\":\"9d0a1615-6df7-48d5-b3b7-7246e0604db8\",\"type\":\"HBar\"},\"hover_glyph\":null,\"muted_glyph\":null,\"nonselection_glyph\":{\"id\":\"db636a61-c9da-4abb-94f5-448e312393ee\",\"type\":\"HBar\"},\"selection_glyph\":null,\"view\":{\"id\":\"ce0393ad-8e18-4c7e-b79d-89d3ad7a8276\",\"type\":\"CDSView\"}},\"id\":\"28054462-4862-465c-9762-d396b30babc7\",\"type\":\"GlyphRenderer\"},{\"attributes\":{\"text_align\":\"center\",\"text_color\":{\"value\":\"black\"},\"text_font_size\":{\"value\":\"11px\"},\"x\":{\"field\":\"x\"},\"y\":{\"field\":\"y\"},\"y_offset\":{\"value\":8}},\"id\":\"e71f81e5-803f-45b4-86e7-3ea7daa55032\",\"type\":\"Text\"},{\"attributes\":{\"dimension\":1,\"plot\":{\"id\":\"e17b6270-487b-480b-97fc-7ed4661a7461\",\"subtype\":\"Figure\",\"type\":\"Plot\"},\"ticker\":{\"id\":\"1a42b6c4-7bf8-4075-afad-00ae17751c90\",\"type\":\"BasicTicker\"},\"visible\":false},\"id\":\"5444adcf-8ef5-427c-8d45-d6b7e5d838cd\",\"type\":\"Grid\"},{\"attributes\":{},\"id\":\"1a42b6c4-7bf8-4075-afad-00ae17751c90\",\"type\":\"BasicTicker\"},{\"attributes\":{\"formatter\":{\"id\":\"33abb65e-77ac-4271-b213-d65211a74eca\",\"type\":\"BasicTickFormatter\"},\"plot\":{\"id\":\"e17b6270-487b-480b-97fc-7ed4661a7461\",\"subtype\":\"Figure\",\"type\":\"Plot\"},\"ticker\":{\"id\":\"1a42b6c4-7bf8-4075-afad-00ae17751c90\",\"type\":\"BasicTicker\"},\"visible\":false},\"id\":\"efb250e2-7aa0-4b6d-b2b9-d5e6083dcb1c\",\"type\":\"LinearAxis\"},{\"attributes\":{},\"id\":\"781217f1-9c24-4c19-8951-1da7886a0d31\",\"type\":\"BasicTicker\"},{\"attributes\":{\"formatter\":{\"id\":\"ec7bfda5-9c53-43ec-887a-2b10b802ac43\",\"type\":\"FuncTickFormatter\"},\"plot\":{\"id\":\"e17b6270-487b-480b-97fc-7ed4661a7461\",\"subtype\":\"Figure\",\"type\":\"Plot\"},\"ticker\":{\"id\":\"781217f1-9c24-4c19-8951-1da7886a0d31\",\"type\":\"BasicTicker\"}},\"id\":\"ed4bb185-d93f-4eef-b3f9-e725cb09b154\",\"type\":\"LinearAxis\"},{\"attributes\":{\"plot\":{\"id\":\"e17b6270-487b-480b-97fc-7ed4661a7461\",\"subtype\":\"Figure\",\"type\":\"Plot\"},\"ticker\":{\"id\":\"781217f1-9c24-4c19-8951-1da7886a0d31\",\"type\":\"BasicTicker\"},\"visible\":false},\"id\":\"84d42b92-3847-427f-be5b-36c7228902cf\",\"type\":\"Grid\"}],\"root_ids\":[\"e17b6270-487b-480b-97fc-7ed4661a7461\"]},\"title\":\"Bokeh Application\",\"version\":\"0.12.13\"}};\n",
       "  var render_items = [{\"docid\":\"4c21712e-177b-4b63-bec9-3d2a1c0156c6\",\"elementid\":\"9f02774b-2373-4cf2-b40a-0b1b66beda65\",\"modelid\":\"e17b6270-487b-480b-97fc-7ed4661a7461\"}];\n",
       "  root.Bokeh.embed.embed_items_notebook(docs_json, render_items);\n",
       "\n",
       "  }\n",
       "  if (root.Bokeh !== undefined) {\n",
       "    embed_document(root);\n",
       "  } else {\n",
       "    var attempts = 0;\n",
       "    var timer = setInterval(function(root) {\n",
       "      if (root.Bokeh !== undefined) {\n",
       "        embed_document(root);\n",
       "        clearInterval(timer);\n",
       "      }\n",
       "      attempts++;\n",
       "      if (attempts > 100) {\n",
       "        console.log(\"Bokeh: ERROR: Unable to run BokehJS code because BokehJS library is missing\")\n",
       "        clearInterval(timer);\n",
       "      }\n",
       "    }, 10, root)\n",
       "  }\n",
       "})(window);"
      ],
      "application/vnd.bokehjs_exec.v0+json": ""
     },
     "metadata": {
      "application/vnd.bokehjs_exec.v0+json": {
       "id": "e17b6270-487b-480b-97fc-7ed4661a7461"
      }
     },
     "output_type": "display_data"
    }
   ],
   "source": [
    "show(pop_pyramid(df, 'Year', 2009, title=True,\n",
    "                 xaxis=True, x_lim=260, export=False, stroke=True))"
   ]
  },
  {
   "cell_type": "markdown",
   "metadata": {},
   "source": [
    "#### Create pop_pyramids of Scotland in 2001-2009-2016"
   ]
  },
  {
   "cell_type": "code",
   "execution_count": null,
   "metadata": {},
   "outputs": [],
   "source": [
    "scot = pd.read_csv('data/scot_2001-9-16_clean.csv')"
   ]
  },
  {
   "cell_type": "code",
   "execution_count": null,
   "metadata": {},
   "outputs": [],
   "source": [
    "show(pop_pyramid(scot, 'Year', 2016, title=True,\n",
    "                 xaxis=True, export=False, x_lim=250000, stroke=True))"
   ]
  },
  {
   "cell_type": "markdown",
   "metadata": {},
   "source": [
    "#### Compare images of population pyramids to find shapes similar to Uist"
   ]
  },
  {
   "cell_type": "code",
   "execution_count": 8,
   "metadata": {},
   "outputs": [],
   "source": [
    "%matplotlib inline"
   ]
  },
  {
   "cell_type": "code",
   "execution_count": 9,
   "metadata": {},
   "outputs": [],
   "source": [
    "from imageio import imread\n",
    "from scipy.linalg import norm\n",
    "from scipy import sum, average\n",
    "from pathlib import Path\n",
    "import os"
   ]
  },
  {
   "cell_type": "code",
   "execution_count": 10,
   "metadata": {},
   "outputs": [],
   "source": [
    "#code adapted from:\n",
    "#https://stackoverflow.com/questions/189943/\n",
    "#how-can-i-quantify-difference-between-two-images#3935002\n",
    "def to_grayscale(arr):\n",
    "    \"If arr is a color image (3D array), convert it to grayscale (2D array).\"\n",
    "    if len(arr.shape) == 3:\n",
    "        return average(arr, -1)\n",
    "    else:\n",
    "        return arr\n",
    "\n",
    "def compare_images(img1, img2):\n",
    "    # calculate the difference and its norms\n",
    "    diff = img1 - img2\n",
    "    m_norm = sum(abs(diff)) # Manhattan norm\n",
    "    z_norm = norm(diff.ravel(), 0) # Zero norm\n",
    "    return (m_norm, z_norm)\n",
    "\n",
    "def main(file1, file2):\n",
    "    # read images as 2D arrays (convert to grayscale for simplicity)\n",
    "    img1 = to_grayscale(imread(file1).astype(float))\n",
    "    img2 = to_grayscale(imread(file2).astype(float))\n",
    "    # compare\n",
    "    n_m, n_0 = compare_images(img1, img2)\n",
    "    return n_m    \n",
    "    #print (\"Manhattan norm:\", n_m, \"/ per pixel:\", n_m/img1.size)\n",
    "    #print (\"Zero norm:\", n_0, \"/ per pixel:\", n_0*1.0/img1.size)"
   ]
  },
  {
   "cell_type": "code",
   "execution_count": 11,
   "metadata": {},
   "outputs": [],
   "source": [
    "ref_image = 'images/pp_Uist.png'\n",
    "comp_images = ['images/compare/' + x for x in os.listdir('images/compare')]"
   ]
  },
  {
   "cell_type": "code",
   "execution_count": 12,
   "metadata": {},
   "outputs": [],
   "source": [
    "image_dict = {}\n",
    "#extract area name from filename and pair it with the output of the compare function\n",
    "for image in comp_images:\n",
    "    image_dict[image[18:-4]] = main(ref_image, image)\n",
    "\n",
    "sorted_dict = sorted(image_dict, key=lambda x : image_dict[x])"
   ]
  },
  {
   "cell_type": "code",
   "execution_count": 13,
   "metadata": {},
   "outputs": [
    {
     "data": {
      "text/plain": [
       "<matplotlib.axes._subplots.AxesSubplot at 0xb152390>"
      ]
     },
     "execution_count": 13,
     "metadata": {},
     "output_type": "execute_result"
    },
    {
     "data": {
      "image/png": "[encoded data removed]",
      "text/plain": [
       "<matplotlib.figure.Figure at 0xa075390>"
      ]
     },
     "metadata": {},
     "output_type": "display_data"
    }
   ],
   "source": [
    "#visualise the differences from Uist for each council area\n",
    "like_df = (pd.DataFrame.from_dict(image_dict, orient='index', columns=['Value'])\n",
    "            .reset_index()\n",
    "            .sort_values('Value', ascending=False))\n",
    "\n",
    "like_df.plot(x='index', y='Value', kind='barh', legend=False, \n",
    "             figsize=(14,10), colormap='tab20c')"
   ]
  },
  {
   "cell_type": "markdown",
   "metadata": {},
   "source": [
    "#### Get the image resulting from the difference of two images"
   ]
  },
  {
   "cell_type": "code",
   "execution_count": null,
   "metadata": {},
   "outputs": [],
   "source": [
    "from PIL import ImageChops, Image"
   ]
  },
  {
   "cell_type": "code",
   "execution_count": null,
   "metadata": {},
   "outputs": [],
   "source": [
    "img_1 = Image.open('images/Scotland_2001.png').convert('RGB')\n",
    "img_2 = Image.open('images/Scotland_2016.png').convert('RGB')"
   ]
  },
  {
   "cell_type": "code",
   "execution_count": null,
   "metadata": {},
   "outputs": [],
   "source": [
    "diff = ImageChops.difference(img_1, img_2)"
   ]
  },
  {
   "cell_type": "code",
   "execution_count": null,
   "metadata": {},
   "outputs": [],
   "source": [
    "diff.save('images/Scot_2001vs20016_diff.png')"
   ]
  }
 ],
 "metadata": {
  "kernelspec": {
   "display_name": "Python 3",
   "language": "python",
   "name": "python3"
  },
  "language_info": {
   "codemirror_mode": {
    "name": "ipython",
    "version": 3
   },
   "file_extension": ".py",
   "mimetype": "text/x-python",
   "name": "python",
   "nbconvert_exporter": "python",
   "pygments_lexer": "ipython3",
   "version": "3.6.4"
  }
 },
 "nbformat": 4,
 "nbformat_minor": 2
}
