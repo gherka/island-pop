{
 "cells": [
  {
   "cell_type": "code",
   "execution_count": 1,
   "metadata": {},
   "outputs": [],
   "source": [
    "import bokeh\n",
    "from bokeh.plotting import figure, show, output_notebook\n",
    "from bokeh.layouts import gridplot, row, column\n",
    "from bokeh.models import FuncTickFormatter\n",
    "import pandas as pd"
   ]
  },
  {
   "cell_type": "code",
   "execution_count": 2,
   "metadata": {},
   "outputs": [
    {
     "data": {
      "text/html": [
       "\n",
       "    <div class=\"bk-root\">\n",
       "        <a href=\"https://bokeh.pydata.org\" target=\"_blank\" class=\"bk-logo bk-logo-small bk-logo-notebook\"></a>\n",
       "        <span id=\"f71ed2fc-f18d-47d5-a0cb-5ca85a058dfd\">Loading BokehJS ...</span>\n",
       "    </div>"
      ]
     },
     "metadata": {},
     "output_type": "display_data"
    },
    {
     "data": {
      "application/javascript": [
       "\n",
       "(function(root) {\n",
       "  function now() {\n",
       "    return new Date();\n",
       "  }\n",
       "\n",
       "  var force = true;\n",
       "\n",
       "  if (typeof (root._bokeh_onload_callbacks) === \"undefined\" || force === true) {\n",
       "    root._bokeh_onload_callbacks = [];\n",
       "    root._bokeh_is_loading = undefined;\n",
       "  }\n",
       "\n",
       "  var JS_MIME_TYPE = 'application/javascript';\n",
       "  var HTML_MIME_TYPE = 'text/html';\n",
       "  var EXEC_MIME_TYPE = 'application/vnd.bokehjs_exec.v0+json';\n",
       "  var CLASS_NAME = 'output_bokeh rendered_html';\n",
       "\n",
       "  /**\n",
       "   * Render data to the DOM node\n",
       "   */\n",
       "  function render(props, node) {\n",
       "    var script = document.createElement(\"script\");\n",
       "    node.appendChild(script);\n",
       "  }\n",
       "\n",
       "  /**\n",
       "   * Handle when an output is cleared or removed\n",
       "   */\n",
       "  function handleClearOutput(event, handle) {\n",
       "    var cell = handle.cell;\n",
       "\n",
       "    var id = cell.output_area._bokeh_element_id;\n",
       "    var server_id = cell.output_area._bokeh_server_id;\n",
       "    // Clean up Bokeh references\n",
       "    if (id !== undefined) {\n",
       "      Bokeh.index[id].model.document.clear();\n",
       "      delete Bokeh.index[id];\n",
       "    }\n",
       "\n",
       "    if (server_id !== undefined) {\n",
       "      // Clean up Bokeh references\n",
       "      var cmd = \"from bokeh.io.state import curstate; print(curstate().uuid_to_server['\" + server_id + \"'].get_sessions()[0].document.roots[0]._id)\";\n",
       "      cell.notebook.kernel.execute(cmd, {\n",
       "        iopub: {\n",
       "          output: function(msg) {\n",
       "            var element_id = msg.content.text.trim();\n",
       "            Bokeh.index[element_id].model.document.clear();\n",
       "            delete Bokeh.index[element_id];\n",
       "          }\n",
       "        }\n",
       "      });\n",
       "      // Destroy server and session\n",
       "      var cmd = \"import bokeh.io.notebook as ion; ion.destroy_server('\" + server_id + \"')\";\n",
       "      cell.notebook.kernel.execute(cmd);\n",
       "    }\n",
       "  }\n",
       "\n",
       "  /**\n",
       "   * Handle when a new output is added\n",
       "   */\n",
       "  function handleAddOutput(event, handle) {\n",
       "    var output_area = handle.output_area;\n",
       "    var output = handle.output;\n",
       "\n",
       "    // limit handleAddOutput to display_data with EXEC_MIME_TYPE content only\n",
       "    if ((output.output_type != \"display_data\") || (!output.data.hasOwnProperty(EXEC_MIME_TYPE))) {\n",
       "      return\n",
       "    }\n",
       "\n",
       "    var toinsert = output_area.element.find(\".\" + CLASS_NAME.split(' ')[0]);\n",
       "\n",
       "    if (output.metadata[EXEC_MIME_TYPE][\"id\"] !== undefined) {\n",
       "      toinsert[0].firstChild.textContent = output.data[JS_MIME_TYPE];\n",
       "      // store reference to embed id on output_area\n",
       "      output_area._bokeh_element_id = output.metadata[EXEC_MIME_TYPE][\"id\"];\n",
       "    }\n",
       "    if (output.metadata[EXEC_MIME_TYPE][\"server_id\"] !== undefined) {\n",
       "      var bk_div = document.createElement(\"div\");\n",
       "      bk_div.innerHTML = output.data[HTML_MIME_TYPE];\n",
       "      var script_attrs = bk_div.children[0].attributes;\n",
       "      for (var i = 0; i < script_attrs.length; i++) {\n",
       "        toinsert[0].firstChild.setAttribute(script_attrs[i].name, script_attrs[i].value);\n",
       "      }\n",
       "      // store reference to server id on output_area\n",
       "      output_area._bokeh_server_id = output.metadata[EXEC_MIME_TYPE][\"server_id\"];\n",
       "    }\n",
       "  }\n",
       "\n",
       "  function register_renderer(events, OutputArea) {\n",
       "\n",
       "    function append_mime(data, metadata, element) {\n",
       "      // create a DOM node to render to\n",
       "      var toinsert = this.create_output_subarea(\n",
       "        metadata,\n",
       "        CLASS_NAME,\n",
       "        EXEC_MIME_TYPE\n",
       "      );\n",
       "      this.keyboard_manager.register_events(toinsert);\n",
       "      // Render to node\n",
       "      var props = {data: data, metadata: metadata[EXEC_MIME_TYPE]};\n",
       "      render(props, toinsert[0]);\n",
       "      element.append(toinsert);\n",
       "      return toinsert\n",
       "    }\n",
       "\n",
       "    /* Handle when an output is cleared or removed */\n",
       "    events.on('clear_output.CodeCell', handleClearOutput);\n",
       "    events.on('delete.Cell', handleClearOutput);\n",
       "\n",
       "    /* Handle when a new output is added */\n",
       "    events.on('output_added.OutputArea', handleAddOutput);\n",
       "\n",
       "    /**\n",
       "     * Register the mime type and append_mime function with output_area\n",
       "     */\n",
       "    OutputArea.prototype.register_mime_type(EXEC_MIME_TYPE, append_mime, {\n",
       "      /* Is output safe? */\n",
       "      safe: true,\n",
       "      /* Index of renderer in `output_area.display_order` */\n",
       "      index: 0\n",
       "    });\n",
       "  }\n",
       "\n",
       "  // register the mime type if in Jupyter Notebook environment and previously unregistered\n",
       "  if (root.Jupyter !== undefined) {\n",
       "    var events = require('base/js/events');\n",
       "    var OutputArea = require('notebook/js/outputarea').OutputArea;\n",
       "\n",
       "    if (OutputArea.prototype.mime_types().indexOf(EXEC_MIME_TYPE) == -1) {\n",
       "      register_renderer(events, OutputArea);\n",
       "    }\n",
       "  }\n",
       "\n",
       "  \n",
       "  if (typeof (root._bokeh_timeout) === \"undefined\" || force === true) {\n",
       "    root._bokeh_timeout = Date.now() + 5000;\n",
       "    root._bokeh_failed_load = false;\n",
       "  }\n",
       "\n",
       "  var NB_LOAD_WARNING = {'data': {'text/html':\n",
       "     \"<div style='background-color: #fdd'>\\n\"+\n",
       "     \"<p>\\n\"+\n",
       "     \"BokehJS does not appear to have successfully loaded. If loading BokehJS from CDN, this \\n\"+\n",
       "     \"may be due to a slow or bad network connection. Possible fixes:\\n\"+\n",
       "     \"</p>\\n\"+\n",
       "     \"<ul>\\n\"+\n",
       "     \"<li>re-rerun `output_notebook()` to attempt to load from CDN again, or</li>\\n\"+\n",
       "     \"<li>use INLINE resources instead, as so:</li>\\n\"+\n",
       "     \"</ul>\\n\"+\n",
       "     \"<code>\\n\"+\n",
       "     \"from bokeh.resources import INLINE\\n\"+\n",
       "     \"output_notebook(resources=INLINE)\\n\"+\n",
       "     \"</code>\\n\"+\n",
       "     \"</div>\"}};\n",
       "\n",
       "  function display_loaded() {\n",
       "    var el = document.getElementById(\"f71ed2fc-f18d-47d5-a0cb-5ca85a058dfd\");\n",
       "    if (el != null) {\n",
       "      el.textContent = \"BokehJS is loading...\";\n",
       "    }\n",
       "    if (root.Bokeh !== undefined) {\n",
       "      if (el != null) {\n",
       "        el.textContent = \"BokehJS \" + root.Bokeh.version + \" successfully loaded.\";\n",
       "      }\n",
       "    } else if (Date.now() < root._bokeh_timeout) {\n",
       "      setTimeout(display_loaded, 100)\n",
       "    }\n",
       "  }\n",
       "\n",
       "\n",
       "  function run_callbacks() {\n",
       "    try {\n",
       "      root._bokeh_onload_callbacks.forEach(function(callback) { callback() });\n",
       "    }\n",
       "    finally {\n",
       "      delete root._bokeh_onload_callbacks\n",
       "    }\n",
       "    console.info(\"Bokeh: all callbacks have finished\");\n",
       "  }\n",
       "\n",
       "  function load_libs(js_urls, callback) {\n",
       "    root._bokeh_onload_callbacks.push(callback);\n",
       "    if (root._bokeh_is_loading > 0) {\n",
       "      console.log(\"Bokeh: BokehJS is being loaded, scheduling callback at\", now());\n",
       "      return null;\n",
       "    }\n",
       "    if (js_urls == null || js_urls.length === 0) {\n",
       "      run_callbacks();\n",
       "      return null;\n",
       "    }\n",
       "    console.log(\"Bokeh: BokehJS not loaded, scheduling load and callback at\", now());\n",
       "    root._bokeh_is_loading = js_urls.length;\n",
       "    for (var i = 0; i < js_urls.length; i++) {\n",
       "      var url = js_urls[i];\n",
       "      var s = document.createElement('script');\n",
       "      s.src = url;\n",
       "      s.async = false;\n",
       "      s.onreadystatechange = s.onload = function() {\n",
       "        root._bokeh_is_loading--;\n",
       "        if (root._bokeh_is_loading === 0) {\n",
       "          console.log(\"Bokeh: all BokehJS libraries loaded\");\n",
       "          run_callbacks()\n",
       "        }\n",
       "      };\n",
       "      s.onerror = function() {\n",
       "        console.warn(\"failed to load library \" + url);\n",
       "      };\n",
       "      console.log(\"Bokeh: injecting script tag for BokehJS library: \", url);\n",
       "      document.getElementsByTagName(\"head\")[0].appendChild(s);\n",
       "    }\n",
       "  };var element = document.getElementById(\"f71ed2fc-f18d-47d5-a0cb-5ca85a058dfd\");\n",
       "  if (element == null) {\n",
       "    console.log(\"Bokeh: ERROR: autoload.js configured with elementid 'f71ed2fc-f18d-47d5-a0cb-5ca85a058dfd' but no matching script tag was found. \")\n",
       "    return false;\n",
       "  }\n",
       "\n",
       "  var js_urls = [\"https://cdn.pydata.org/bokeh/release/bokeh-0.12.13.min.js\", \"https://cdn.pydata.org/bokeh/release/bokeh-widgets-0.12.13.min.js\", \"https://cdn.pydata.org/bokeh/release/bokeh-tables-0.12.13.min.js\", \"https://cdn.pydata.org/bokeh/release/bokeh-gl-0.12.13.min.js\"];\n",
       "\n",
       "  var inline_js = [\n",
       "    function(Bokeh) {\n",
       "      Bokeh.set_log_level(\"info\");\n",
       "    },\n",
       "    \n",
       "    function(Bokeh) {\n",
       "      \n",
       "    },\n",
       "    function(Bokeh) {\n",
       "      console.log(\"Bokeh: injecting CSS: https://cdn.pydata.org/bokeh/release/bokeh-0.12.13.min.css\");\n",
       "      Bokeh.embed.inject_css(\"https://cdn.pydata.org/bokeh/release/bokeh-0.12.13.min.css\");\n",
       "      console.log(\"Bokeh: injecting CSS: https://cdn.pydata.org/bokeh/release/bokeh-widgets-0.12.13.min.css\");\n",
       "      Bokeh.embed.inject_css(\"https://cdn.pydata.org/bokeh/release/bokeh-widgets-0.12.13.min.css\");\n",
       "      console.log(\"Bokeh: injecting CSS: https://cdn.pydata.org/bokeh/release/bokeh-tables-0.12.13.min.css\");\n",
       "      Bokeh.embed.inject_css(\"https://cdn.pydata.org/bokeh/release/bokeh-tables-0.12.13.min.css\");\n",
       "    }\n",
       "  ];\n",
       "\n",
       "  function run_inline_js() {\n",
       "    \n",
       "    if ((root.Bokeh !== undefined) || (force === true)) {\n",
       "      for (var i = 0; i < inline_js.length; i++) {\n",
       "        inline_js[i].call(root, root.Bokeh);\n",
       "      }if (force === true) {\n",
       "        display_loaded();\n",
       "      }} else if (Date.now() < root._bokeh_timeout) {\n",
       "      setTimeout(run_inline_js, 100);\n",
       "    } else if (!root._bokeh_failed_load) {\n",
       "      console.log(\"Bokeh: BokehJS failed to load within specified timeout.\");\n",
       "      root._bokeh_failed_load = true;\n",
       "    } else if (force !== true) {\n",
       "      var cell = $(document.getElementById(\"f71ed2fc-f18d-47d5-a0cb-5ca85a058dfd\")).parents('.cell').data().cell;\n",
       "      cell.output_area.append_execute_result(NB_LOAD_WARNING)\n",
       "    }\n",
       "\n",
       "  }\n",
       "\n",
       "  if (root._bokeh_is_loading === 0) {\n",
       "    console.log(\"Bokeh: BokehJS loaded, going straight to plotting\");\n",
       "    run_inline_js();\n",
       "  } else {\n",
       "    load_libs(js_urls, function() {\n",
       "      console.log(\"Bokeh: BokehJS plotting callback run at\", now());\n",
       "      run_inline_js();\n",
       "    });\n",
       "  }\n",
       "}(window));"
      ],
      "application/vnd.bokehjs_load.v0+json": "\n(function(root) {\n  function now() {\n    return new Date();\n  }\n\n  var force = true;\n\n  if (typeof (root._bokeh_onload_callbacks) === \"undefined\" || force === true) {\n    root._bokeh_onload_callbacks = [];\n    root._bokeh_is_loading = undefined;\n  }\n\n  \n\n  \n  if (typeof (root._bokeh_timeout) === \"undefined\" || force === true) {\n    root._bokeh_timeout = Date.now() + 5000;\n    root._bokeh_failed_load = false;\n  }\n\n  var NB_LOAD_WARNING = {'data': {'text/html':\n     \"<div style='background-color: #fdd'>\\n\"+\n     \"<p>\\n\"+\n     \"BokehJS does not appear to have successfully loaded. If loading BokehJS from CDN, this \\n\"+\n     \"may be due to a slow or bad network connection. Possible fixes:\\n\"+\n     \"</p>\\n\"+\n     \"<ul>\\n\"+\n     \"<li>re-rerun `output_notebook()` to attempt to load from CDN again, or</li>\\n\"+\n     \"<li>use INLINE resources instead, as so:</li>\\n\"+\n     \"</ul>\\n\"+\n     \"<code>\\n\"+\n     \"from bokeh.resources import INLINE\\n\"+\n     \"output_notebook(resources=INLINE)\\n\"+\n     \"</code>\\n\"+\n     \"</div>\"}};\n\n  function display_loaded() {\n    var el = document.getElementById(\"f71ed2fc-f18d-47d5-a0cb-5ca85a058dfd\");\n    if (el != null) {\n      el.textContent = \"BokehJS is loading...\";\n    }\n    if (root.Bokeh !== undefined) {\n      if (el != null) {\n        el.textContent = \"BokehJS \" + root.Bokeh.version + \" successfully loaded.\";\n      }\n    } else if (Date.now() < root._bokeh_timeout) {\n      setTimeout(display_loaded, 100)\n    }\n  }\n\n\n  function run_callbacks() {\n    try {\n      root._bokeh_onload_callbacks.forEach(function(callback) { callback() });\n    }\n    finally {\n      delete root._bokeh_onload_callbacks\n    }\n    console.info(\"Bokeh: all callbacks have finished\");\n  }\n\n  function load_libs(js_urls, callback) {\n    root._bokeh_onload_callbacks.push(callback);\n    if (root._bokeh_is_loading > 0) {\n      console.log(\"Bokeh: BokehJS is being loaded, scheduling callback at\", now());\n      return null;\n    }\n    if (js_urls == null || js_urls.length === 0) {\n      run_callbacks();\n      return null;\n    }\n    console.log(\"Bokeh: BokehJS not loaded, scheduling load and callback at\", now());\n    root._bokeh_is_loading = js_urls.length;\n    for (var i = 0; i < js_urls.length; i++) {\n      var url = js_urls[i];\n      var s = document.createElement('script');\n      s.src = url;\n      s.async = false;\n      s.onreadystatechange = s.onload = function() {\n        root._bokeh_is_loading--;\n        if (root._bokeh_is_loading === 0) {\n          console.log(\"Bokeh: all BokehJS libraries loaded\");\n          run_callbacks()\n        }\n      };\n      s.onerror = function() {\n        console.warn(\"failed to load library \" + url);\n      };\n      console.log(\"Bokeh: injecting script tag for BokehJS library: \", url);\n      document.getElementsByTagName(\"head\")[0].appendChild(s);\n    }\n  };var element = document.getElementById(\"f71ed2fc-f18d-47d5-a0cb-5ca85a058dfd\");\n  if (element == null) {\n    console.log(\"Bokeh: ERROR: autoload.js configured with elementid 'f71ed2fc-f18d-47d5-a0cb-5ca85a058dfd' but no matching script tag was found. \")\n    return false;\n  }\n\n  var js_urls = [\"https://cdn.pydata.org/bokeh/release/bokeh-0.12.13.min.js\", \"https://cdn.pydata.org/bokeh/release/bokeh-widgets-0.12.13.min.js\", \"https://cdn.pydata.org/bokeh/release/bokeh-tables-0.12.13.min.js\", \"https://cdn.pydata.org/bokeh/release/bokeh-gl-0.12.13.min.js\"];\n\n  var inline_js = [\n    function(Bokeh) {\n      Bokeh.set_log_level(\"info\");\n    },\n    \n    function(Bokeh) {\n      \n    },\n    function(Bokeh) {\n      console.log(\"Bokeh: injecting CSS: https://cdn.pydata.org/bokeh/release/bokeh-0.12.13.min.css\");\n      Bokeh.embed.inject_css(\"https://cdn.pydata.org/bokeh/release/bokeh-0.12.13.min.css\");\n      console.log(\"Bokeh: injecting CSS: https://cdn.pydata.org/bokeh/release/bokeh-widgets-0.12.13.min.css\");\n      Bokeh.embed.inject_css(\"https://cdn.pydata.org/bokeh/release/bokeh-widgets-0.12.13.min.css\");\n      console.log(\"Bokeh: injecting CSS: https://cdn.pydata.org/bokeh/release/bokeh-tables-0.12.13.min.css\");\n      Bokeh.embed.inject_css(\"https://cdn.pydata.org/bokeh/release/bokeh-tables-0.12.13.min.css\");\n    }\n  ];\n\n  function run_inline_js() {\n    \n    if ((root.Bokeh !== undefined) || (force === true)) {\n      for (var i = 0; i < inline_js.length; i++) {\n        inline_js[i].call(root, root.Bokeh);\n      }if (force === true) {\n        display_loaded();\n      }} else if (Date.now() < root._bokeh_timeout) {\n      setTimeout(run_inline_js, 100);\n    } else if (!root._bokeh_failed_load) {\n      console.log(\"Bokeh: BokehJS failed to load within specified timeout.\");\n      root._bokeh_failed_load = true;\n    } else if (force !== true) {\n      var cell = $(document.getElementById(\"f71ed2fc-f18d-47d5-a0cb-5ca85a058dfd\")).parents('.cell').data().cell;\n      cell.output_area.append_execute_result(NB_LOAD_WARNING)\n    }\n\n  }\n\n  if (root._bokeh_is_loading === 0) {\n    console.log(\"Bokeh: BokehJS loaded, going straight to plotting\");\n    run_inline_js();\n  } else {\n    load_libs(js_urls, function() {\n      console.log(\"Bokeh: BokehJS plotting callback run at\", now());\n      run_inline_js();\n    });\n  }\n}(window));"
     },
     "metadata": {},
     "output_type": "display_data"
    }
   ],
   "source": [
    "output_notebook()"
   ]
  },
  {
   "cell_type": "markdown",
   "metadata": {},
   "source": [
    "#### Main Population Pyramid function"
   ]
  },
  {
   "cell_type": "code",
   "execution_count": 3,
   "metadata": {},
   "outputs": [],
   "source": [
    "def pop_pyramid(dataframe, facet_col, facet_value, **kwargs):\n",
    "    \"\"\"\n",
    "    Create a population pyramid plot for each facet value\n",
    "    assuming the columns in the dataframe are called Age_Bands, Gender\n",
    "    and Population.\n",
    "    \n",
    "    Returns a Bokeh plot object.\n",
    "    \"\"\"\n",
    "    options = {\n",
    "            'export': False,\n",
    "            'title' : True,\n",
    "            'xaxis' : False,\n",
    "            'x_lim' : None,\n",
    "            'stroke': True}\n",
    "    \n",
    "    options.update(kwargs)\n",
    "    \n",
    "    df = dataframe[dataframe[facet_col]==facet_value].copy()\n",
    "    \n",
    "    #Convert Age Bands to category type\n",
    "    #and sort to make sure 0-4 is followed by 5-9 and not 10-14.\n",
    "    \n",
    "    df.loc[:,'Age_Bands'] = df['Age_Bands'].astype('category')\n",
    "    df['Age_Bands'].cat.reorder_categories(\n",
    "                                sorted(df['Age_Bands'].unique(), key=lambda x:int(x[:2])),\n",
    "                                inplace=True, ordered=True)\n",
    "    df.sort_values('Age_Bands', inplace=True) \n",
    "    \n",
    "    #offset of 0.015 works well for % of total; for absolute use df['Population'].max() * 0.1\n",
    "    offset = df['Population'].max() * 0.1\n",
    "    #x_lim of 0.1 works well for % of total; for absolute use df['Population'].max() * 1.2\n",
    "    #if you need a consistent x limit, pass it into the function\n",
    "        \n",
    "    if options['x_lim'] == None:\n",
    "        x_lim = df['Population'].max() * 1.2\n",
    "    else:\n",
    "        x_lim = options['x_lim']\n",
    "    \n",
    "    y_lim = len(df['Age_Bands'].unique())\n",
    "    y_text = df.Age_Bands.unique()\n",
    "\n",
    "    total = df['Population'].sum()\n",
    "    total_male = df[df['Gender'] == 'Male']['Population'].sum()\n",
    "    total_female = df[df['Gender'] == 'Female']['Population'].sum()\n",
    "\n",
    "    #switch between % of total and raw values: (-x/total) or just -x\n",
    "    x_male = ([-x - offset for x in df[df['Gender'] == 'Male']\n",
    "               .Population\n",
    "               .values])\n",
    "    x_female = ([x + offset for x in df[df['Gender'] == 'Female']\n",
    "                 .Population\n",
    "                 .values])\n",
    "    \n",
    "    #y_range for plots (not figure) starts with 1 not 0 to \"lift up\" the plot a little bit\n",
    "    p = figure(plot_width=600, plot_height=400, x_range=(-x_lim, x_lim), y_range=(0, y_lim+1))\n",
    "    \n",
    "    stroke = 'solid'\n",
    "    stroke_color = 'black'\n",
    "    stroke_width = 0.5\n",
    "    \n",
    "    if not options['stroke']:\n",
    "        stroke = None\n",
    "        stroke_color = None\n",
    "        stroke_width = None\n",
    "\n",
    "    male_bar = p.hbar(y=range(1,y_lim+1), height=0.5, right=x_male, color=\"#bebada\",\n",
    "                left=-offset, line_dash=stroke, line_color=stroke_color, line_width=stroke_width)\n",
    "    female_bar = p.hbar(y=range(1,y_lim+1), height=0.5, right=x_female, color=\"#8dd3c7\",\n",
    "                left=offset, line_dash=stroke, line_color=stroke_color, line_width=stroke_width)\n",
    "    text = p.text(x=[0]*y_lim, y=range(1,y_lim+1), text=y_text,\n",
    "                text_align='center', y_offset=8, text_font_size=\"11px\")\n",
    "\n",
    "    #Set default formatting options\n",
    "    p.grid.visible = False\n",
    "    p.yaxis.visible = False\n",
    "    p.outline_line_color = 'darkgrey'\n",
    "    p.toolbar.logo = None\n",
    "    p.toolbar_location = None\n",
    "    p.xaxis[0].formatter = FuncTickFormatter(code=\"\"\"\n",
    "    return Math.abs(tick)\"\"\")\n",
    "    \n",
    "    if not options['xaxis']:\n",
    "        p.xaxis.visible = False        \n",
    "    \n",
    "    #Set title options\n",
    "    if options['title']:\n",
    "        p.title.text = str(facet_value)\n",
    "        p.title.align = 'center'\n",
    "        \n",
    "    #Control exporting behaviour\n",
    "    if options['export']:\n",
    "        bokeh.io.export_png(p, filename='pp_{}.png'.format(facet_value))\n",
    "\n",
    "    return p"
   ]
  },
  {
   "cell_type": "markdown",
   "metadata": {},
   "source": [
    "#### Create a plot for each of the 32 council areas"
   ]
  },
  {
   "cell_type": "code",
   "execution_count": 81,
   "metadata": {},
   "outputs": [],
   "source": [
    "#Data Frame with all 32 council areas\n",
    "df = pd.read_csv('data/pyramid_data.csv')\n",
    "\n",
    "data = (df.groupby(['Age_Bands', 'Area', 'Gender'])['Population']\n",
    "        .sum()\n",
    "        .reset_index(name='Population'))"
   ]
  },
  {
   "cell_type": "code",
   "execution_count": 32,
   "metadata": {
    "scrolled": false
   },
   "outputs": [
    {
     "name": "stderr",
     "output_type": "stream",
     "text": [
      "C:\\Users\\germap01\\AppData\\Local\\Continuum\\anaconda3\\lib\\site-packages\\selenium\\webdriver\\phantomjs\\webdriver.py:49: UserWarning: Selenium support for PhantomJS has been deprecated, please use headless versions of Chrome or Firefox instead\n",
      "  warnings.warn('Selenium support for PhantomJS has been deprecated, please use headless '\n"
     ]
    },
    {
     "data": {
      "text/html": [
       "\n",
       "<div class=\"bk-root\">\n",
       "    <div class=\"bk-plotdiv\" id=\"d3852285-39e9-457a-b7cf-ad81e868f157\"></div>\n",
       "</div>"
      ]
     },
     "metadata": {},
     "output_type": "display_data"
    },
    {
     "data": {
      "application/javascript": [
       "(function(root) {\n",
       "  function embed_document(root) {\n",
       "    \n",
       "  var docs_json = {\"377e8e65-c563-4b36-8592-f693d9f25804\":{\"roots\":{\"references\":[{\"attributes\":{\"formatter\":{\"id\":\"0ddb3f27-295e-4ad7-9627-55d883abd4ee\",\"type\":\"BasicTickFormatter\"},\"plot\":{\"id\":\"958fc4b0-5b31-4d2c-8387-91edfd3aa536\",\"subtype\":\"Figure\",\"type\":\"Plot\"},\"ticker\":{\"id\":\"6c4d83ea-db69-49f3-a4e4-6638a1c9bbe8\",\"type\":\"BasicTicker\"},\"visible\":false},\"id\":\"b243700c-ecc7-47bb-a6aa-ec5fa0149178\",\"type\":\"LinearAxis\"},{\"attributes\":{\"source\":{\"id\":\"7eb9a76b-05fe-4d44-a193-9a65c9a2ccc1\",\"type\":\"ColumnDataSource\"}},\"id\":\"c7865f79-af61-4e34-93a7-e7b0198cfcbe\",\"type\":\"CDSView\"},{\"attributes\":{\"callback\":null,\"end\":260,\"start\":-260},\"id\":\"f10e8b59-dc65-4334-a1d1-c5a6c81137ae\",\"type\":\"Range1d\"},{\"attributes\":{\"below\":[{\"id\":\"75b6e92d-2457-4981-962b-09a051824ac0\",\"type\":\"LinearAxis\"}],\"left\":[{\"id\":\"b243700c-ecc7-47bb-a6aa-ec5fa0149178\",\"type\":\"LinearAxis\"}],\"outline_line_color\":{\"value\":\"darkgrey\"},\"plot_height\":400,\"renderers\":[{\"id\":\"75b6e92d-2457-4981-962b-09a051824ac0\",\"type\":\"LinearAxis\"},{\"id\":\"b78fbac8-59d0-4baf-a7e4-e77d4fe74c27\",\"type\":\"Grid\"},{\"id\":\"b243700c-ecc7-47bb-a6aa-ec5fa0149178\",\"type\":\"LinearAxis\"},{\"id\":\"bb2370db-4acb-43b4-85e4-27f48057ed11\",\"type\":\"Grid\"},{\"id\":\"78abc35e-fde0-4755-89be-2f8e7bfa11e8\",\"type\":\"BoxAnnotation\"},{\"id\":\"a7fb9d77-a3a3-46a3-ac22-4b89ee255964\",\"type\":\"GlyphRenderer\"},{\"id\":\"9681bca3-3cf3-442a-9ab3-07f5a8ebac30\",\"type\":\"GlyphRenderer\"},{\"id\":\"dce7b9bc-080e-4236-9ce7-1a32c4cd5ded\",\"type\":\"GlyphRenderer\"}],\"title\":{\"id\":\"697aff21-0ba5-4eb4-ab7f-99d46d1fd58f\",\"type\":\"Title\"},\"toolbar\":{\"id\":\"96731cc0-65d3-49ab-acf9-623735f01cb1\",\"type\":\"Toolbar\"},\"toolbar_location\":null,\"x_range\":{\"id\":\"f10e8b59-dc65-4334-a1d1-c5a6c81137ae\",\"type\":\"Range1d\"},\"x_scale\":{\"id\":\"7c1b061e-ccf9-473c-a6db-8934f6705e93\",\"type\":\"LinearScale\"},\"y_range\":{\"id\":\"62114d21-5e7f-49bb-8b62-05bf28763835\",\"type\":\"Range1d\"},\"y_scale\":{\"id\":\"358e303c-f4b1-41ff-b705-a406489e795a\",\"type\":\"LinearScale\"}},\"id\":\"958fc4b0-5b31-4d2c-8387-91edfd3aa536\",\"subtype\":\"Figure\",\"type\":\"Plot\"},{\"attributes\":{\"data_source\":{\"id\":\"056aae6d-7e0f-4dd2-bc43-f74dcf54d75c\",\"type\":\"ColumnDataSource\"},\"glyph\":{\"id\":\"2239bab0-8246-49df-ae97-11700b5b2ecb\",\"type\":\"HBar\"},\"hover_glyph\":null,\"muted_glyph\":null,\"nonselection_glyph\":{\"id\":\"64fcd4ac-8260-4250-9372-61e1493d4680\",\"type\":\"HBar\"},\"selection_glyph\":null,\"view\":{\"id\":\"00fcacd1-2953-4b83-8d89-e60fef7b8692\",\"type\":\"CDSView\"}},\"id\":\"a7fb9d77-a3a3-46a3-ac22-4b89ee255964\",\"type\":\"GlyphRenderer\"},{\"attributes\":{\"fill_alpha\":{\"value\":0.1},\"fill_color\":{\"value\":\"#1f77b4\"},\"height\":{\"value\":0.5},\"left\":{\"value\":-22.700000000000003},\"line_alpha\":{\"value\":0.1},\"line_color\":{\"value\":\"#1f77b4\"},\"line_width\":{\"value\":0.5},\"right\":{\"field\":\"right\"},\"y\":{\"field\":\"y\"}},\"id\":\"64fcd4ac-8260-4250-9372-61e1493d4680\",\"type\":\"HBar\"},{\"attributes\":{},\"id\":\"1e257641-20cd-415d-983c-1417e7d20f68\",\"type\":\"HelpTool\"},{\"attributes\":{\"plot\":{\"id\":\"958fc4b0-5b31-4d2c-8387-91edfd3aa536\",\"subtype\":\"Figure\",\"type\":\"Plot\"},\"ticker\":{\"id\":\"4a8a1422-bff1-48db-9b75-2a480d2b1c94\",\"type\":\"BasicTicker\"},\"visible\":false},\"id\":\"b78fbac8-59d0-4baf-a7e4-e77d4fe74c27\",\"type\":\"Grid\"},{\"attributes\":{\"data_source\":{\"id\":\"6d82b184-dfaf-485b-ab57-401a6b069983\",\"type\":\"ColumnDataSource\"},\"glyph\":{\"id\":\"9455c2c7-897b-41c6-8733-5f879b871059\",\"type\":\"Text\"},\"hover_glyph\":null,\"muted_glyph\":null,\"nonselection_glyph\":{\"id\":\"57742d04-7b6e-40b9-898a-6cf690c46644\",\"type\":\"Text\"},\"selection_glyph\":null,\"view\":{\"id\":\"10e07c21-afec-45cc-8cbf-b72b73cb21de\",\"type\":\"CDSView\"}},\"id\":\"dce7b9bc-080e-4236-9ce7-1a32c4cd5ded\",\"type\":\"GlyphRenderer\"},{\"attributes\":{\"source\":{\"id\":\"056aae6d-7e0f-4dd2-bc43-f74dcf54d75c\",\"type\":\"ColumnDataSource\"}},\"id\":\"00fcacd1-2953-4b83-8d89-e60fef7b8692\",\"type\":\"CDSView\"},{\"attributes\":{\"formatter\":{\"id\":\"a965be61-63f2-4516-9e72-7f9130781ee9\",\"type\":\"FuncTickFormatter\"},\"plot\":{\"id\":\"958fc4b0-5b31-4d2c-8387-91edfd3aa536\",\"subtype\":\"Figure\",\"type\":\"Plot\"},\"ticker\":{\"id\":\"4a8a1422-bff1-48db-9b75-2a480d2b1c94\",\"type\":\"BasicTicker\"}},\"id\":\"75b6e92d-2457-4981-962b-09a051824ac0\",\"type\":\"LinearAxis\"},{\"attributes\":{},\"id\":\"358e303c-f4b1-41ff-b705-a406489e795a\",\"type\":\"LinearScale\"},{\"attributes\":{\"text_align\":\"center\",\"text_alpha\":{\"value\":0.1},\"text_color\":{\"value\":\"black\"},\"text_font_size\":{\"value\":\"11px\"},\"x\":{\"field\":\"x\"},\"y\":{\"field\":\"y\"},\"y_offset\":{\"value\":8}},\"id\":\"57742d04-7b6e-40b9-898a-6cf690c46644\",\"type\":\"Text\"},{\"attributes\":{},\"id\":\"7c1b061e-ccf9-473c-a6db-8934f6705e93\",\"type\":\"LinearScale\"},{\"attributes\":{\"fill_alpha\":{\"value\":0.1},\"fill_color\":{\"value\":\"#1f77b4\"},\"height\":{\"value\":0.5},\"left\":{\"value\":22.700000000000003},\"line_alpha\":{\"value\":0.1},\"line_color\":{\"value\":\"#1f77b4\"},\"line_width\":{\"value\":0.5},\"right\":{\"field\":\"right\"},\"y\":{\"field\":\"y\"}},\"id\":\"4139ef92-11d6-4a93-b4d9-fcb7b9f32def\",\"type\":\"HBar\"},{\"attributes\":{\"callback\":null,\"column_names\":[\"y\",\"right\"],\"data\":{\"right\":[-116.7,-163.7,-156.7,-140.7,-129.7,-134.7,-108.7,-121.7,-155.7,-198.7,-199.7,-249.7,-198.7,-212.7,-151.7,-118.7,-78.7,-56.7,-39.7],\"y\":[1,2,3,4,5,6,7,8,9,10,11,12,13,14,15,16,17,18,19]}},\"id\":\"056aae6d-7e0f-4dd2-bc43-f74dcf54d75c\",\"type\":\"ColumnDataSource\"},{\"attributes\":{},\"id\":\"c76505a7-efc2-4dfe-933e-4c08d262d931\",\"type\":\"WheelZoomTool\"},{\"attributes\":{\"fill_color\":{\"value\":\"#bebada\"},\"height\":{\"value\":0.5},\"left\":{\"value\":-22.700000000000003},\"line_width\":{\"value\":0.5},\"right\":{\"field\":\"right\"},\"y\":{\"field\":\"y\"}},\"id\":\"2239bab0-8246-49df-ae97-11700b5b2ecb\",\"type\":\"HBar\"},{\"attributes\":{\"bottom_units\":\"screen\",\"fill_alpha\":{\"value\":0.5},\"fill_color\":{\"value\":\"lightgrey\"},\"left_units\":\"screen\",\"level\":\"overlay\",\"line_alpha\":{\"value\":1.0},\"line_color\":{\"value\":\"black\"},\"line_dash\":[4,4],\"line_width\":{\"value\":2},\"plot\":null,\"render_mode\":\"css\",\"right_units\":\"screen\",\"top_units\":\"screen\"},\"id\":\"78abc35e-fde0-4755-89be-2f8e7bfa11e8\",\"type\":\"BoxAnnotation\"},{\"attributes\":{\"overlay\":{\"id\":\"78abc35e-fde0-4755-89be-2f8e7bfa11e8\",\"type\":\"BoxAnnotation\"}},\"id\":\"7cc72364-aa81-4140-9f88-b93f477111a1\",\"type\":\"BoxZoomTool\"},{\"attributes\":{\"callback\":null,\"column_names\":[\"y\",\"right\"],\"data\":{\"right\":[130.7,139.7,141.7,125.7,109.7,126.7,121.7,163.7,164.7,206.7,215.7,210.7,205.7,208.7,155.7,143.7,102.7,72.7,61.7],\"y\":[1,2,3,4,5,6,7,8,9,10,11,12,13,14,15,16,17,18,19]}},\"id\":\"7eb9a76b-05fe-4d44-a193-9a65c9a2ccc1\",\"type\":\"ColumnDataSource\"},{\"attributes\":{\"align\":\"center\",\"plot\":null,\"text\":\"Uist\"},\"id\":\"697aff21-0ba5-4eb4-ab7f-99d46d1fd58f\",\"type\":\"Title\"},{\"attributes\":{\"code\":\"\\n    return Math.abs(tick)\"},\"id\":\"a965be61-63f2-4516-9e72-7f9130781ee9\",\"type\":\"FuncTickFormatter\"},{\"attributes\":{\"data_source\":{\"id\":\"7eb9a76b-05fe-4d44-a193-9a65c9a2ccc1\",\"type\":\"ColumnDataSource\"},\"glyph\":{\"id\":\"6b209227-1a53-4ad9-81a1-e3f6493aa0df\",\"type\":\"HBar\"},\"hover_glyph\":null,\"muted_glyph\":null,\"nonselection_glyph\":{\"id\":\"4139ef92-11d6-4a93-b4d9-fcb7b9f32def\",\"type\":\"HBar\"},\"selection_glyph\":null,\"view\":{\"id\":\"c7865f79-af61-4e34-93a7-e7b0198cfcbe\",\"type\":\"CDSView\"}},\"id\":\"9681bca3-3cf3-442a-9ab3-07f5a8ebac30\",\"type\":\"GlyphRenderer\"},{\"attributes\":{\"callback\":null,\"column_names\":[\"x\",\"y\",\"text\"],\"data\":{\"text\":[\"0 - 4\",\"5 - 9\",\"10 - 14\",\"15 - 19\",\"20 - 24\",\"25 - 29\",\"30 - 34\",\"35 - 39\",\"40 - 44\",\"45 - 49\",\"50 - 54\",\"55 - 59\",\"60 - 64\",\"65 - 69\",\"70 - 74\",\"75 - 79\",\"80 - 84\",\"85 - 89\",\"90+\"],\"x\":[0,0,0,0,0,0,0,0,0,0,0,0,0,0,0,0,0,0,0],\"y\":[1,2,3,4,5,6,7,8,9,10,11,12,13,14,15,16,17,18,19]}},\"id\":\"6d82b184-dfaf-485b-ab57-401a6b069983\",\"type\":\"ColumnDataSource\"},{\"attributes\":{},\"id\":\"29716be7-b499-4643-993e-807332c20369\",\"type\":\"SaveTool\"},{\"attributes\":{},\"id\":\"da91a312-0a06-40a5-aec4-70349d869f1e\",\"type\":\"PanTool\"},{\"attributes\":{},\"id\":\"55ad81c2-5546-4a3d-a1c0-549bf4754815\",\"type\":\"ResetTool\"},{\"attributes\":{\"fill_color\":{\"value\":\"#8dd3c7\"},\"height\":{\"value\":0.5},\"left\":{\"value\":22.700000000000003},\"line_width\":{\"value\":0.5},\"right\":{\"field\":\"right\"},\"y\":{\"field\":\"y\"}},\"id\":\"6b209227-1a53-4ad9-81a1-e3f6493aa0df\",\"type\":\"HBar\"},{\"attributes\":{},\"id\":\"0ddb3f27-295e-4ad7-9627-55d883abd4ee\",\"type\":\"BasicTickFormatter\"},{\"attributes\":{\"dimension\":1,\"plot\":{\"id\":\"958fc4b0-5b31-4d2c-8387-91edfd3aa536\",\"subtype\":\"Figure\",\"type\":\"Plot\"},\"ticker\":{\"id\":\"6c4d83ea-db69-49f3-a4e4-6638a1c9bbe8\",\"type\":\"BasicTicker\"},\"visible\":false},\"id\":\"bb2370db-4acb-43b4-85e4-27f48057ed11\",\"type\":\"Grid\"},{\"attributes\":{\"active_drag\":\"auto\",\"active_inspect\":\"auto\",\"active_scroll\":\"auto\",\"active_tap\":\"auto\",\"logo\":null,\"tools\":[{\"id\":\"da91a312-0a06-40a5-aec4-70349d869f1e\",\"type\":\"PanTool\"},{\"id\":\"c76505a7-efc2-4dfe-933e-4c08d262d931\",\"type\":\"WheelZoomTool\"},{\"id\":\"7cc72364-aa81-4140-9f88-b93f477111a1\",\"type\":\"BoxZoomTool\"},{\"id\":\"29716be7-b499-4643-993e-807332c20369\",\"type\":\"SaveTool\"},{\"id\":\"55ad81c2-5546-4a3d-a1c0-549bf4754815\",\"type\":\"ResetTool\"},{\"id\":\"1e257641-20cd-415d-983c-1417e7d20f68\",\"type\":\"HelpTool\"}]},\"id\":\"96731cc0-65d3-49ab-acf9-623735f01cb1\",\"type\":\"Toolbar\"},{\"attributes\":{\"source\":{\"id\":\"6d82b184-dfaf-485b-ab57-401a6b069983\",\"type\":\"ColumnDataSource\"}},\"id\":\"10e07c21-afec-45cc-8cbf-b72b73cb21de\",\"type\":\"CDSView\"},{\"attributes\":{},\"id\":\"6c4d83ea-db69-49f3-a4e4-6638a1c9bbe8\",\"type\":\"BasicTicker\"},{\"attributes\":{},\"id\":\"4a8a1422-bff1-48db-9b75-2a480d2b1c94\",\"type\":\"BasicTicker\"},{\"attributes\":{\"callback\":null,\"end\":20},\"id\":\"62114d21-5e7f-49bb-8b62-05bf28763835\",\"type\":\"Range1d\"},{\"attributes\":{\"text_align\":\"center\",\"text_color\":{\"value\":\"black\"},\"text_font_size\":{\"value\":\"11px\"},\"x\":{\"field\":\"x\"},\"y\":{\"field\":\"y\"},\"y_offset\":{\"value\":8}},\"id\":\"9455c2c7-897b-41c6-8733-5f879b871059\",\"type\":\"Text\"}],\"root_ids\":[\"958fc4b0-5b31-4d2c-8387-91edfd3aa536\"]},\"title\":\"Bokeh Application\",\"version\":\"0.12.13\"}};\n",
       "  var render_items = [{\"docid\":\"377e8e65-c563-4b36-8592-f693d9f25804\",\"elementid\":\"d3852285-39e9-457a-b7cf-ad81e868f157\",\"modelid\":\"958fc4b0-5b31-4d2c-8387-91edfd3aa536\"}];\n",
       "  root.Bokeh.embed.embed_items_notebook(docs_json, render_items);\n",
       "\n",
       "  }\n",
       "  if (root.Bokeh !== undefined) {\n",
       "    embed_document(root);\n",
       "  } else {\n",
       "    var attempts = 0;\n",
       "    var timer = setInterval(function(root) {\n",
       "      if (root.Bokeh !== undefined) {\n",
       "        embed_document(root);\n",
       "        clearInterval(timer);\n",
       "      }\n",
       "      attempts++;\n",
       "      if (attempts > 100) {\n",
       "        console.log(\"Bokeh: ERROR: Unable to run BokehJS code because BokehJS library is missing\")\n",
       "        clearInterval(timer);\n",
       "      }\n",
       "    }, 10, root)\n",
       "  }\n",
       "})(window);"
      ],
      "application/vnd.bokehjs_exec.v0+json": ""
     },
     "metadata": {
      "application/vnd.bokehjs_exec.v0+json": {
       "id": "958fc4b0-5b31-4d2c-8387-91edfd3aa536"
      }
     },
     "output_type": "display_data"
    }
   ],
   "source": [
    "#test for a single area\n",
    "show(pop_pyramid(data, 'Area', 'Uist', xaxis=True, export=True, x_lim=260, title=False))"
   ]
  },
  {
   "cell_type": "code",
   "execution_count": null,
   "metadata": {},
   "outputs": [],
   "source": [
    "#iterate over areas to produce a plot for each and then layout them in a grid\n",
    "plots = []\n",
    "for ca in data['Area'].unique():\n",
    "    plots.append(pop_pyramid(data,'Area',ca))\n",
    "\n",
    "plot_grid = gridplot(plots, ncols=5)\n",
    "#bokeh.io.export_png(plot_grid, filename='images/all_ca_no_name.png')"
   ]
  },
  {
   "cell_type": "markdown",
   "metadata": {},
   "source": [
    "#### Create a pyramid plot for 2001, 2009 and 2016 population of Uist"
   ]
  },
  {
   "cell_type": "code",
   "execution_count": 35,
   "metadata": {},
   "outputs": [],
   "source": [
    "df = pd.read_csv('data/2001-9_pop_pyramid.csv')"
   ]
  },
  {
   "cell_type": "code",
   "execution_count": 82,
   "metadata": {},
   "outputs": [
    {
     "name": "stderr",
     "output_type": "stream",
     "text": [
      "C:\\Users\\germap01\\AppData\\Local\\Continuum\\anaconda3\\lib\\site-packages\\selenium\\webdriver\\phantomjs\\webdriver.py:49: UserWarning: Selenium support for PhantomJS has been deprecated, please use headless versions of Chrome or Firefox instead\n",
      "  warnings.warn('Selenium support for PhantomJS has been deprecated, please use headless '\n"
     ]
    },
    {
     "data": {
      "text/html": [
       "\n",
       "<div class=\"bk-root\">\n",
       "    <div class=\"bk-plotdiv\" id=\"92f3132f-386b-4c9b-b0a8-2821483bb23a\"></div>\n",
       "</div>"
      ]
     },
     "metadata": {},
     "output_type": "display_data"
    },
    {
     "data": {
      "application/javascript": [
       "(function(root) {\n",
       "  function embed_document(root) {\n",
       "    \n",
       "  var docs_json = {\"aa711533-c16d-44fe-b7ff-d10c3f39c0e7\":{\"roots\":{\"references\":[{\"attributes\":{},\"id\":\"21a9e17b-002f-4c5b-a29b-6d604a8bfb97\",\"type\":\"WheelZoomTool\"},{\"attributes\":{\"fill_color\":{\"value\":\"#bebada\"},\"height\":{\"value\":0.5},\"left\":{\"value\":-22.700000000000003},\"line_color\":{\"value\":null},\"line_dash\":null,\"line_width\":null,\"right\":{\"field\":\"right\"},\"y\":{\"field\":\"y\"}},\"id\":\"a619bdbd-b6bb-4ff6-b6e2-0e78b5c95618\",\"type\":\"HBar\"},{\"attributes\":{\"code\":\"\\n    return Math.abs(tick)\"},\"id\":\"d441ba9d-63a2-4f94-ae04-42b2a4a97efc\",\"type\":\"FuncTickFormatter\"},{\"attributes\":{\"data_source\":{\"id\":\"d384897e-22fc-434b-9a8a-6d20cc67f4cd\",\"type\":\"ColumnDataSource\"},\"glyph\":{\"id\":\"a619bdbd-b6bb-4ff6-b6e2-0e78b5c95618\",\"type\":\"HBar\"},\"hover_glyph\":null,\"muted_glyph\":null,\"nonselection_glyph\":{\"id\":\"b1992843-c47f-4335-a2a1-6e9910c068e3\",\"type\":\"HBar\"},\"selection_glyph\":null,\"view\":{\"id\":\"c63cb637-66d7-4c2d-b28e-fd4ad4f32fd8\",\"type\":\"CDSView\"}},\"id\":\"9d525747-ee47-469c-b558-7d07ed891881\",\"type\":\"GlyphRenderer\"},{\"attributes\":{\"source\":{\"id\":\"d384897e-22fc-434b-9a8a-6d20cc67f4cd\",\"type\":\"ColumnDataSource\"}},\"id\":\"c63cb637-66d7-4c2d-b28e-fd4ad4f32fd8\",\"type\":\"CDSView\"},{\"attributes\":{\"plot\":{\"id\":\"9ef80bac-8d4c-4e29-87f9-79c5bd5e9987\",\"subtype\":\"Figure\",\"type\":\"Plot\"},\"ticker\":{\"id\":\"e66a061a-cfbc-4720-b807-8cba73fdcd4f\",\"type\":\"BasicTicker\"},\"visible\":false},\"id\":\"77cf6ae7-8a2c-4895-8b02-ec43350ab983\",\"type\":\"Grid\"},{\"attributes\":{},\"id\":\"94c8b776-584d-4b20-9ba1-6cddfb8d22f0\",\"type\":\"HelpTool\"},{\"attributes\":{\"dimension\":1,\"plot\":{\"id\":\"9ef80bac-8d4c-4e29-87f9-79c5bd5e9987\",\"subtype\":\"Figure\",\"type\":\"Plot\"},\"ticker\":{\"id\":\"a22450dc-eae0-4c7c-afec-899f55805452\",\"type\":\"BasicTicker\"},\"visible\":false},\"id\":\"3affb791-4eda-48cb-b2b4-cdb6ae37b2c0\",\"type\":\"Grid\"},{\"attributes\":{\"fill_alpha\":{\"value\":0.1},\"fill_color\":{\"value\":\"#1f77b4\"},\"height\":{\"value\":0.5},\"left\":{\"value\":22.700000000000003},\"line_alpha\":{\"value\":0.1},\"line_color\":{\"value\":\"#1f77b4\"},\"line_dash\":null,\"line_width\":null,\"right\":{\"field\":\"right\"},\"y\":{\"field\":\"y\"}},\"id\":\"bddb1b8b-6232-440a-bee7-f546b9bcb179\",\"type\":\"HBar\"},{\"attributes\":{\"callback\":null,\"end\":20},\"id\":\"82f472ed-f9bd-4828-b2d4-730d2ac760fa\",\"type\":\"Range1d\"},{\"attributes\":{\"callback\":null,\"column_names\":[\"y\",\"right\"],\"data\":{\"right\":[-116.7,-163.7,-156.7,-140.7,-129.7,-134.7,-108.7,-121.7,-155.7,-198.7,-199.7,-249.7,-198.7,-212.7,-151.7,-118.7,-78.7,-56.7,-39.7],\"y\":[1,2,3,4,5,6,7,8,9,10,11,12,13,14,15,16,17,18,19]}},\"id\":\"d384897e-22fc-434b-9a8a-6d20cc67f4cd\",\"type\":\"ColumnDataSource\"},{\"attributes\":{\"text_align\":\"center\",\"text_color\":{\"value\":\"black\"},\"text_font_size\":{\"value\":\"11px\"},\"x\":{\"field\":\"x\"},\"y\":{\"field\":\"y\"},\"y_offset\":{\"value\":8}},\"id\":\"3e3ab1f1-a251-46b2-8ef5-253c1d597db3\",\"type\":\"Text\"},{\"attributes\":{\"fill_alpha\":{\"value\":0.1},\"fill_color\":{\"value\":\"#1f77b4\"},\"height\":{\"value\":0.5},\"left\":{\"value\":-22.700000000000003},\"line_alpha\":{\"value\":0.1},\"line_color\":{\"value\":\"#1f77b4\"},\"line_dash\":null,\"line_width\":null,\"right\":{\"field\":\"right\"},\"y\":{\"field\":\"y\"}},\"id\":\"b1992843-c47f-4335-a2a1-6e9910c068e3\",\"type\":\"HBar\"},{\"attributes\":{\"fill_color\":{\"value\":\"#8dd3c7\"},\"height\":{\"value\":0.5},\"left\":{\"value\":22.700000000000003},\"line_color\":{\"value\":null},\"line_dash\":null,\"line_width\":null,\"right\":{\"field\":\"right\"},\"y\":{\"field\":\"y\"}},\"id\":\"0dec1ae1-c9bd-4e6d-ab4a-5a33c018a2e6\",\"type\":\"HBar\"},{\"attributes\":{},\"id\":\"7d553c0e-b35d-4e45-b478-241fac318ad6\",\"type\":\"ResetTool\"},{\"attributes\":{},\"id\":\"a22450dc-eae0-4c7c-afec-899f55805452\",\"type\":\"BasicTicker\"},{\"attributes\":{},\"id\":\"0bf27255-01e6-4f20-9fcf-aaf663e8d7db\",\"type\":\"PanTool\"},{\"attributes\":{\"data_source\":{\"id\":\"c71684a7-909f-4799-ad8c-bee37cc73027\",\"type\":\"ColumnDataSource\"},\"glyph\":{\"id\":\"3e3ab1f1-a251-46b2-8ef5-253c1d597db3\",\"type\":\"Text\"},\"hover_glyph\":null,\"muted_glyph\":null,\"nonselection_glyph\":{\"id\":\"c02569a3-ceee-4c2d-8254-1d894eff2b03\",\"type\":\"Text\"},\"selection_glyph\":null,\"view\":{\"id\":\"4d0be41d-b034-4018-8b3e-049793faedee\",\"type\":\"CDSView\"}},\"id\":\"03755cf8-2cfd-434a-a548-1329da9292a8\",\"type\":\"GlyphRenderer\"},{\"attributes\":{\"below\":[{\"id\":\"feccb35a-442b-41c3-ba28-bbde68eb1862\",\"type\":\"LinearAxis\"}],\"left\":[{\"id\":\"39e02668-f8e8-401b-8b4a-08c63477e5b9\",\"type\":\"LinearAxis\"}],\"outline_line_color\":{\"value\":\"darkgrey\"},\"plot_height\":400,\"renderers\":[{\"id\":\"feccb35a-442b-41c3-ba28-bbde68eb1862\",\"type\":\"LinearAxis\"},{\"id\":\"77cf6ae7-8a2c-4895-8b02-ec43350ab983\",\"type\":\"Grid\"},{\"id\":\"39e02668-f8e8-401b-8b4a-08c63477e5b9\",\"type\":\"LinearAxis\"},{\"id\":\"3affb791-4eda-48cb-b2b4-cdb6ae37b2c0\",\"type\":\"Grid\"},{\"id\":\"faa5845a-386a-454f-835d-59060a9694a5\",\"type\":\"BoxAnnotation\"},{\"id\":\"9d525747-ee47-469c-b558-7d07ed891881\",\"type\":\"GlyphRenderer\"},{\"id\":\"cdd88ea9-3990-4ca9-adca-d0e326e4c140\",\"type\":\"GlyphRenderer\"},{\"id\":\"03755cf8-2cfd-434a-a548-1329da9292a8\",\"type\":\"GlyphRenderer\"}],\"title\":{\"id\":\"f9ef8105-5711-4089-b76f-f08e6d399056\",\"type\":\"Title\"},\"toolbar\":{\"id\":\"d7a4adcf-8951-4d2a-9134-87c758d49df1\",\"type\":\"Toolbar\"},\"toolbar_location\":null,\"x_range\":{\"id\":\"d46f7a73-97af-47fc-a088-c40b2d5fdbe4\",\"type\":\"Range1d\"},\"x_scale\":{\"id\":\"9d911e80-6f79-43e5-a768-b4a24621cebd\",\"type\":\"LinearScale\"},\"y_range\":{\"id\":\"82f472ed-f9bd-4828-b2d4-730d2ac760fa\",\"type\":\"Range1d\"},\"y_scale\":{\"id\":\"f254e406-6589-4f3a-9ec0-38e23e8d16a8\",\"type\":\"LinearScale\"}},\"id\":\"9ef80bac-8d4c-4e29-87f9-79c5bd5e9987\",\"subtype\":\"Figure\",\"type\":\"Plot\"},{\"attributes\":{\"plot\":null,\"text\":\"\"},\"id\":\"f9ef8105-5711-4089-b76f-f08e6d399056\",\"type\":\"Title\"},{\"attributes\":{\"text_align\":\"center\",\"text_alpha\":{\"value\":0.1},\"text_color\":{\"value\":\"black\"},\"text_font_size\":{\"value\":\"11px\"},\"x\":{\"field\":\"x\"},\"y\":{\"field\":\"y\"},\"y_offset\":{\"value\":8}},\"id\":\"c02569a3-ceee-4c2d-8254-1d894eff2b03\",\"type\":\"Text\"},{\"attributes\":{\"overlay\":{\"id\":\"faa5845a-386a-454f-835d-59060a9694a5\",\"type\":\"BoxAnnotation\"}},\"id\":\"55223963-f4a7-4628-98c4-781f631fb917\",\"type\":\"BoxZoomTool\"},{\"attributes\":{\"source\":{\"id\":\"c71684a7-909f-4799-ad8c-bee37cc73027\",\"type\":\"ColumnDataSource\"}},\"id\":\"4d0be41d-b034-4018-8b3e-049793faedee\",\"type\":\"CDSView\"},{\"attributes\":{\"formatter\":{\"id\":\"ff87325d-8137-47da-adb6-a8a2c5c99f01\",\"type\":\"BasicTickFormatter\"},\"plot\":{\"id\":\"9ef80bac-8d4c-4e29-87f9-79c5bd5e9987\",\"subtype\":\"Figure\",\"type\":\"Plot\"},\"ticker\":{\"id\":\"a22450dc-eae0-4c7c-afec-899f55805452\",\"type\":\"BasicTicker\"},\"visible\":false},\"id\":\"39e02668-f8e8-401b-8b4a-08c63477e5b9\",\"type\":\"LinearAxis\"},{\"attributes\":{\"formatter\":{\"id\":\"d441ba9d-63a2-4f94-ae04-42b2a4a97efc\",\"type\":\"FuncTickFormatter\"},\"plot\":{\"id\":\"9ef80bac-8d4c-4e29-87f9-79c5bd5e9987\",\"subtype\":\"Figure\",\"type\":\"Plot\"},\"ticker\":{\"id\":\"e66a061a-cfbc-4720-b807-8cba73fdcd4f\",\"type\":\"BasicTicker\"}},\"id\":\"feccb35a-442b-41c3-ba28-bbde68eb1862\",\"type\":\"LinearAxis\"},{\"attributes\":{},\"id\":\"abce91a3-f989-4e31-94e5-f3e0d4f5657f\",\"type\":\"SaveTool\"},{\"attributes\":{},\"id\":\"ff87325d-8137-47da-adb6-a8a2c5c99f01\",\"type\":\"BasicTickFormatter\"},{\"attributes\":{\"callback\":null,\"column_names\":[\"y\",\"right\"],\"data\":{\"right\":[130.7,139.7,141.7,125.7,109.7,126.7,121.7,163.7,164.7,206.7,215.7,210.7,205.7,208.7,155.7,143.7,102.7,72.7,61.7],\"y\":[1,2,3,4,5,6,7,8,9,10,11,12,13,14,15,16,17,18,19]}},\"id\":\"c9f1a191-c598-47c6-bf1e-c19b4cba75e7\",\"type\":\"ColumnDataSource\"},{\"attributes\":{\"active_drag\":\"auto\",\"active_inspect\":\"auto\",\"active_scroll\":\"auto\",\"active_tap\":\"auto\",\"logo\":null,\"tools\":[{\"id\":\"0bf27255-01e6-4f20-9fcf-aaf663e8d7db\",\"type\":\"PanTool\"},{\"id\":\"21a9e17b-002f-4c5b-a29b-6d604a8bfb97\",\"type\":\"WheelZoomTool\"},{\"id\":\"55223963-f4a7-4628-98c4-781f631fb917\",\"type\":\"BoxZoomTool\"},{\"id\":\"abce91a3-f989-4e31-94e5-f3e0d4f5657f\",\"type\":\"SaveTool\"},{\"id\":\"7d553c0e-b35d-4e45-b478-241fac318ad6\",\"type\":\"ResetTool\"},{\"id\":\"94c8b776-584d-4b20-9ba1-6cddfb8d22f0\",\"type\":\"HelpTool\"}]},\"id\":\"d7a4adcf-8951-4d2a-9134-87c758d49df1\",\"type\":\"Toolbar\"},{\"attributes\":{\"data_source\":{\"id\":\"c9f1a191-c598-47c6-bf1e-c19b4cba75e7\",\"type\":\"ColumnDataSource\"},\"glyph\":{\"id\":\"0dec1ae1-c9bd-4e6d-ab4a-5a33c018a2e6\",\"type\":\"HBar\"},\"hover_glyph\":null,\"muted_glyph\":null,\"nonselection_glyph\":{\"id\":\"bddb1b8b-6232-440a-bee7-f546b9bcb179\",\"type\":\"HBar\"},\"selection_glyph\":null,\"view\":{\"id\":\"073cc999-ae56-4d1d-9c8a-36aed98b6ba6\",\"type\":\"CDSView\"}},\"id\":\"cdd88ea9-3990-4ca9-adca-d0e326e4c140\",\"type\":\"GlyphRenderer\"},{\"attributes\":{\"source\":{\"id\":\"c9f1a191-c598-47c6-bf1e-c19b4cba75e7\",\"type\":\"ColumnDataSource\"}},\"id\":\"073cc999-ae56-4d1d-9c8a-36aed98b6ba6\",\"type\":\"CDSView\"},{\"attributes\":{\"bottom_units\":\"screen\",\"fill_alpha\":{\"value\":0.5},\"fill_color\":{\"value\":\"lightgrey\"},\"left_units\":\"screen\",\"level\":\"overlay\",\"line_alpha\":{\"value\":1.0},\"line_color\":{\"value\":\"black\"},\"line_dash\":[4,4],\"line_width\":{\"value\":2},\"plot\":null,\"render_mode\":\"css\",\"right_units\":\"screen\",\"top_units\":\"screen\"},\"id\":\"faa5845a-386a-454f-835d-59060a9694a5\",\"type\":\"BoxAnnotation\"},{\"attributes\":{},\"id\":\"f254e406-6589-4f3a-9ec0-38e23e8d16a8\",\"type\":\"LinearScale\"},{\"attributes\":{\"callback\":null,\"end\":260,\"start\":-260},\"id\":\"d46f7a73-97af-47fc-a088-c40b2d5fdbe4\",\"type\":\"Range1d\"},{\"attributes\":{},\"id\":\"9d911e80-6f79-43e5-a768-b4a24621cebd\",\"type\":\"LinearScale\"},{\"attributes\":{},\"id\":\"e66a061a-cfbc-4720-b807-8cba73fdcd4f\",\"type\":\"BasicTicker\"},{\"attributes\":{\"callback\":null,\"column_names\":[\"x\",\"y\",\"text\"],\"data\":{\"text\":[\"0 - 4\",\"5 - 9\",\"10 - 14\",\"15 - 19\",\"20 - 24\",\"25 - 29\",\"30 - 34\",\"35 - 39\",\"40 - 44\",\"45 - 49\",\"50 - 54\",\"55 - 59\",\"60 - 64\",\"65 - 69\",\"70 - 74\",\"75 - 79\",\"80 - 84\",\"85 - 89\",\"90+\"],\"x\":[0,0,0,0,0,0,0,0,0,0,0,0,0,0,0,0,0,0,0],\"y\":[1,2,3,4,5,6,7,8,9,10,11,12,13,14,15,16,17,18,19]}},\"id\":\"c71684a7-909f-4799-ad8c-bee37cc73027\",\"type\":\"ColumnDataSource\"}],\"root_ids\":[\"9ef80bac-8d4c-4e29-87f9-79c5bd5e9987\"]},\"title\":\"Bokeh Application\",\"version\":\"0.12.13\"}};\n",
       "  var render_items = [{\"docid\":\"aa711533-c16d-44fe-b7ff-d10c3f39c0e7\",\"elementid\":\"92f3132f-386b-4c9b-b0a8-2821483bb23a\",\"modelid\":\"9ef80bac-8d4c-4e29-87f9-79c5bd5e9987\"}];\n",
       "  root.Bokeh.embed.embed_items_notebook(docs_json, render_items);\n",
       "\n",
       "  }\n",
       "  if (root.Bokeh !== undefined) {\n",
       "    embed_document(root);\n",
       "  } else {\n",
       "    var attempts = 0;\n",
       "    var timer = setInterval(function(root) {\n",
       "      if (root.Bokeh !== undefined) {\n",
       "        embed_document(root);\n",
       "        clearInterval(timer);\n",
       "      }\n",
       "      attempts++;\n",
       "      if (attempts > 100) {\n",
       "        console.log(\"Bokeh: ERROR: Unable to run BokehJS code because BokehJS library is missing\")\n",
       "        clearInterval(timer);\n",
       "      }\n",
       "    }, 10, root)\n",
       "  }\n",
       "})(window);"
      ],
      "application/vnd.bokehjs_exec.v0+json": ""
     },
     "metadata": {
      "application/vnd.bokehjs_exec.v0+json": {
       "id": "9ef80bac-8d4c-4e29-87f9-79c5bd5e9987"
      }
     },
     "output_type": "display_data"
    }
   ],
   "source": [
    "show(pop_pyramid(data, 'Area', 'Uist', title=False,\n",
    "                 xaxis=True, x_lim=260, export=True, stroke=False))"
   ]
  },
  {
   "cell_type": "code",
   "execution_count": 22,
   "metadata": {
    "scrolled": false
   },
   "outputs": [
    {
     "name": "stderr",
     "output_type": "stream",
     "text": [
      "C:\\Users\\germap01\\AppData\\Local\\Continuum\\anaconda3\\lib\\site-packages\\selenium\\webdriver\\phantomjs\\webdriver.py:49: UserWarning: Selenium support for PhantomJS has been deprecated, please use headless versions of Chrome or Firefox instead\n",
      "  warnings.warn('Selenium support for PhantomJS has been deprecated, please use headless '\n"
     ]
    },
    {
     "data": {
      "text/html": [
       "\n",
       "<div class=\"bk-root\">\n",
       "    <div class=\"bk-plotdiv\" id=\"58a41288-823f-4671-a003-f077865c94fb\"></div>\n",
       "</div>"
      ]
     },
     "metadata": {},
     "output_type": "display_data"
    },
    {
     "data": {
      "application/javascript": [
       "(function(root) {\n",
       "  function embed_document(root) {\n",
       "    \n",
       "  var docs_json = {\"4bebffd3-5157-4db3-9379-b2179559d451\":{\"roots\":{\"references\":[{\"attributes\":{\"source\":{\"id\":\"f4e745fe-6330-451f-8ec8-049a472330b4\",\"type\":\"ColumnDataSource\"}},\"id\":\"bb581cb0-f47c-4694-aa28-e8c0455756bf\",\"type\":\"CDSView\"},{\"attributes\":{\"callback\":null,\"end\":20},\"id\":\"4242badc-03d2-405d-9c3e-7e44c432c665\",\"type\":\"Range1d\"},{\"attributes\":{\"callback\":null,\"column_names\":[\"y\",\"right\"],\"data\":{\"right\":[143.0,158.0,157.0,146.0,106.0,118.0,148.0,162.0,228.0,199.0,213.0,214.0,182.0,165.0,146.0,131.0,98.0,76.0,45.0],\"y\":[1,2,3,4,5,6,7,8,9,10,11,12,13,14,15,16,17,18,19]}},\"id\":\"ef5a54ef-da34-4470-b03a-092ed847d3b6\",\"type\":\"ColumnDataSource\"},{\"attributes\":{\"active_drag\":\"auto\",\"active_inspect\":\"auto\",\"active_scroll\":\"auto\",\"active_tap\":\"auto\",\"logo\":null,\"tools\":[{\"id\":\"a67d364b-8f31-479f-b033-9878f22d7253\",\"type\":\"PanTool\"},{\"id\":\"b0c25302-6c9f-4fdf-a5f1-bfe828e4ca6a\",\"type\":\"WheelZoomTool\"},{\"id\":\"b09f9257-de09-4fad-8a67-d2020b69d2ea\",\"type\":\"BoxZoomTool\"},{\"id\":\"b04245c2-3feb-4dc1-9d5c-e263c45b5cbe\",\"type\":\"SaveTool\"},{\"id\":\"11061a48-c0f5-4021-a7c1-63a3209d2631\",\"type\":\"ResetTool\"},{\"id\":\"0c4427ff-1f90-4e92-9893-c794cb786699\",\"type\":\"HelpTool\"}]},\"id\":\"6e5fedb2-a748-429e-8c22-9a81e8ae7e16\",\"type\":\"Toolbar\"},{\"attributes\":{},\"id\":\"f831b390-586f-4adc-bfdd-dad949c8e6a9\",\"type\":\"LinearScale\"},{\"attributes\":{},\"id\":\"b95c1fe2-05c9-4e47-8c54-ad2bb1e4e0c9\",\"type\":\"LinearScale\"},{\"attributes\":{\"fill_color\":{\"value\":\"#bebada\"},\"height\":{\"value\":0.5},\"left\":{\"value\":-22.0},\"line_width\":{\"value\":0.5},\"right\":{\"field\":\"right\"},\"y\":{\"field\":\"y\"}},\"id\":\"a05b2709-d834-4fa5-a0a7-3d53ff4f07c4\",\"type\":\"HBar\"},{\"attributes\":{\"text_align\":\"center\",\"text_alpha\":{\"value\":0.1},\"text_color\":{\"value\":\"black\"},\"text_font_size\":{\"value\":\"11px\"},\"x\":{\"field\":\"x\"},\"y\":{\"field\":\"y\"},\"y_offset\":{\"value\":8}},\"id\":\"3e157296-fb85-4627-9822-e374d50cf750\",\"type\":\"Text\"},{\"attributes\":{\"plot\":{\"id\":\"a1ce8f7a-2a3f-497f-9178-e60d644e585e\",\"subtype\":\"Figure\",\"type\":\"Plot\"},\"ticker\":{\"id\":\"e5895297-00cf-4b1d-9729-0d9deab5c63e\",\"type\":\"BasicTicker\"},\"visible\":false},\"id\":\"44c49a60-063a-4099-9042-51cefcb5ac8d\",\"type\":\"Grid\"},{\"attributes\":{\"below\":[{\"id\":\"9ff2130c-e985-4f6f-a3bc-96a797c61d84\",\"type\":\"LinearAxis\"}],\"left\":[{\"id\":\"dd690380-7222-4a0c-97d8-a9306c0da106\",\"type\":\"LinearAxis\"}],\"outline_line_color\":{\"value\":\"darkgrey\"},\"plot_height\":400,\"renderers\":[{\"id\":\"9ff2130c-e985-4f6f-a3bc-96a797c61d84\",\"type\":\"LinearAxis\"},{\"id\":\"44c49a60-063a-4099-9042-51cefcb5ac8d\",\"type\":\"Grid\"},{\"id\":\"dd690380-7222-4a0c-97d8-a9306c0da106\",\"type\":\"LinearAxis\"},{\"id\":\"31650e6c-1d55-45d1-81e4-6e422d6c91d9\",\"type\":\"Grid\"},{\"id\":\"41d9cc1d-c581-458c-9c87-e483c61a0550\",\"type\":\"BoxAnnotation\"},{\"id\":\"aaddc575-3824-47de-8901-2e80963deddd\",\"type\":\"GlyphRenderer\"},{\"id\":\"cefb3ce0-4879-4926-96a7-278ea27f04a4\",\"type\":\"GlyphRenderer\"},{\"id\":\"8c502b17-015a-47dd-9165-970efb20423e\",\"type\":\"GlyphRenderer\"}],\"title\":{\"id\":\"96675f41-4603-410f-8437-6c9ead2de85f\",\"type\":\"Title\"},\"toolbar\":{\"id\":\"6e5fedb2-a748-429e-8c22-9a81e8ae7e16\",\"type\":\"Toolbar\"},\"toolbar_location\":null,\"x_range\":{\"id\":\"53c436d6-4ab4-4a35-a878-777ef204b3a2\",\"type\":\"Range1d\"},\"x_scale\":{\"id\":\"f831b390-586f-4adc-bfdd-dad949c8e6a9\",\"type\":\"LinearScale\"},\"y_range\":{\"id\":\"4242badc-03d2-405d-9c3e-7e44c432c665\",\"type\":\"Range1d\"},\"y_scale\":{\"id\":\"b95c1fe2-05c9-4e47-8c54-ad2bb1e4e0c9\",\"type\":\"LinearScale\"}},\"id\":\"a1ce8f7a-2a3f-497f-9178-e60d644e585e\",\"subtype\":\"Figure\",\"type\":\"Plot\"},{\"attributes\":{\"formatter\":{\"id\":\"7ca4ebe2-97e0-4dea-99c8-5fb2dd168d54\",\"type\":\"FuncTickFormatter\"},\"plot\":{\"id\":\"a1ce8f7a-2a3f-497f-9178-e60d644e585e\",\"subtype\":\"Figure\",\"type\":\"Plot\"},\"ticker\":{\"id\":\"e5895297-00cf-4b1d-9729-0d9deab5c63e\",\"type\":\"BasicTicker\"}},\"id\":\"9ff2130c-e985-4f6f-a3bc-96a797c61d84\",\"type\":\"LinearAxis\"},{\"attributes\":{},\"id\":\"e5895297-00cf-4b1d-9729-0d9deab5c63e\",\"type\":\"BasicTicker\"},{\"attributes\":{\"formatter\":{\"id\":\"24030a1e-81c5-485a-92b4-db947db877bb\",\"type\":\"BasicTickFormatter\"},\"plot\":{\"id\":\"a1ce8f7a-2a3f-497f-9178-e60d644e585e\",\"subtype\":\"Figure\",\"type\":\"Plot\"},\"ticker\":{\"id\":\"ada143ad-1c09-4516-9e54-8accecb1a18c\",\"type\":\"BasicTicker\"},\"visible\":false},\"id\":\"dd690380-7222-4a0c-97d8-a9306c0da106\",\"type\":\"LinearAxis\"},{\"attributes\":{},\"id\":\"ada143ad-1c09-4516-9e54-8accecb1a18c\",\"type\":\"BasicTicker\"},{\"attributes\":{\"dimension\":1,\"plot\":{\"id\":\"a1ce8f7a-2a3f-497f-9178-e60d644e585e\",\"subtype\":\"Figure\",\"type\":\"Plot\"},\"ticker\":{\"id\":\"ada143ad-1c09-4516-9e54-8accecb1a18c\",\"type\":\"BasicTicker\"},\"visible\":false},\"id\":\"31650e6c-1d55-45d1-81e4-6e422d6c91d9\",\"type\":\"Grid\"},{\"attributes\":{\"fill_alpha\":{\"value\":0.1},\"fill_color\":{\"value\":\"#1f77b4\"},\"height\":{\"value\":0.5},\"left\":{\"value\":-22.0},\"line_alpha\":{\"value\":0.1},\"line_color\":{\"value\":\"#1f77b4\"},\"line_width\":{\"value\":0.5},\"right\":{\"field\":\"right\"},\"y\":{\"field\":\"y\"}},\"id\":\"6528bb44-6013-4ef1-b194-ce69f5c445eb\",\"type\":\"HBar\"},{\"attributes\":{\"callback\":null,\"end\":260,\"start\":-260},\"id\":\"53c436d6-4ab4-4a35-a878-777ef204b3a2\",\"type\":\"Range1d\"},{\"attributes\":{\"callback\":null,\"column_names\":[\"y\",\"right\"],\"data\":{\"right\":[-135.0,-148.0,-197.0,-170.0,-146.0,-116.0,-120.0,-173.0,-205.0,-229.0,-224.0,-219.0,-242.0,-164.0,-136.0,-107.0,-74.0,-42.0,-27.0],\"y\":[1,2,3,4,5,6,7,8,9,10,11,12,13,14,15,16,17,18,19]}},\"id\":\"3baee50a-ef3f-4d5a-9e4c-d84e6b61bdc4\",\"type\":\"ColumnDataSource\"},{\"attributes\":{\"bottom_units\":\"screen\",\"fill_alpha\":{\"value\":0.5},\"fill_color\":{\"value\":\"lightgrey\"},\"left_units\":\"screen\",\"level\":\"overlay\",\"line_alpha\":{\"value\":1.0},\"line_color\":{\"value\":\"black\"},\"line_dash\":[4,4],\"line_width\":{\"value\":2},\"plot\":null,\"render_mode\":\"css\",\"right_units\":\"screen\",\"top_units\":\"screen\"},\"id\":\"41d9cc1d-c581-458c-9c87-e483c61a0550\",\"type\":\"BoxAnnotation\"},{\"attributes\":{},\"id\":\"a67d364b-8f31-479f-b033-9878f22d7253\",\"type\":\"PanTool\"},{\"attributes\":{\"data_source\":{\"id\":\"3baee50a-ef3f-4d5a-9e4c-d84e6b61bdc4\",\"type\":\"ColumnDataSource\"},\"glyph\":{\"id\":\"a05b2709-d834-4fa5-a0a7-3d53ff4f07c4\",\"type\":\"HBar\"},\"hover_glyph\":null,\"muted_glyph\":null,\"nonselection_glyph\":{\"id\":\"6528bb44-6013-4ef1-b194-ce69f5c445eb\",\"type\":\"HBar\"},\"selection_glyph\":null,\"view\":{\"id\":\"ffb0acff-12b8-4eaf-aeec-502a0ce3a0a2\",\"type\":\"CDSView\"}},\"id\":\"aaddc575-3824-47de-8901-2e80963deddd\",\"type\":\"GlyphRenderer\"},{\"attributes\":{\"callback\":null,\"column_names\":[\"x\",\"y\",\"text\"],\"data\":{\"text\":[\"0 - 4\",\"5 - 9\",\"10 - 14\",\"15 - 19\",\"20 - 24\",\"25 - 29\",\"30 - 34\",\"35 - 39\",\"40 - 44\",\"45 - 49\",\"50 - 54\",\"55 - 59\",\"60 - 64\",\"65 - 69\",\"70 - 74\",\"75 - 79\",\"80 - 84\",\"85 - 89\",\"90+\"],\"x\":[0,0,0,0,0,0,0,0,0,0,0,0,0,0,0,0,0,0,0],\"y\":[1,2,3,4,5,6,7,8,9,10,11,12,13,14,15,16,17,18,19]}},\"id\":\"f4e745fe-6330-451f-8ec8-049a472330b4\",\"type\":\"ColumnDataSource\"},{\"attributes\":{},\"id\":\"b0c25302-6c9f-4fdf-a5f1-bfe828e4ca6a\",\"type\":\"WheelZoomTool\"},{\"attributes\":{\"overlay\":{\"id\":\"41d9cc1d-c581-458c-9c87-e483c61a0550\",\"type\":\"BoxAnnotation\"}},\"id\":\"b09f9257-de09-4fad-8a67-d2020b69d2ea\",\"type\":\"BoxZoomTool\"},{\"attributes\":{\"text_align\":\"center\",\"text_color\":{\"value\":\"black\"},\"text_font_size\":{\"value\":\"11px\"},\"x\":{\"field\":\"x\"},\"y\":{\"field\":\"y\"},\"y_offset\":{\"value\":8}},\"id\":\"b4d2050f-a1ce-451a-a06a-222496f98c64\",\"type\":\"Text\"},{\"attributes\":{\"data_source\":{\"id\":\"f4e745fe-6330-451f-8ec8-049a472330b4\",\"type\":\"ColumnDataSource\"},\"glyph\":{\"id\":\"b4d2050f-a1ce-451a-a06a-222496f98c64\",\"type\":\"Text\"},\"hover_glyph\":null,\"muted_glyph\":null,\"nonselection_glyph\":{\"id\":\"3e157296-fb85-4627-9822-e374d50cf750\",\"type\":\"Text\"},\"selection_glyph\":null,\"view\":{\"id\":\"bb581cb0-f47c-4694-aa28-e8c0455756bf\",\"type\":\"CDSView\"}},\"id\":\"8c502b17-015a-47dd-9165-970efb20423e\",\"type\":\"GlyphRenderer\"},{\"attributes\":{},\"id\":\"b04245c2-3feb-4dc1-9d5c-e263c45b5cbe\",\"type\":\"SaveTool\"},{\"attributes\":{},\"id\":\"11061a48-c0f5-4021-a7c1-63a3209d2631\",\"type\":\"ResetTool\"},{\"attributes\":{},\"id\":\"0c4427ff-1f90-4e92-9893-c794cb786699\",\"type\":\"HelpTool\"},{\"attributes\":{\"fill_color\":{\"value\":\"#8dd3c7\"},\"height\":{\"value\":0.5},\"left\":{\"value\":22.0},\"line_width\":{\"value\":0.5},\"right\":{\"field\":\"right\"},\"y\":{\"field\":\"y\"}},\"id\":\"a4e51fdc-153e-44cb-83e6-d1fb5d1dccf0\",\"type\":\"HBar\"},{\"attributes\":{\"data_source\":{\"id\":\"ef5a54ef-da34-4470-b03a-092ed847d3b6\",\"type\":\"ColumnDataSource\"},\"glyph\":{\"id\":\"a4e51fdc-153e-44cb-83e6-d1fb5d1dccf0\",\"type\":\"HBar\"},\"hover_glyph\":null,\"muted_glyph\":null,\"nonselection_glyph\":{\"id\":\"9ec93300-bef5-490e-b1bb-7dc0968dab4b\",\"type\":\"HBar\"},\"selection_glyph\":null,\"view\":{\"id\":\"6414b6e0-e962-4089-aa96-ab0d8d959a75\",\"type\":\"CDSView\"}},\"id\":\"cefb3ce0-4879-4926-96a7-278ea27f04a4\",\"type\":\"GlyphRenderer\"},{\"attributes\":{\"code\":\"\\n    return Math.abs(tick)\"},\"id\":\"7ca4ebe2-97e0-4dea-99c8-5fb2dd168d54\",\"type\":\"FuncTickFormatter\"},{\"attributes\":{\"source\":{\"id\":\"3baee50a-ef3f-4d5a-9e4c-d84e6b61bdc4\",\"type\":\"ColumnDataSource\"}},\"id\":\"ffb0acff-12b8-4eaf-aeec-502a0ce3a0a2\",\"type\":\"CDSView\"},{\"attributes\":{\"source\":{\"id\":\"ef5a54ef-da34-4470-b03a-092ed847d3b6\",\"type\":\"ColumnDataSource\"}},\"id\":\"6414b6e0-e962-4089-aa96-ab0d8d959a75\",\"type\":\"CDSView\"},{\"attributes\":{},\"id\":\"24030a1e-81c5-485a-92b4-db947db877bb\",\"type\":\"BasicTickFormatter\"},{\"attributes\":{\"align\":\"center\",\"plot\":null,\"text\":\"2009\"},\"id\":\"96675f41-4603-410f-8437-6c9ead2de85f\",\"type\":\"Title\"},{\"attributes\":{\"fill_alpha\":{\"value\":0.1},\"fill_color\":{\"value\":\"#1f77b4\"},\"height\":{\"value\":0.5},\"left\":{\"value\":22.0},\"line_alpha\":{\"value\":0.1},\"line_color\":{\"value\":\"#1f77b4\"},\"line_width\":{\"value\":0.5},\"right\":{\"field\":\"right\"},\"y\":{\"field\":\"y\"}},\"id\":\"9ec93300-bef5-490e-b1bb-7dc0968dab4b\",\"type\":\"HBar\"}],\"root_ids\":[\"a1ce8f7a-2a3f-497f-9178-e60d644e585e\"]},\"title\":\"Bokeh Application\",\"version\":\"0.12.13\"}};\n",
       "  var render_items = [{\"docid\":\"4bebffd3-5157-4db3-9379-b2179559d451\",\"elementid\":\"58a41288-823f-4671-a003-f077865c94fb\",\"modelid\":\"a1ce8f7a-2a3f-497f-9178-e60d644e585e\"}];\n",
       "  root.Bokeh.embed.embed_items_notebook(docs_json, render_items);\n",
       "\n",
       "  }\n",
       "  if (root.Bokeh !== undefined) {\n",
       "    embed_document(root);\n",
       "  } else {\n",
       "    var attempts = 0;\n",
       "    var timer = setInterval(function(root) {\n",
       "      if (root.Bokeh !== undefined) {\n",
       "        embed_document(root);\n",
       "        clearInterval(timer);\n",
       "      }\n",
       "      attempts++;\n",
       "      if (attempts > 100) {\n",
       "        console.log(\"Bokeh: ERROR: Unable to run BokehJS code because BokehJS library is missing\")\n",
       "        clearInterval(timer);\n",
       "      }\n",
       "    }, 10, root)\n",
       "  }\n",
       "})(window);"
      ],
      "application/vnd.bokehjs_exec.v0+json": ""
     },
     "metadata": {
      "application/vnd.bokehjs_exec.v0+json": {
       "id": "a1ce8f7a-2a3f-497f-9178-e60d644e585e"
      }
     },
     "output_type": "display_data"
    }
   ],
   "source": [
    "show(pop_pyramid(df, 'Year', 2009, title=True, xaxis=True, x_lim=260, export=True))"
   ]
  },
  {
   "cell_type": "markdown",
   "metadata": {},
   "source": [
    "#### Create pop_pyramids of Scotland in 2001-2009-2016"
   ]
  },
  {
   "cell_type": "code",
   "execution_count": 4,
   "metadata": {},
   "outputs": [],
   "source": [
    "scot = pd.read_csv('data/scot_2001-9-16_clean.csv')"
   ]
  },
  {
   "cell_type": "code",
   "execution_count": 5,
   "metadata": {},
   "outputs": [
    {
     "name": "stderr",
     "output_type": "stream",
     "text": [
      "C:\\Users\\germap01\\AppData\\Local\\Continuum\\anaconda3\\lib\\site-packages\\selenium\\webdriver\\phantomjs\\webdriver.py:49: UserWarning: Selenium support for PhantomJS has been deprecated, please use headless versions of Chrome or Firefox instead\n",
      "  warnings.warn('Selenium support for PhantomJS has been deprecated, please use headless '\n"
     ]
    },
    {
     "data": {
      "text/html": [
       "\n",
       "<div class=\"bk-root\">\n",
       "    <div class=\"bk-plotdiv\" id=\"8a086bc7-579c-45a3-b82a-a31d8e7a66b9\"></div>\n",
       "</div>"
      ]
     },
     "metadata": {},
     "output_type": "display_data"
    },
    {
     "data": {
      "application/javascript": [
       "(function(root) {\n",
       "  function embed_document(root) {\n",
       "    \n",
       "  var docs_json = {\"6df0cf9b-f7ca-49c6-a4af-7dd99606b3f2\":{\"roots\":{\"references\":[{\"attributes\":{\"bottom_units\":\"screen\",\"fill_alpha\":{\"value\":0.5},\"fill_color\":{\"value\":\"lightgrey\"},\"left_units\":\"screen\",\"level\":\"overlay\",\"line_alpha\":{\"value\":1.0},\"line_color\":{\"value\":\"black\"},\"line_dash\":[4,4],\"line_width\":{\"value\":2},\"plot\":null,\"render_mode\":\"css\",\"right_units\":\"screen\",\"top_units\":\"screen\"},\"id\":\"b071ae2a-cd58-4179-b4d2-cb7100176def\",\"type\":\"BoxAnnotation\"},{\"attributes\":{},\"id\":\"e1abe1c6-7088-4d58-97e2-0bd6485b7880\",\"type\":\"ResetTool\"},{\"attributes\":{},\"id\":\"f5744ce8-8023-460e-85b8-bdbf41afcf3f\",\"type\":\"HelpTool\"},{\"attributes\":{\"callback\":null,\"end\":20},\"id\":\"236e6709-2771-4f75-baca-a0b90759602b\",\"type\":\"Range1d\"},{\"attributes\":{\"text_align\":\"center\",\"text_color\":{\"value\":\"black\"},\"text_font_size\":{\"value\":\"11px\"},\"x\":{\"field\":\"x\"},\"y\":{\"field\":\"y\"},\"y_offset\":{\"value\":8}},\"id\":\"e60f725e-f0df-4371-becc-7208d553aeed\",\"type\":\"Text\"},{\"attributes\":{\"source\":{\"id\":\"482e2198-5e9c-49a5-a22c-7faaa5ae9b1d\",\"type\":\"ColumnDataSource\"}},\"id\":\"cc8c3243-144f-4baa-b424-4699b8fe261d\",\"type\":\"CDSView\"},{\"attributes\":{},\"id\":\"f6aca1c9-fbbe-4ac3-980f-8ace5a6d3885\",\"type\":\"LinearScale\"},{\"attributes\":{\"fill_alpha\":{\"value\":0.1},\"fill_color\":{\"value\":\"#1f77b4\"},\"height\":{\"value\":0.5},\"left\":{\"value\":20926.2},\"line_alpha\":{\"value\":0.1},\"line_color\":{\"value\":\"#1f77b4\"},\"line_dash\":null,\"line_width\":null,\"right\":{\"field\":\"right\"},\"y\":{\"field\":\"y\"}},\"id\":\"7728eb22-d7d3-4d1d-af30-4d8de0133137\",\"type\":\"HBar\"},{\"attributes\":{\"data_source\":{\"id\":\"482e2198-5e9c-49a5-a22c-7faaa5ae9b1d\",\"type\":\"ColumnDataSource\"},\"glyph\":{\"id\":\"5679c9c3-2ad3-4a0b-b349-0d4d920a9595\",\"type\":\"HBar\"},\"hover_glyph\":null,\"muted_glyph\":null,\"nonselection_glyph\":{\"id\":\"679ca9bd-3d0a-43c5-a114-d77ec3321b21\",\"type\":\"HBar\"},\"selection_glyph\":null,\"view\":{\"id\":\"cc8c3243-144f-4baa-b424-4699b8fe261d\",\"type\":\"CDSView\"}},\"id\":\"758da6e0-e4ba-40ff-b003-9c5f64a53c7e\",\"type\":\"GlyphRenderer\"},{\"attributes\":{\"plot\":null,\"text\":\"\"},\"id\":\"6b21bf75-8298-44cf-89eb-ae435e8f4248\",\"type\":\"Title\"},{\"attributes\":{},\"id\":\"3fced200-d74b-45bb-8d2f-ab51da2c297c\",\"type\":\"BasicTickFormatter\"},{\"attributes\":{},\"id\":\"f3cdbcfb-eb3f-4519-b969-590cc7047b16\",\"type\":\"LinearScale\"},{\"attributes\":{\"below\":[{\"id\":\"7e460651-f1a6-4c5b-a8ff-5cf2cd102577\",\"type\":\"LinearAxis\"}],\"left\":[{\"id\":\"3ecb57a2-dc15-45f4-88a6-128f0d5be821\",\"type\":\"LinearAxis\"}],\"outline_line_color\":{\"value\":\"darkgrey\"},\"plot_height\":400,\"renderers\":[{\"id\":\"7e460651-f1a6-4c5b-a8ff-5cf2cd102577\",\"type\":\"LinearAxis\"},{\"id\":\"6833614b-bced-4136-ab23-9570f0582109\",\"type\":\"Grid\"},{\"id\":\"3ecb57a2-dc15-45f4-88a6-128f0d5be821\",\"type\":\"LinearAxis\"},{\"id\":\"3b3fad34-7cd4-446e-bcd0-6e3bab0c9fb4\",\"type\":\"Grid\"},{\"id\":\"b071ae2a-cd58-4179-b4d2-cb7100176def\",\"type\":\"BoxAnnotation\"},{\"id\":\"758da6e0-e4ba-40ff-b003-9c5f64a53c7e\",\"type\":\"GlyphRenderer\"},{\"id\":\"ce712dc6-b7d5-41d6-b56d-178db83b8e3d\",\"type\":\"GlyphRenderer\"},{\"id\":\"d3fc9a4b-ef94-48af-9e5c-8d4b15fc53d0\",\"type\":\"GlyphRenderer\"}],\"title\":{\"id\":\"6b21bf75-8298-44cf-89eb-ae435e8f4248\",\"type\":\"Title\"},\"toolbar\":{\"id\":\"8a8ccc37-0801-4d98-873f-3fe2d1e55d49\",\"type\":\"Toolbar\"},\"toolbar_location\":null,\"x_range\":{\"id\":\"3afbd4d3-3216-4521-95da-034b736d87b9\",\"type\":\"Range1d\"},\"x_scale\":{\"id\":\"f6aca1c9-fbbe-4ac3-980f-8ace5a6d3885\",\"type\":\"LinearScale\"},\"y_range\":{\"id\":\"236e6709-2771-4f75-baca-a0b90759602b\",\"type\":\"Range1d\"},\"y_scale\":{\"id\":\"f3cdbcfb-eb3f-4519-b969-590cc7047b16\",\"type\":\"LinearScale\"}},\"id\":\"f0c8b539-e20f-47fe-af8a-073c6deada9d\",\"subtype\":\"Figure\",\"type\":\"Plot\"},{\"attributes\":{\"callback\":null,\"column_names\":[\"y\",\"right\"],\"data\":{\"right\":[160637.2,167496.2,154923.2,166972.2,203205.2,208901.2,200534.2,187411.2,193635.2,223755.2,230188.2,211010.2,186072.2,184983.2,148076.2,125257.2,101143.2,70617.2,49976.2],\"y\":[1,2,3,4,5,6,7,8,9,10,11,12,13,14,15,16,17,18,19]}},\"id\":\"90aaf9f3-c3fe-4a26-a856-402b2c88d86c\",\"type\":\"ColumnDataSource\"},{\"attributes\":{\"fill_color\":{\"value\":\"#8dd3c7\"},\"height\":{\"value\":0.5},\"left\":{\"value\":20926.2},\"line_color\":{\"value\":null},\"line_dash\":null,\"line_width\":null,\"right\":{\"field\":\"right\"},\"y\":{\"field\":\"y\"}},\"id\":\"5d8fa013-f857-428e-8688-fa220c7ad9ce\",\"type\":\"HBar\"},{\"attributes\":{\"active_drag\":\"auto\",\"active_inspect\":\"auto\",\"active_scroll\":\"auto\",\"active_tap\":\"auto\",\"logo\":null,\"tools\":[{\"id\":\"68a890d4-ad68-4391-8c17-fbe0f5863171\",\"type\":\"PanTool\"},{\"id\":\"c0c6b506-ff99-4df5-8a68-0013ed111fa2\",\"type\":\"WheelZoomTool\"},{\"id\":\"4d1c3fe7-f5cc-4793-908f-2346cc3c40b3\",\"type\":\"BoxZoomTool\"},{\"id\":\"6e13722b-23f9-4b9d-8275-b2d8ef1815c3\",\"type\":\"SaveTool\"},{\"id\":\"e1abe1c6-7088-4d58-97e2-0bd6485b7880\",\"type\":\"ResetTool\"},{\"id\":\"f5744ce8-8023-460e-85b8-bdbf41afcf3f\",\"type\":\"HelpTool\"}]},\"id\":\"8a8ccc37-0801-4d98-873f-3fe2d1e55d49\",\"type\":\"Toolbar\"},{\"attributes\":{\"callback\":null,\"column_names\":[\"x\",\"y\",\"text\"],\"data\":{\"text\":[\"0 - 4\",\"5 - 9\",\"10 - 14\",\"15 - 19\",\"20 - 24\",\"25 - 29\",\"30 - 34\",\"35 - 39\",\"40 - 44\",\"45 - 49\",\"50 - 54\",\"55 - 59\",\"60 - 64\",\"65 - 69\",\"70 - 74\",\"75 - 79\",\"80 - 84\",\"85 - 89\",\"90+\"],\"x\":[0,0,0,0,0,0,0,0,0,0,0,0,0,0,0,0,0,0,0],\"y\":[1,2,3,4,5,6,7,8,9,10,11,12,13,14,15,16,17,18,19]}},\"id\":\"08ed4f85-b371-4870-af32-0afe688b5d77\",\"type\":\"ColumnDataSource\"},{\"attributes\":{\"data_source\":{\"id\":\"90aaf9f3-c3fe-4a26-a856-402b2c88d86c\",\"type\":\"ColumnDataSource\"},\"glyph\":{\"id\":\"5d8fa013-f857-428e-8688-fa220c7ad9ce\",\"type\":\"HBar\"},\"hover_glyph\":null,\"muted_glyph\":null,\"nonselection_glyph\":{\"id\":\"7728eb22-d7d3-4d1d-af30-4d8de0133137\",\"type\":\"HBar\"},\"selection_glyph\":null,\"view\":{\"id\":\"342023e4-b819-42d4-87a1-0d3c44815c4d\",\"type\":\"CDSView\"}},\"id\":\"ce712dc6-b7d5-41d6-b56d-178db83b8e3d\",\"type\":\"GlyphRenderer\"},{\"attributes\":{\"source\":{\"id\":\"90aaf9f3-c3fe-4a26-a856-402b2c88d86c\",\"type\":\"ColumnDataSource\"}},\"id\":\"342023e4-b819-42d4-87a1-0d3c44815c4d\",\"type\":\"CDSView\"},{\"attributes\":{\"text_align\":\"center\",\"text_alpha\":{\"value\":0.1},\"text_color\":{\"value\":\"black\"},\"text_font_size\":{\"value\":\"11px\"},\"x\":{\"field\":\"x\"},\"y\":{\"field\":\"y\"},\"y_offset\":{\"value\":8}},\"id\":\"cda5a99b-f9cd-40bb-b679-9aec70ef7a6f\",\"type\":\"Text\"},{\"attributes\":{\"callback\":null,\"end\":250000,\"start\":-250000},\"id\":\"3afbd4d3-3216-4521-95da-034b736d87b9\",\"type\":\"Range1d\"},{\"attributes\":{\"source\":{\"id\":\"08ed4f85-b371-4870-af32-0afe688b5d77\",\"type\":\"ColumnDataSource\"}},\"id\":\"11479223-3739-4d8b-a8bd-46b2a67b71fa\",\"type\":\"CDSView\"},{\"attributes\":{\"formatter\":{\"id\":\"ad7ed305-f222-4b54-9a7f-c9b3a768ed5b\",\"type\":\"FuncTickFormatter\"},\"plot\":{\"id\":\"f0c8b539-e20f-47fe-af8a-073c6deada9d\",\"subtype\":\"Figure\",\"type\":\"Plot\"},\"ticker\":{\"id\":\"7f04a491-e202-4a18-bcfd-4144f84d122f\",\"type\":\"BasicTicker\"}},\"id\":\"7e460651-f1a6-4c5b-a8ff-5cf2cd102577\",\"type\":\"LinearAxis\"},{\"attributes\":{\"data_source\":{\"id\":\"08ed4f85-b371-4870-af32-0afe688b5d77\",\"type\":\"ColumnDataSource\"},\"glyph\":{\"id\":\"e60f725e-f0df-4371-becc-7208d553aeed\",\"type\":\"Text\"},\"hover_glyph\":null,\"muted_glyph\":null,\"nonselection_glyph\":{\"id\":\"cda5a99b-f9cd-40bb-b679-9aec70ef7a6f\",\"type\":\"Text\"},\"selection_glyph\":null,\"view\":{\"id\":\"11479223-3739-4d8b-a8bd-46b2a67b71fa\",\"type\":\"CDSView\"}},\"id\":\"d3fc9a4b-ef94-48af-9e5c-8d4b15fc53d0\",\"type\":\"GlyphRenderer\"},{\"attributes\":{},\"id\":\"7f04a491-e202-4a18-bcfd-4144f84d122f\",\"type\":\"BasicTicker\"},{\"attributes\":{\"code\":\"\\n    return Math.abs(tick)\"},\"id\":\"ad7ed305-f222-4b54-9a7f-c9b3a768ed5b\",\"type\":\"FuncTickFormatter\"},{\"attributes\":{\"plot\":{\"id\":\"f0c8b539-e20f-47fe-af8a-073c6deada9d\",\"subtype\":\"Figure\",\"type\":\"Plot\"},\"ticker\":{\"id\":\"7f04a491-e202-4a18-bcfd-4144f84d122f\",\"type\":\"BasicTicker\"},\"visible\":false},\"id\":\"6833614b-bced-4136-ab23-9570f0582109\",\"type\":\"Grid\"},{\"attributes\":{\"formatter\":{\"id\":\"3fced200-d74b-45bb-8d2f-ab51da2c297c\",\"type\":\"BasicTickFormatter\"},\"plot\":{\"id\":\"f0c8b539-e20f-47fe-af8a-073c6deada9d\",\"subtype\":\"Figure\",\"type\":\"Plot\"},\"ticker\":{\"id\":\"ea9b4ce2-81b0-4bd5-b39f-0fdaae09446d\",\"type\":\"BasicTicker\"},\"visible\":false},\"id\":\"3ecb57a2-dc15-45f4-88a6-128f0d5be821\",\"type\":\"LinearAxis\"},{\"attributes\":{},\"id\":\"ea9b4ce2-81b0-4bd5-b39f-0fdaae09446d\",\"type\":\"BasicTicker\"},{\"attributes\":{\"dimension\":1,\"plot\":{\"id\":\"f0c8b539-e20f-47fe-af8a-073c6deada9d\",\"subtype\":\"Figure\",\"type\":\"Plot\"},\"ticker\":{\"id\":\"ea9b4ce2-81b0-4bd5-b39f-0fdaae09446d\",\"type\":\"BasicTicker\"},\"visible\":false},\"id\":\"3b3fad34-7cd4-446e-bcd0-6e3bab0c9fb4\",\"type\":\"Grid\"},{\"attributes\":{\"fill_alpha\":{\"value\":0.1},\"fill_color\":{\"value\":\"#1f77b4\"},\"height\":{\"value\":0.5},\"left\":{\"value\":-20926.2},\"line_alpha\":{\"value\":0.1},\"line_color\":{\"value\":\"#1f77b4\"},\"line_dash\":null,\"line_width\":null,\"right\":{\"field\":\"right\"},\"y\":{\"field\":\"y\"}},\"id\":\"679ca9bd-3d0a-43c5-a114-d77ec3321b21\",\"type\":\"HBar\"},{\"attributes\":{\"fill_color\":{\"value\":\"#bebada\"},\"height\":{\"value\":0.5},\"left\":{\"value\":-20926.2},\"line_color\":{\"value\":null},\"line_dash\":null,\"line_width\":null,\"right\":{\"field\":\"right\"},\"y\":{\"field\":\"y\"}},\"id\":\"5679c9c3-2ad3-4a0b-b349-0d4d920a9595\",\"type\":\"HBar\"},{\"attributes\":{\"callback\":null,\"column_names\":[\"y\",\"right\"],\"data\":{\"right\":[-168453.2,-173218.2,-161307.2,-173540.2,-202614.2,-207075.2,-193231.2,-182194.2,-185855.2,-210348.2,-218355.2,-201663.2,-177332.2,-174393.2,-132795.2,-103441.2,-77127.2,-49213.2,-32943.2],\"y\":[1,2,3,4,5,6,7,8,9,10,11,12,13,14,15,16,17,18,19]}},\"id\":\"482e2198-5e9c-49a5-a22c-7faaa5ae9b1d\",\"type\":\"ColumnDataSource\"},{\"attributes\":{},\"id\":\"68a890d4-ad68-4391-8c17-fbe0f5863171\",\"type\":\"PanTool\"},{\"attributes\":{},\"id\":\"6e13722b-23f9-4b9d-8275-b2d8ef1815c3\",\"type\":\"SaveTool\"},{\"attributes\":{},\"id\":\"c0c6b506-ff99-4df5-8a68-0013ed111fa2\",\"type\":\"WheelZoomTool\"},{\"attributes\":{\"overlay\":{\"id\":\"b071ae2a-cd58-4179-b4d2-cb7100176def\",\"type\":\"BoxAnnotation\"}},\"id\":\"4d1c3fe7-f5cc-4793-908f-2346cc3c40b3\",\"type\":\"BoxZoomTool\"}],\"root_ids\":[\"f0c8b539-e20f-47fe-af8a-073c6deada9d\"]},\"title\":\"Bokeh Application\",\"version\":\"0.12.13\"}};\n",
       "  var render_items = [{\"docid\":\"6df0cf9b-f7ca-49c6-a4af-7dd99606b3f2\",\"elementid\":\"8a086bc7-579c-45a3-b82a-a31d8e7a66b9\",\"modelid\":\"f0c8b539-e20f-47fe-af8a-073c6deada9d\"}];\n",
       "  root.Bokeh.embed.embed_items_notebook(docs_json, render_items);\n",
       "\n",
       "  }\n",
       "  if (root.Bokeh !== undefined) {\n",
       "    embed_document(root);\n",
       "  } else {\n",
       "    var attempts = 0;\n",
       "    var timer = setInterval(function(root) {\n",
       "      if (root.Bokeh !== undefined) {\n",
       "        embed_document(root);\n",
       "        clearInterval(timer);\n",
       "      }\n",
       "      attempts++;\n",
       "      if (attempts > 100) {\n",
       "        console.log(\"Bokeh: ERROR: Unable to run BokehJS code because BokehJS library is missing\")\n",
       "        clearInterval(timer);\n",
       "      }\n",
       "    }, 10, root)\n",
       "  }\n",
       "})(window);"
      ],
      "application/vnd.bokehjs_exec.v0+json": ""
     },
     "metadata": {
      "application/vnd.bokehjs_exec.v0+json": {
       "id": "f0c8b539-e20f-47fe-af8a-073c6deada9d"
      }
     },
     "output_type": "display_data"
    }
   ],
   "source": [
    "show(pop_pyramid(scot, 'Year', 2016, title=False,\n",
    "                 xaxis=True, export=True, x_lim=250000, stroke=False))"
   ]
  },
  {
   "cell_type": "code",
   "execution_count": 69,
   "metadata": {},
   "outputs": [
    {
     "data": {
      "text/html": [
       "\n",
       "<div class=\"bk-root\">\n",
       "    <div class=\"bk-plotdiv\" id=\"bc5da7c9-90ac-45a4-9037-3edfa43491c6\"></div>\n",
       "</div>"
      ]
     },
     "metadata": {},
     "output_type": "display_data"
    },
    {
     "data": {
      "application/javascript": [
       "(function(root) {\n",
       "  function embed_document(root) {\n",
       "    \n",
       "  var docs_json = {\"a52a66fb-48b4-4c4c-9023-07f68c16f7ae\":{\"roots\":{\"references\":[{\"attributes\":{\"callback\":null,\"end\":250000,\"start\":-250000},\"id\":\"a2c0a3ff-c264-4f66-b48e-6cce98cd84f5\",\"type\":\"Range1d\"},{\"attributes\":{\"active_drag\":\"auto\",\"active_inspect\":\"auto\",\"active_scroll\":\"auto\",\"active_tap\":\"auto\",\"logo\":null,\"tools\":[{\"id\":\"5cc947f4-b146-4024-8c19-982945b97385\",\"type\":\"PanTool\"},{\"id\":\"ba1a06d2-b2de-406a-b4fb-a1a972cb6447\",\"type\":\"WheelZoomTool\"},{\"id\":\"42876cc3-8e89-4e49-ae60-b1496db42cce\",\"type\":\"BoxZoomTool\"},{\"id\":\"2471bd4b-072b-4ceb-b4f8-0d45003075d0\",\"type\":\"SaveTool\"},{\"id\":\"b596ae66-1094-44f9-9b8f-d3c018ff6289\",\"type\":\"ResetTool\"},{\"id\":\"394178c0-7edf-40e3-ad77-53683dc7c5ed\",\"type\":\"HelpTool\"}]},\"id\":\"82f5361a-273a-4b6e-9182-74a0f1a362b7\",\"type\":\"Toolbar\"},{\"attributes\":{\"fill_color\":{\"value\":\"#bebada\"},\"height\":{\"value\":0.5},\"left\":{\"value\":-20769.0},\"line_width\":{\"value\":0.5},\"right\":{\"field\":\"right\"},\"y\":{\"field\":\"y\"}},\"id\":\"866791a7-ea28-431a-8daa-3868cc7c5258\",\"type\":\"HBar\"},{\"attributes\":{},\"id\":\"632e2769-1305-4578-9614-21f11260381f\",\"type\":\"BasicTicker\"},{\"attributes\":{\"formatter\":{\"id\":\"cd1703da-5917-4dde-8910-d375b5bfcb49\",\"type\":\"BasicTickFormatter\"},\"plot\":{\"id\":\"d7396717-093d-416c-91e8-fbaa8bd4e0cd\",\"subtype\":\"Figure\",\"type\":\"Plot\"},\"ticker\":{\"id\":\"632e2769-1305-4578-9614-21f11260381f\",\"type\":\"BasicTicker\"},\"visible\":false},\"id\":\"e33156aa-b60c-4ca2-93b1-a008ad57947e\",\"type\":\"LinearAxis\"},{\"attributes\":{},\"id\":\"de12d80f-5a78-4d83-9aa3-1209414c9765\",\"type\":\"BasicTicker\"},{\"attributes\":{\"formatter\":{\"id\":\"1f97be28-186a-4d82-8601-28951388da7b\",\"type\":\"FuncTickFormatter\"},\"plot\":{\"id\":\"d7396717-093d-416c-91e8-fbaa8bd4e0cd\",\"subtype\":\"Figure\",\"type\":\"Plot\"},\"ticker\":{\"id\":\"de12d80f-5a78-4d83-9aa3-1209414c9765\",\"type\":\"BasicTicker\"}},\"id\":\"09451581-540c-4de0-b0ce-fc30b53d6319\",\"type\":\"LinearAxis\"},{\"attributes\":{},\"id\":\"1c913884-44a6-45c7-b60c-7c6e0660c585\",\"type\":\"LinearScale\"},{\"attributes\":{\"plot\":{\"id\":\"d7396717-093d-416c-91e8-fbaa8bd4e0cd\",\"subtype\":\"Figure\",\"type\":\"Plot\"},\"ticker\":{\"id\":\"de12d80f-5a78-4d83-9aa3-1209414c9765\",\"type\":\"BasicTicker\"},\"visible\":false},\"id\":\"d117c0e3-fdfb-4cca-9bc3-ef99fae6018d\",\"type\":\"Grid\"},{\"attributes\":{},\"id\":\"ba1a06d2-b2de-406a-b4fb-a1a972cb6447\",\"type\":\"WheelZoomTool\"},{\"attributes\":{\"callback\":null,\"end\":20},\"id\":\"1a46829a-2c27-47ce-97e4-85d8e55b9b6c\",\"type\":\"Range1d\"},{\"attributes\":{\"fill_alpha\":{\"value\":0.1},\"fill_color\":{\"value\":\"#1f77b4\"},\"height\":{\"value\":0.5},\"left\":{\"value\":-20769.0},\"line_alpha\":{\"value\":0.1},\"line_color\":{\"value\":\"#1f77b4\"},\"line_width\":{\"value\":0.5},\"right\":{\"field\":\"right\"},\"y\":{\"field\":\"y\"}},\"id\":\"4440959d-ef68-4ba5-89fa-24dbf7c0614f\",\"type\":\"HBar\"},{\"attributes\":{\"dimension\":1,\"plot\":{\"id\":\"d7396717-093d-416c-91e8-fbaa8bd4e0cd\",\"subtype\":\"Figure\",\"type\":\"Plot\"},\"ticker\":{\"id\":\"632e2769-1305-4578-9614-21f11260381f\",\"type\":\"BasicTicker\"},\"visible\":false},\"id\":\"ebadd163-d801-4f33-85c4-fb773aef31e9\",\"type\":\"Grid\"},{\"attributes\":{\"callback\":null,\"column_names\":[\"y\",\"right\"],\"data\":{\"right\":[-168026.0,-158677.0,-174932.0,-188952.0,-194111.0,-188399.0,-173042.0,-194044.0,-217058.0,-216584.0,-197552.0,-180981.0,-178728.0,-140716.0,-120570.0,-95009.0,-67211.0,-44296.0,-27693.0],\"y\":[1,2,3,4,5,6,7,8,9,10,11,12,13,14,15,16,17,18,19]}},\"id\":\"a47594ba-dca6-44cf-8709-9e99e0b85d8d\",\"type\":\"ColumnDataSource\"},{\"attributes\":{\"data_source\":{\"id\":\"a47594ba-dca6-44cf-8709-9e99e0b85d8d\",\"type\":\"ColumnDataSource\"},\"glyph\":{\"id\":\"866791a7-ea28-431a-8daa-3868cc7c5258\",\"type\":\"HBar\"},\"hover_glyph\":null,\"muted_glyph\":null,\"nonselection_glyph\":{\"id\":\"4440959d-ef68-4ba5-89fa-24dbf7c0614f\",\"type\":\"HBar\"},\"selection_glyph\":null,\"view\":{\"id\":\"ff1e2e15-ffa0-441c-baa7-ca3b55ec8aa9\",\"type\":\"CDSView\"}},\"id\":\"d30e9ce6-f8f8-4d3a-abe1-148803e58672\",\"type\":\"GlyphRenderer\"},{\"attributes\":{\"below\":[{\"id\":\"09451581-540c-4de0-b0ce-fc30b53d6319\",\"type\":\"LinearAxis\"}],\"left\":[{\"id\":\"e33156aa-b60c-4ca2-93b1-a008ad57947e\",\"type\":\"LinearAxis\"}],\"outline_line_color\":{\"value\":\"darkgrey\"},\"plot_height\":400,\"renderers\":[{\"id\":\"09451581-540c-4de0-b0ce-fc30b53d6319\",\"type\":\"LinearAxis\"},{\"id\":\"d117c0e3-fdfb-4cca-9bc3-ef99fae6018d\",\"type\":\"Grid\"},{\"id\":\"e33156aa-b60c-4ca2-93b1-a008ad57947e\",\"type\":\"LinearAxis\"},{\"id\":\"ebadd163-d801-4f33-85c4-fb773aef31e9\",\"type\":\"Grid\"},{\"id\":\"e27cdfd3-e9ab-4f82-9279-b8e04768577a\",\"type\":\"BoxAnnotation\"},{\"id\":\"d30e9ce6-f8f8-4d3a-abe1-148803e58672\",\"type\":\"GlyphRenderer\"},{\"id\":\"a4a35428-0b69-4d9b-9396-c39a56647c94\",\"type\":\"GlyphRenderer\"},{\"id\":\"77e7678b-13a2-436b-9a6f-82c268d4f402\",\"type\":\"GlyphRenderer\"}],\"title\":{\"id\":\"ea3bdfdb-93a9-4601-be68-689b8ddae1be\",\"type\":\"Title\"},\"toolbar\":{\"id\":\"82f5361a-273a-4b6e-9182-74a0f1a362b7\",\"type\":\"Toolbar\"},\"toolbar_location\":null,\"x_range\":{\"id\":\"a2c0a3ff-c264-4f66-b48e-6cce98cd84f5\",\"type\":\"Range1d\"},\"x_scale\":{\"id\":\"0640feb8-f1cd-4b29-9316-164363bb02ea\",\"type\":\"LinearScale\"},\"y_range\":{\"id\":\"1a46829a-2c27-47ce-97e4-85d8e55b9b6c\",\"type\":\"Range1d\"},\"y_scale\":{\"id\":\"1c913884-44a6-45c7-b60c-7c6e0660c585\",\"type\":\"LinearScale\"}},\"id\":\"d7396717-093d-416c-91e8-fbaa8bd4e0cd\",\"subtype\":\"Figure\",\"type\":\"Plot\"},{\"attributes\":{},\"id\":\"5cc947f4-b146-4024-8c19-982945b97385\",\"type\":\"PanTool\"},{\"attributes\":{\"bottom_units\":\"screen\",\"fill_alpha\":{\"value\":0.5},\"fill_color\":{\"value\":\"lightgrey\"},\"left_units\":\"screen\",\"level\":\"overlay\",\"line_alpha\":{\"value\":1.0},\"line_color\":{\"value\":\"black\"},\"line_dash\":[4,4],\"line_width\":{\"value\":2},\"plot\":null,\"render_mode\":\"css\",\"right_units\":\"screen\",\"top_units\":\"screen\"},\"id\":\"e27cdfd3-e9ab-4f82-9279-b8e04768577a\",\"type\":\"BoxAnnotation\"},{\"attributes\":{\"fill_alpha\":{\"value\":0.1},\"fill_color\":{\"value\":\"#1f77b4\"},\"height\":{\"value\":0.5},\"left\":{\"value\":20769.0},\"line_alpha\":{\"value\":0.1},\"line_color\":{\"value\":\"#1f77b4\"},\"line_width\":{\"value\":0.5},\"right\":{\"field\":\"right\"},\"y\":{\"field\":\"y\"}},\"id\":\"cb881b5d-7688-4b30-8d72-0e6c66543cbd\",\"type\":\"HBar\"},{\"attributes\":{\"text_align\":\"center\",\"text_color\":{\"value\":\"black\"},\"text_font_size\":{\"value\":\"11px\"},\"x\":{\"field\":\"x\"},\"y\":{\"field\":\"y\"},\"y_offset\":{\"value\":8}},\"id\":\"3c829825-6247-4c63-a147-66671bd82034\",\"type\":\"Text\"},{\"attributes\":{},\"id\":\"394178c0-7edf-40e3-ad77-53683dc7c5ed\",\"type\":\"HelpTool\"},{\"attributes\":{},\"id\":\"b596ae66-1094-44f9-9b8f-d3c018ff6289\",\"type\":\"ResetTool\"},{\"attributes\":{\"align\":\"center\",\"plot\":null,\"text\":\"2009\"},\"id\":\"ea3bdfdb-93a9-4601-be68-689b8ddae1be\",\"type\":\"Title\"},{\"attributes\":{},\"id\":\"2471bd4b-072b-4ceb-b4f8-0d45003075d0\",\"type\":\"SaveTool\"},{\"attributes\":{},\"id\":\"cd1703da-5917-4dde-8910-d375b5bfcb49\",\"type\":\"BasicTickFormatter\"},{\"attributes\":{\"code\":\"\\n    return Math.abs(tick)\"},\"id\":\"1f97be28-186a-4d82-8601-28951388da7b\",\"type\":\"FuncTickFormatter\"},{\"attributes\":{\"data_source\":{\"id\":\"8b0e2516-fdd6-49f6-9bdd-fca3755ff050\",\"type\":\"ColumnDataSource\"},\"glyph\":{\"id\":\"3c829825-6247-4c63-a147-66671bd82034\",\"type\":\"Text\"},\"hover_glyph\":null,\"muted_glyph\":null,\"nonselection_glyph\":{\"id\":\"5ac1dd25-508f-4e2d-a159-f0674bf01a69\",\"type\":\"Text\"},\"selection_glyph\":null,\"view\":{\"id\":\"c6f633dc-2ac1-4937-9860-31b5681a17df\",\"type\":\"CDSView\"}},\"id\":\"77e7678b-13a2-436b-9a6f-82c268d4f402\",\"type\":\"GlyphRenderer\"},{\"attributes\":{\"source\":{\"id\":\"8b0e2516-fdd6-49f6-9bdd-fca3755ff050\",\"type\":\"ColumnDataSource\"}},\"id\":\"c6f633dc-2ac1-4937-9860-31b5681a17df\",\"type\":\"CDSView\"},{\"attributes\":{\"fill_color\":{\"value\":\"#8dd3c7\"},\"height\":{\"value\":0.5},\"left\":{\"value\":20769.0},\"line_width\":{\"value\":0.5},\"right\":{\"field\":\"right\"},\"y\":{\"field\":\"y\"}},\"id\":\"3a497baa-9fd3-4ec3-89c6-848650321ee4\",\"type\":\"HBar\"},{\"attributes\":{\"source\":{\"id\":\"a47594ba-dca6-44cf-8709-9e99e0b85d8d\",\"type\":\"ColumnDataSource\"}},\"id\":\"ff1e2e15-ffa0-441c-baa7-ca3b55ec8aa9\",\"type\":\"CDSView\"},{\"attributes\":{\"data_source\":{\"id\":\"271f41b1-6b5b-4a18-bd59-80f8c90a5f18\",\"type\":\"ColumnDataSource\"},\"glyph\":{\"id\":\"3a497baa-9fd3-4ec3-89c6-848650321ee4\",\"type\":\"HBar\"},\"hover_glyph\":null,\"muted_glyph\":null,\"nonselection_glyph\":{\"id\":\"cb881b5d-7688-4b30-8d72-0e6c66543cbd\",\"type\":\"HBar\"},\"selection_glyph\":null,\"view\":{\"id\":\"6c5f03e1-c28d-456d-85fa-c0c8c63ff9ca\",\"type\":\"CDSView\"}},\"id\":\"a4a35428-0b69-4d9b-9396-c39a56647c94\",\"type\":\"GlyphRenderer\"},{\"attributes\":{\"overlay\":{\"id\":\"e27cdfd3-e9ab-4f82-9279-b8e04768577a\",\"type\":\"BoxAnnotation\"}},\"id\":\"42876cc3-8e89-4e49-ae60-b1496db42cce\",\"type\":\"BoxZoomTool\"},{\"attributes\":{\"callback\":null,\"column_names\":[\"y\",\"right\"],\"data\":{\"right\":[161032.0,152444.0,166752.0,184935.0,196182.0,193184.0,177950.0,204977.0,228459.0,226529.0,205093.0,186597.0,186117.0,154826.0,140628.0,121307.0,95162.0,69851.0,42516.0],\"y\":[1,2,3,4,5,6,7,8,9,10,11,12,13,14,15,16,17,18,19]}},\"id\":\"271f41b1-6b5b-4a18-bd59-80f8c90a5f18\",\"type\":\"ColumnDataSource\"},{\"attributes\":{},\"id\":\"0640feb8-f1cd-4b29-9316-164363bb02ea\",\"type\":\"LinearScale\"},{\"attributes\":{\"text_align\":\"center\",\"text_alpha\":{\"value\":0.1},\"text_color\":{\"value\":\"black\"},\"text_font_size\":{\"value\":\"11px\"},\"x\":{\"field\":\"x\"},\"y\":{\"field\":\"y\"},\"y_offset\":{\"value\":8}},\"id\":\"5ac1dd25-508f-4e2d-a159-f0674bf01a69\",\"type\":\"Text\"},{\"attributes\":{\"source\":{\"id\":\"271f41b1-6b5b-4a18-bd59-80f8c90a5f18\",\"type\":\"ColumnDataSource\"}},\"id\":\"6c5f03e1-c28d-456d-85fa-c0c8c63ff9ca\",\"type\":\"CDSView\"},{\"attributes\":{\"callback\":null,\"column_names\":[\"x\",\"y\",\"text\"],\"data\":{\"text\":[\"0 - 4\",\"5 - 9\",\"10 - 14\",\"15 - 19\",\"20 - 24\",\"25 - 29\",\"30 - 34\",\"35 - 39\",\"40 - 44\",\"45 - 49\",\"50 - 54\",\"55 - 59\",\"60 - 64\",\"65 - 69\",\"70 - 74\",\"75 - 79\",\"80 - 84\",\"85 - 89\",\"90+\"],\"x\":[0,0,0,0,0,0,0,0,0,0,0,0,0,0,0,0,0,0,0],\"y\":[1,2,3,4,5,6,7,8,9,10,11,12,13,14,15,16,17,18,19]}},\"id\":\"8b0e2516-fdd6-49f6-9bdd-fca3755ff050\",\"type\":\"ColumnDataSource\"}],\"root_ids\":[\"d7396717-093d-416c-91e8-fbaa8bd4e0cd\"]},\"title\":\"Bokeh Application\",\"version\":\"0.12.13\"}};\n",
       "  var render_items = [{\"docid\":\"a52a66fb-48b4-4c4c-9023-07f68c16f7ae\",\"elementid\":\"bc5da7c9-90ac-45a4-9037-3edfa43491c6\",\"modelid\":\"d7396717-093d-416c-91e8-fbaa8bd4e0cd\"}];\n",
       "  root.Bokeh.embed.embed_items_notebook(docs_json, render_items);\n",
       "\n",
       "  }\n",
       "  if (root.Bokeh !== undefined) {\n",
       "    embed_document(root);\n",
       "  } else {\n",
       "    var attempts = 0;\n",
       "    var timer = setInterval(function(root) {\n",
       "      if (root.Bokeh !== undefined) {\n",
       "        embed_document(root);\n",
       "        clearInterval(timer);\n",
       "      }\n",
       "      attempts++;\n",
       "      if (attempts > 100) {\n",
       "        console.log(\"Bokeh: ERROR: Unable to run BokehJS code because BokehJS library is missing\")\n",
       "        clearInterval(timer);\n",
       "      }\n",
       "    }, 10, root)\n",
       "  }\n",
       "})(window);"
      ],
      "application/vnd.bokehjs_exec.v0+json": ""
     },
     "metadata": {
      "application/vnd.bokehjs_exec.v0+json": {
       "id": "d7396717-093d-416c-91e8-fbaa8bd4e0cd"
      }
     },
     "output_type": "display_data"
    }
   ],
   "source": [
    "show(pop_pyramid(scot, 'Year', 2009, title=True, xaxis=True, export=False, x_lim=250000))"
   ]
  },
  {
   "cell_type": "code",
   "execution_count": null,
   "metadata": {},
   "outputs": [],
   "source": []
  },
  {
   "cell_type": "code",
   "execution_count": null,
   "metadata": {},
   "outputs": [],
   "source": []
  },
  {
   "cell_type": "markdown",
   "metadata": {},
   "source": [
    "#### Compare images of population pyramids to find similar shapes"
   ]
  },
  {
   "cell_type": "code",
   "execution_count": null,
   "metadata": {},
   "outputs": [],
   "source": [
    "%matplotlib inline"
   ]
  },
  {
   "cell_type": "code",
   "execution_count": null,
   "metadata": {},
   "outputs": [],
   "source": [
    "from imageio import imread\n",
    "from scipy.linalg import norm\n",
    "from scipy import sum, average\n",
    "from pathlib import Path\n",
    "import os"
   ]
  },
  {
   "cell_type": "code",
   "execution_count": null,
   "metadata": {},
   "outputs": [],
   "source": [
    "#code adapted from:\n",
    "#https://stackoverflow.com/questions/189943/\n",
    "#how-can-i-quantify-difference-between-two-images#3935002\n",
    "def to_grayscale(arr):\n",
    "    \"If arr is a color image (3D array), convert it to grayscale (2D array).\"\n",
    "    if len(arr.shape) == 3:\n",
    "        return average(arr, -1)\n",
    "    else:\n",
    "        return arr\n",
    "\n",
    "def compare_images(img1, img2):\n",
    "    # calculate the difference and its norms\n",
    "    diff = img1 - img2\n",
    "    m_norm = sum(abs(diff)) # Manhattan norm\n",
    "    z_norm = norm(diff.ravel(), 0) # Zero norm\n",
    "    return (m_norm, z_norm)\n",
    "\n",
    "def main(file1, file2):\n",
    "    # read images as 2D arrays (convert to grayscale for simplicity)\n",
    "    img1 = to_grayscale(imread(file1).astype(float))\n",
    "    img2 = to_grayscale(imread(file2).astype(float))\n",
    "    # compare\n",
    "    n_m, n_0 = compare_images(img1, img2)\n",
    "    return n_m    \n",
    "    #print (\"Manhattan norm:\", n_m, \"/ per pixel:\", n_m/img1.size)\n",
    "    #print (\"Zero norm:\", n_0, \"/ per pixel:\", n_0*1.0/img1.size)"
   ]
  },
  {
   "cell_type": "code",
   "execution_count": null,
   "metadata": {},
   "outputs": [],
   "source": [
    "ref_image = 'images/pp_Uist.png'\n",
    "comp_images = ['images/compare/' + x for x in os.listdir('images/compare')]"
   ]
  },
  {
   "cell_type": "code",
   "execution_count": null,
   "metadata": {},
   "outputs": [],
   "source": [
    "image_dict = {}\n",
    "#extract area name from filename and pair it with the output of the compare function\n",
    "for image in comp_images:\n",
    "    image_dict[image[18:-4]] = main(ref_image, image)\n",
    "\n",
    "sorted_dict = sorted(image_dict, key=lambda x : image_dict[x])"
   ]
  },
  {
   "cell_type": "code",
   "execution_count": null,
   "metadata": {},
   "outputs": [],
   "source": [
    "#visualise the differences from Uist for each council area\n",
    "like_df = (pd.DataFrame.from_dict(image_dict, orient='index', columns=['Value'])\n",
    "            .reset_index()\n",
    "            .sort_values('Value', ascending=False))\n",
    "\n",
    "like_df.plot(x='index', y='Value', kind='barh', legend=False, figsize=(14,10), colormap='tab20c')"
   ]
  },
  {
   "cell_type": "markdown",
   "metadata": {},
   "source": [
    "#### Get the image resulting from the difference of two images"
   ]
  },
  {
   "cell_type": "code",
   "execution_count": 6,
   "metadata": {},
   "outputs": [],
   "source": [
    "from PIL import ImageChops, Image"
   ]
  },
  {
   "cell_type": "code",
   "execution_count": 7,
   "metadata": {},
   "outputs": [],
   "source": [
    "img_1 = Image.open('images/Scotland_2001.png').convert('RGB')\n",
    "img_2 = Image.open('images/Scotland_2016.png').convert('RGB')"
   ]
  },
  {
   "cell_type": "code",
   "execution_count": 8,
   "metadata": {},
   "outputs": [],
   "source": [
    "diff = ImageChops.difference(img_1, img_2)"
   ]
  },
  {
   "cell_type": "code",
   "execution_count": 10,
   "metadata": {},
   "outputs": [],
   "source": [
    "diff.save('image_diff.png')"
   ]
  }
 ],
 "metadata": {
  "kernelspec": {
   "display_name": "Python 3",
   "language": "python",
   "name": "python3"
  },
  "language_info": {
   "codemirror_mode": {
    "name": "ipython",
    "version": 3
   },
   "file_extension": ".py",
   "mimetype": "text/x-python",
   "name": "python",
   "nbconvert_exporter": "python",
   "pygments_lexer": "ipython3",
   "version": "3.6.4"
  }
 },
 "nbformat": 4,
 "nbformat_minor": 2
}
