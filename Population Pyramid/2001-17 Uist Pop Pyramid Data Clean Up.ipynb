{
 "cells": [
  {
   "cell_type": "code",
   "execution_count": 1,
   "metadata": {},
   "outputs": [],
   "source": [
    "import pandas as pd\n",
    "import os"
   ]
  },
  {
   "cell_type": "code",
   "execution_count": 2,
   "metadata": {},
   "outputs": [],
   "source": [
    "#there are other two extra files in the folder we don't need\n",
    "excel_to_merge = ['data/{}'.format(x) for x in os.listdir('data')[:-3]]"
   ]
  },
  {
   "cell_type": "code",
   "execution_count": 3,
   "metadata": {},
   "outputs": [],
   "source": [
    "#initialise the empty df\n",
    "final = pd.DataFrame(columns=['Year', 'Gender', 'Age_Bands', 'Population'])"
   ]
  },
  {
   "cell_type": "code",
   "execution_count": 4,
   "metadata": {
    "scrolled": true
   },
   "outputs": [
    {
     "name": "stdout",
     "output_type": "stream",
     "text": [
      "done\n",
      "done\n",
      "done\n",
      "done\n"
     ]
    }
   ],
   "source": [
    "for path in excel_to_merge:\n",
    "    df = pd.read_excel(path)\n",
    "    #'cause someone forgot to remove footnotes!\n",
    "    df = df.iloc[:-5,]\n",
    "    mask = df['Data Zone'].str.contains('S0100234[1-7]')\n",
    "    age_cols = df.columns.values[3:]\n",
    "    temp = df[mask].melt(id_vars=['Data Zone', 'Year', 'Gender'], value_vars=age_cols,\n",
    "                       var_name='Age_Bands', value_name='Population')\n",
    "    temp.loc[:,'Age_Bands'] = temp['Age_Bands'].str.strip()\n",
    "    temp = (temp.groupby(['Year', 'Gender', 'Age_Bands'])['Population']\n",
    "         .sum()\n",
    "         .reset_index(name='Population'))\n",
    "     \n",
    "    final = pd.concat([final, temp], sort=True)\n",
    "    print('done')"
   ]
  },
  {
   "cell_type": "code",
   "execution_count": 5,
   "metadata": {},
   "outputs": [],
   "source": [
    "final['Area'] = 'Uist'\n",
    "final['Year'] = final['Year'].astype('int').astype('str')\n",
    "final.replace({'Age_Bands':{'90 & over':'90+'}}, inplace=True)"
   ]
  },
  {
   "cell_type": "code",
   "execution_count": 6,
   "metadata": {},
   "outputs": [],
   "source": [
    "#add uist 2016 data - bearing in mind that the age bands are different.\n",
    "df_2016 = (pd.read_csv('data/pyramid_data.csv')\n",
    "            .groupby(['Age_Bands', 'Area', 'Gender'])['Population']\n",
    "            .sum()\n",
    "            .reset_index(name='Population'))"
   ]
  },
  {
   "cell_type": "code",
   "execution_count": 7,
   "metadata": {},
   "outputs": [],
   "source": [
    "df_2016 = df_2016[df_2016['Area'] == 'Uist']"
   ]
  },
  {
   "cell_type": "code",
   "execution_count": 8,
   "metadata": {},
   "outputs": [],
   "source": [
    "df_2016['Year'] = '2016'"
   ]
  },
  {
   "cell_type": "code",
   "execution_count": 10,
   "metadata": {},
   "outputs": [],
   "source": [
    "final = pd.concat([final, df_2016], sort=True)"
   ]
  },
  {
   "cell_type": "code",
   "execution_count": 11,
   "metadata": {},
   "outputs": [],
   "source": [
    "final.to_csv('data/uist_time_pop_pyramid.csv', index=False)"
   ]
  },
  {
   "cell_type": "markdown",
   "metadata": {},
   "source": [
    "#### Clean up function for data downloaded from statistics.gov.scot"
   ]
  },
  {
   "cell_type": "code",
   "execution_count": null,
   "metadata": {},
   "outputs": [],
   "source": [
    "def data_merge(df_male, df_female, year):\n",
    "    df_m = df_male.copy()\n",
    "    df_f = df_female.copy()\n",
    "    \n",
    "    def data_clean(dataframe, gender):\n",
    "        df = dataframe.copy()\n",
    "        df['DZ'] = df.iloc[:,0].str[52:]\n",
    "        mask = df['DZ'].str.contains('S0100234[1-7]')\n",
    "        df = df[mask].iloc[:,6:].assign(Gender=gender)\n",
    "        return df\n",
    "    \n",
    "    df_m = data_clean(df_m, 'Male')\n",
    "    df_f = data_clean(df_f, 'Female')\n",
    "    \n",
    "    df = pd.concat([df_m, df_f])\n",
    "    df['Year'] = year\n",
    "    age_cols = df.columns.values[:-3]\n",
    "    df = (df.melt(id_vars=['DZ', 'Year', 'Gender'], value_vars=age_cols,\n",
    "                    var_name='Age_Bands', value_name='Population')\n",
    "            .groupby(['Year', 'Gender', 'Age_Bands'])['Population']\n",
    "                    .sum()\n",
    "                    .reset_index(name='Population')\n",
    "            .replace({'Age_Bands':{'90 And Over':'90+'}}))\n",
    "    \n",
    "    return df"
   ]
  },
  {
   "cell_type": "code",
   "execution_count": null,
   "metadata": {},
   "outputs": [],
   "source": [
    "m = pd.read_csv(r'C:\\Users\\germap01\\Desktop\\data\\2009_male.csv',skiprows=8)\n",
    "f = pd.read_csv(r'C:\\Users\\germap01\\Desktop\\data\\2009_female.csv',skiprows=8)\n",
    "data_merge(m, f, '2009').to_csv('2009_clean.csv', index=False)"
   ]
  }
 ],
 "metadata": {
  "kernelspec": {
   "display_name": "Python 3",
   "language": "python",
   "name": "python3"
  },
  "language_info": {
   "codemirror_mode": {
    "name": "ipython",
    "version": 3
   },
   "file_extension": ".py",
   "mimetype": "text/x-python",
   "name": "python",
   "nbconvert_exporter": "python",
   "pygments_lexer": "ipython3",
   "version": "3.6.4"
  }
 },
 "nbformat": 4,
 "nbformat_minor": 2
}
