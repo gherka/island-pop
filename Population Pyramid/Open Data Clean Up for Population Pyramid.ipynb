{
 "cells": [
  {
   "cell_type": "code",
   "execution_count": 1,
   "metadata": {},
   "outputs": [],
   "source": [
    "import pandas as pd"
   ]
  },
  {
   "cell_type": "markdown",
   "metadata": {},
   "source": [
    "#### Clean up function for population data downloaded from statistics.gov.scot\n",
    "##### You can only export a single gender so this functions helps to combine the two downloaded files into one"
   ]
  },
  {
   "cell_type": "code",
   "execution_count": 2,
   "metadata": {},
   "outputs": [],
   "source": [
    "def data_merge(df_male, df_female, year):\n",
    "\n",
    "    df_m = df_male.copy()\n",
    "    df_f = df_female.copy()\n",
    "    \n",
    "    def data_clean(dataframe, gender):\n",
    "        df = dataframe.copy()\n",
    "        df['DZ'] = df.iloc[:,0].str[52:]\n",
    "        #remove # to uncomment the correct datazone mask\n",
    "        mask = df['DZ'].str.contains('S0100234[1-7]') #2001 Uist datazones\n",
    "        #mask = df['DZ'].str.contains('S010090([1][6-9]|[2][0-2])') #2011 Uist datazones\n",
    "        df = df[mask].iloc[:,6:].assign(Gender=gender)\n",
    "        return df\n",
    "    \n",
    "    df_m = data_clean(df_m, 'Male')\n",
    "    df_f = data_clean(df_f, 'Female')\n",
    "    \n",
    "    df = pd.concat([df_m, df_f])\n",
    "    df['Year'] = year\n",
    "    age_cols = df.columns.values[:-3]\n",
    "    df = (df.melt(id_vars=['DZ', 'Year', 'Gender'], value_vars=age_cols,\n",
    "                    var_name='Age_Bands', value_name='Population')\n",
    "            .groupby(['Year', 'Gender', 'Age_Bands'])['Population']\n",
    "                    .sum()\n",
    "                    .reset_index(name='Population')\n",
    "            .replace({'Age_Bands':{'90 And Over':'90+'}}))\n",
    "    \n",
    "    return df"
   ]
  },
  {
   "cell_type": "code",
   "execution_count": 3,
   "metadata": {},
   "outputs": [],
   "source": [
    "#As an example, I've downloaded 2001 and 2009 files; this script will merge them into one CSV\n",
    "\n",
    "m = pd.read_csv(r'data\\open data downloads\\2009_male.csv',skiprows=8)\n",
    "f = pd.read_csv(r'data\\open data downloads\\2009_female.csv',skiprows=8)\n",
    "data_merge(m, f, '2009').to_csv(r'data\\2009_clean.csv', index=False)"
   ]
  }
 ],
 "metadata": {
  "kernelspec": {
   "display_name": "Python 3",
   "language": "python",
   "name": "python3"
  },
  "language_info": {
   "codemirror_mode": {
    "name": "ipython",
    "version": 3
   },
   "file_extension": ".py",
   "mimetype": "text/x-python",
   "name": "python",
   "nbconvert_exporter": "python",
   "pygments_lexer": "ipython3",
   "version": "3.6.4"
  }
 },
 "nbformat": 4,
 "nbformat_minor": 2
}
